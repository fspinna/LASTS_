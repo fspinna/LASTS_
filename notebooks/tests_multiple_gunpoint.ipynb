{
 "cells": [
  {
   "cell_type": "code",
   "execution_count": 1,
   "metadata": {},
   "outputs": [],
   "source": [
    "import os,sys,inspect\n",
    "currentdir = os.path.dirname(os.path.abspath(inspect.getfile(inspect.currentframe())))\n",
    "parentdir = os.path.dirname(currentdir)\n",
    "sys.path.insert(0,parentdir)"
   ]
  },
  {
   "cell_type": "code",
   "execution_count": 2,
   "metadata": {},
   "outputs": [
    {
     "name": "stderr",
     "output_type": "stream",
     "text": [
      "Using TensorFlow backend.\n",
      "/Users/francesco/anaconda3/envs/lasts_01/lib/python3.6/site-packages/tensorflow/python/framework/dtypes.py:526: FutureWarning: Passing (type, 1) or '1type' as a synonym of type is deprecated; in a future version of numpy, it will be understood as (type, (1,)) / '(1,)type'.\n",
      "  _np_qint8 = np.dtype([(\"qint8\", np.int8, 1)])\n",
      "/Users/francesco/anaconda3/envs/lasts_01/lib/python3.6/site-packages/tensorflow/python/framework/dtypes.py:527: FutureWarning: Passing (type, 1) or '1type' as a synonym of type is deprecated; in a future version of numpy, it will be understood as (type, (1,)) / '(1,)type'.\n",
      "  _np_quint8 = np.dtype([(\"quint8\", np.uint8, 1)])\n",
      "/Users/francesco/anaconda3/envs/lasts_01/lib/python3.6/site-packages/tensorflow/python/framework/dtypes.py:528: FutureWarning: Passing (type, 1) or '1type' as a synonym of type is deprecated; in a future version of numpy, it will be understood as (type, (1,)) / '(1,)type'.\n",
      "  _np_qint16 = np.dtype([(\"qint16\", np.int16, 1)])\n",
      "/Users/francesco/anaconda3/envs/lasts_01/lib/python3.6/site-packages/tensorflow/python/framework/dtypes.py:529: FutureWarning: Passing (type, 1) or '1type' as a synonym of type is deprecated; in a future version of numpy, it will be understood as (type, (1,)) / '(1,)type'.\n",
      "  _np_quint16 = np.dtype([(\"quint16\", np.uint16, 1)])\n",
      "/Users/francesco/anaconda3/envs/lasts_01/lib/python3.6/site-packages/tensorflow/python/framework/dtypes.py:530: FutureWarning: Passing (type, 1) or '1type' as a synonym of type is deprecated; in a future version of numpy, it will be understood as (type, (1,)) / '(1,)type'.\n",
      "  _np_qint32 = np.dtype([(\"qint32\", np.int32, 1)])\n",
      "/Users/francesco/anaconda3/envs/lasts_01/lib/python3.6/site-packages/tensorflow/python/framework/dtypes.py:535: FutureWarning: Passing (type, 1) or '1type' as a synonym of type is deprecated; in a future version of numpy, it will be understood as (type, (1,)) / '(1,)type'.\n",
      "  np_resource = np.dtype([(\"resource\", np.ubyte, 1)])\n",
      "/Users/francesco/anaconda3/envs/lasts_01/lib/python3.6/site-packages/sklearn/utils/deprecation.py:143: FutureWarning: The sklearn.neighbors.base module is  deprecated in version 0.22 and will be removed in version 0.24. The corresponding classes / functions should instead be imported from sklearn.neighbors. Anything that cannot be imported from sklearn.neighbors is now part of the private API.\n",
      "  warnings.warn(message, FutureWarning)\n",
      "/Users/francesco/anaconda3/envs/lasts_01/lib/python3.6/site-packages/sklearn/utils/deprecation.py:143: FutureWarning: The sklearn.ensemble.bagging module is  deprecated in version 0.22 and will be removed in version 0.24. The corresponding classes / functions should instead be imported from sklearn.ensemble. Anything that cannot be imported from sklearn.ensemble is now part of the private API.\n",
      "  warnings.warn(message, FutureWarning)\n",
      "/Users/francesco/anaconda3/envs/lasts_01/lib/python3.6/site-packages/sklearn/utils/deprecation.py:143: FutureWarning: The sklearn.ensemble.base module is  deprecated in version 0.22 and will be removed in version 0.24. The corresponding classes / functions should instead be imported from sklearn.ensemble. Anything that cannot be imported from sklearn.ensemble is now part of the private API.\n",
      "  warnings.warn(message, FutureWarning)\n",
      "/Users/francesco/anaconda3/envs/lasts_01/lib/python3.6/site-packages/sklearn/utils/deprecation.py:143: FutureWarning: The sklearn.ensemble.forest module is  deprecated in version 0.22 and will be removed in version 0.24. The corresponding classes / functions should instead be imported from sklearn.ensemble. Anything that cannot be imported from sklearn.ensemble is now part of the private API.\n",
      "  warnings.warn(message, FutureWarning)\n",
      "/Users/francesco/anaconda3/envs/lasts_01/lib/python3.6/site-packages/sklearn/utils/deprecation.py:143: FutureWarning: The sklearn.utils.testing module is  deprecated in version 0.22 and will be removed in version 0.24. The corresponding classes / functions should instead be imported from sklearn.utils. Anything that cannot be imported from sklearn.utils is now part of the private API.\n",
      "  warnings.warn(message, FutureWarning)\n",
      "/Users/francesco/anaconda3/envs/lasts_01/lib/python3.6/site-packages/sklearn/utils/deprecation.py:143: FutureWarning: The sklearn.metrics.classification module is  deprecated in version 0.22 and will be removed in version 0.24. The corresponding classes / functions should instead be imported from sklearn.metrics. Anything that cannot be imported from sklearn.metrics is now part of the private API.\n",
      "  warnings.warn(message, FutureWarning)\n",
      "/Users/francesco/anaconda3/envs/lasts_01/lib/python3.6/site-packages/sklearn/utils/deprecation.py:143: FutureWarning: The sklearn.cluster.k_means_ module is  deprecated in version 0.22 and will be removed in version 0.24. The corresponding classes / functions should instead be imported from sklearn.cluster. Anything that cannot be imported from sklearn.cluster is now part of the private API.\n",
      "  warnings.warn(message, FutureWarning)\n"
     ]
    }
   ],
   "source": [
    "from blackbox_wrapper import BlackboxWrapper\n",
    "import keras\n",
    "from datasets import build_gunpoint\n",
    "from variational_autoencoder import load_model\n",
    "from neighborhood_generators import NeighborhoodGenerator\n",
    "from lore_wrapper import LoreWrapper\n",
    "from utils import choose_z\n",
    "from joblib import load\n",
    "from lasts import load_multiple_lasts\n",
    "import time\n",
    "import numpy as np\n",
    "from experiments_neighborhoods_surrogates import multiple_tests\n",
    "from sbgdt import Sbgdt, generate_n_shapelets_per_size\n",
    "from saxdt import Saxdt"
   ]
  },
  {
   "cell_type": "code",
   "execution_count": 3,
   "metadata": {},
   "outputs": [
    {
     "name": "stdout",
     "output_type": "stream",
     "text": [
      "DATASET INFO:\n",
      "X SHAPE:  (50, 150, 1)\n",
      "y SHAPE:  (50,)\n",
      "\n",
      "CLASSES BALANCE\n",
      "0 :  0.48\n",
      "1 :  0.52\n",
      "\n",
      "SHAPES:\n",
      "BLACKBOX TRAINING SET:  (40, 150, 1)\n",
      "BLACKBOX VALIDATION SET:  (10, 150, 1)\n",
      "BLACKBOX TEST SET:  (150, 150, 1)\n",
      "EXPLANATION TRAINING SET:  (40, 150, 1)\n",
      "EXPLANATION VALIDATION SET:  (10, 150, 1)\n",
      "EXPLANATION TEST SET:  (150, 150, 1)\n",
      "\n",
      "Blackbox and Explanation sets are the same!\n",
      "WARNING:tensorflow:From /Users/francesco/anaconda3/envs/lasts_01/lib/python3.6/site-packages/tensorflow/python/framework/op_def_library.py:263: colocate_with (from tensorflow.python.framework.ops) is deprecated and will be removed in a future version.\n",
      "Instructions for updating:\n",
      "Colocations handled automatically by placer.\n",
      "WARNING:tensorflow:From /Users/francesco/anaconda3/envs/lasts_01/lib/python3.6/site-packages/tensorflow/python/ops/math_ops.py:3066: to_int32 (from tensorflow.python.ops.math_ops) is deprecated and will be removed in a future version.\n",
      "Instructions for updating:\n",
      "Use tf.cast instead.\n"
     ]
    }
   ],
   "source": [
    "random_state = 0\n",
    "np.random.seed(random_state)\n",
    "dataset_name = \"gunpoint\"\n",
    "blackbox_name = \"knn\"\n",
    "\n",
    "file_path = parentdir + \"/saved/\" + dataset_name + \"_\" + blackbox_name + \"_\" + time.strftime(\"%Y%m%d_%H%M%S\")\n",
    "\n",
    "(X_train, y_train, X_val, y_val,\n",
    " X_test, y_test, X_exp_train, y_exp_train,\n",
    " X_exp_val, y_exp_val, X_exp_test, y_exp_test) = build_gunpoint(\n",
    "    random_state = random_state\n",
    ")\n",
    "\n",
    "resnet = keras.models.load_model(parentdir + \"/trained_models/gunpoint/gunpoint_resnet.h5\")\n",
    "knn = load(parentdir + \"/trained_models/gunpoint/gunpoint_knn.joblib\")\n",
    "\n",
    "_, _, autoencoder = load_model(parentdir + \"/trained_models/gunpoint/gunpoint_vae\")\n",
    "\n",
    "blackbox = BlackboxWrapper(resnet, 3, 2)\n",
    "blackbox = BlackboxWrapper(knn, 2, 1)\n",
    "encoder = autoencoder.layers[2]\n",
    "decoder = autoencoder.layers[3]"
   ]
  },
  {
   "cell_type": "code",
   "execution_count": 4,
   "metadata": {},
   "outputs": [],
   "source": [
    "neighborhood_names = [\"gaussian_matched\", \"uniform_sphere\", \"gaussian\", \"matched_uniform\", \"lore\"]\n",
    "neighborhood_list = [NeighborhoodGenerator, NeighborhoodGenerator, NeighborhoodGenerator, NeighborhoodGenerator, LoreWrapper]\n",
    "neighborhood_kwargs_list = [\n",
    "        {\n",
    "            \"n\": 500,\n",
    "            \"n_search\": 10000,\n",
    "            \"threshold\": 2,\n",
    "            \"kind\": \"gaussian_matched\",\n",
    "            \"sampling_kind\": \"gaussian_matched\",\n",
    "            \"verbose\": False,\n",
    "            \"redo_search\": True,\n",
    "            \"forced_balance_ratio\": 0.5,\n",
    "            \"cut_radius\": False\n",
    "        },\n",
    "        {\n",
    "            \"n\": 500,\n",
    "            \"n_search\": 10000,\n",
    "            \"threshold\": 2,\n",
    "            \"kind\": \"uniform_sphere\",\n",
    "            \"sampling_kind\": \"uniform_sphere\",\n",
    "            \"verbose\": False,\n",
    "            \"redo_search\": True,\n",
    "            \"forced_balance_ratio\": 0.5,\n",
    "            \"cut_radius\": True\n",
    "        },\n",
    "        {\n",
    "            \"n\": 500,\n",
    "            \"n_search\": 10000,\n",
    "            \"threshold\": 2,\n",
    "            \"kind\": \"gaussian\",\n",
    "            \"sampling_kind\": \"gaussian\",\n",
    "            \"verbose\": False,\n",
    "            \"redo_search\": True,\n",
    "            \"forced_balance_ratio\": 0.5,\n",
    "            \"cut_radius\": False\n",
    "        },\n",
    "        {\n",
    "            \"n\": 500,\n",
    "            \"n_search\": 10000,\n",
    "            \"threshold\": 2,\n",
    "            \"kind\": \"gaussian_matched\",\n",
    "            \"sampling_kind\": \"uniform_sphere\",\n",
    "            \"verbose\": False,\n",
    "            \"redo_search\": True,\n",
    "            \"forced_balance_ratio\": 0.5,\n",
    "            \"cut_radius\": True\n",
    "        },\n",
    "        {\"verbose\": False, \"samples\": 500, \"ngen\": 10}\n",
    "    ]"
   ]
  },
  {
   "cell_type": "code",
   "execution_count": 5,
   "metadata": {},
   "outputs": [],
   "source": [
    "n_shapelets_per_size = generate_n_shapelets_per_size(X_train.shape[1], n_shapelets_per_length=2, \n",
    "                                                     min_length=8, start_divider=2, divider_multiplier=1.26)\n",
    "surrogate_kwargs_list = [{\"shapelet_model_params\": {\"max_iter\": 50, \"n_shapelets_per_size\":n_shapelets_per_size}, \n",
    "                          \"random_state\": random_state},\n",
    "                             {\"random_state\": np.random.seed(0), \"create_plotting_dictionaries\":False}]\n",
    "\n",
    "surrogate_list = [Sbgdt, Saxdt]\n",
    "surrogate_names = [\"stdt\", \"saxdt\"]"
   ]
  },
  {
   "cell_type": "code",
   "execution_count": 6,
   "metadata": {
    "scrolled": false,
    "pycharm": {
     "name": "#%%\n"
    }
   },
   "outputs": [
    {
     "ename": "TypeError",
     "evalue": "multiple_tests() missing 1 required positional argument: 'neighborhood_list'",
     "output_type": "error",
     "traceback": [
      "\u001B[0;31m---------------------------------------------------------------------------\u001B[0m",
      "\u001B[0;31mTypeError\u001B[0m                                 Traceback (most recent call last)",
      "\u001B[0;32m<timed exec>\u001B[0m in \u001B[0;36m<module>\u001B[0;34m\u001B[0m\n",
      "\u001B[0;31mTypeError\u001B[0m: multiple_tests() missing 1 required positional argument: 'neighborhood_list'"
     ]
    }
   ],
   "source": [
    "%%time\n",
    "out = multiple_tests(\n",
    "        X_exp_test[::3],\n",
    "        blackbox,\n",
    "        encoder,\n",
    "        decoder,\n",
    "        neighborhood_list=neighborhood_list,\n",
    "        neighborhood_kwargs_list=neighborhood_kwargs_list,\n",
    "        neighborhood_names=neighborhood_names,\n",
    "        surrogate_list=surrogate_list,\n",
    "        surrogate_kwargs_list=surrogate_kwargs_list,\n",
    "        surrogate_names=surrogate_names,\n",
    "        file_path=file_path,\n",
    "        random_state=random_state,\n",
    "        n_instances_to_explain=1,\n",
    "        verbose=True,\n",
    "        simple_dump=[False, True],\n",
    "        boxplots=True,\n",
    "        labels=[\"Gun\", \"Point\"]\n",
    ")"
   ]
  }
 ],
 "metadata": {
  "kernelspec": {
   "display_name": "Python 3",
   "language": "python",
   "name": "python3"
  },
  "language_info": {
   "codemirror_mode": {
    "name": "ipython",
    "version": 3
   },
   "file_extension": ".py",
   "mimetype": "text/x-python",
   "name": "python",
   "nbconvert_exporter": "python",
   "pygments_lexer": "ipython3",
   "version": "3.6.10"
  }
 },
 "nbformat": 4,
 "nbformat_minor": 2
}