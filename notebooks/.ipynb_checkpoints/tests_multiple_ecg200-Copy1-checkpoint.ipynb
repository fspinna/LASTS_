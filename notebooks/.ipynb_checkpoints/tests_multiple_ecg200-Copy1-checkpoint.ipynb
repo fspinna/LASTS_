{
 "cells": [
  {
   "cell_type": "code",
   "execution_count": 1,
   "metadata": {},
   "outputs": [],
   "source": [
    "import os,sys,inspect\n",
    "currentdir = os.path.dirname(os.path.abspath(inspect.getfile(inspect.currentframe())))\n",
    "parentdir = os.path.dirname(currentdir)\n",
    "sys.path.insert(0,parentdir)"
   ]
  },
  {
   "cell_type": "code",
   "execution_count": 2,
   "metadata": {},
   "outputs": [
    {
     "name": "stderr",
     "output_type": "stream",
     "text": [
      "Using TensorFlow backend.\n",
      "/Users/francesco/anaconda3/envs/tesi/lib/python3.6/site-packages/tensorflow/python/framework/dtypes.py:526: FutureWarning: Passing (type, 1) or '1type' as a synonym of type is deprecated; in a future version of numpy, it will be understood as (type, (1,)) / '(1,)type'.\n",
      "  _np_qint8 = np.dtype([(\"qint8\", np.int8, 1)])\n",
      "/Users/francesco/anaconda3/envs/tesi/lib/python3.6/site-packages/tensorflow/python/framework/dtypes.py:527: FutureWarning: Passing (type, 1) or '1type' as a synonym of type is deprecated; in a future version of numpy, it will be understood as (type, (1,)) / '(1,)type'.\n",
      "  _np_quint8 = np.dtype([(\"quint8\", np.uint8, 1)])\n",
      "/Users/francesco/anaconda3/envs/tesi/lib/python3.6/site-packages/tensorflow/python/framework/dtypes.py:528: FutureWarning: Passing (type, 1) or '1type' as a synonym of type is deprecated; in a future version of numpy, it will be understood as (type, (1,)) / '(1,)type'.\n",
      "  _np_qint16 = np.dtype([(\"qint16\", np.int16, 1)])\n",
      "/Users/francesco/anaconda3/envs/tesi/lib/python3.6/site-packages/tensorflow/python/framework/dtypes.py:529: FutureWarning: Passing (type, 1) or '1type' as a synonym of type is deprecated; in a future version of numpy, it will be understood as (type, (1,)) / '(1,)type'.\n",
      "  _np_quint16 = np.dtype([(\"quint16\", np.uint16, 1)])\n",
      "/Users/francesco/anaconda3/envs/tesi/lib/python3.6/site-packages/tensorflow/python/framework/dtypes.py:530: FutureWarning: Passing (type, 1) or '1type' as a synonym of type is deprecated; in a future version of numpy, it will be understood as (type, (1,)) / '(1,)type'.\n",
      "  _np_qint32 = np.dtype([(\"qint32\", np.int32, 1)])\n",
      "/Users/francesco/anaconda3/envs/tesi/lib/python3.6/site-packages/tensorflow/python/framework/dtypes.py:535: FutureWarning: Passing (type, 1) or '1type' as a synonym of type is deprecated; in a future version of numpy, it will be understood as (type, (1,)) / '(1,)type'.\n",
      "  np_resource = np.dtype([(\"resource\", np.ubyte, 1)])\n",
      "/Users/francesco/anaconda3/envs/tesi/lib/python3.6/site-packages/sklearn/utils/deprecation.py:143: FutureWarning: The sklearn.neighbors.base module is  deprecated in version 0.22 and will be removed in version 0.24. The corresponding classes / functions should instead be imported from sklearn.neighbors. Anything that cannot be imported from sklearn.neighbors is now part of the private API.\n",
      "  warnings.warn(message, FutureWarning)\n",
      "/Users/francesco/anaconda3/envs/tesi/lib/python3.6/site-packages/sklearn/utils/deprecation.py:143: FutureWarning: The sklearn.ensemble.bagging module is  deprecated in version 0.22 and will be removed in version 0.24. The corresponding classes / functions should instead be imported from sklearn.ensemble. Anything that cannot be imported from sklearn.ensemble is now part of the private API.\n",
      "  warnings.warn(message, FutureWarning)\n",
      "/Users/francesco/anaconda3/envs/tesi/lib/python3.6/site-packages/sklearn/utils/deprecation.py:143: FutureWarning: The sklearn.ensemble.base module is  deprecated in version 0.22 and will be removed in version 0.24. The corresponding classes / functions should instead be imported from sklearn.ensemble. Anything that cannot be imported from sklearn.ensemble is now part of the private API.\n",
      "  warnings.warn(message, FutureWarning)\n",
      "/Users/francesco/anaconda3/envs/tesi/lib/python3.6/site-packages/sklearn/utils/deprecation.py:143: FutureWarning: The sklearn.ensemble.forest module is  deprecated in version 0.22 and will be removed in version 0.24. The corresponding classes / functions should instead be imported from sklearn.ensemble. Anything that cannot be imported from sklearn.ensemble is now part of the private API.\n",
      "  warnings.warn(message, FutureWarning)\n",
      "/Users/francesco/anaconda3/envs/tesi/lib/python3.6/site-packages/sklearn/utils/deprecation.py:143: FutureWarning: The sklearn.utils.testing module is  deprecated in version 0.22 and will be removed in version 0.24. The corresponding classes / functions should instead be imported from sklearn.utils. Anything that cannot be imported from sklearn.utils is now part of the private API.\n",
      "  warnings.warn(message, FutureWarning)\n",
      "/Users/francesco/anaconda3/envs/tesi/lib/python3.6/site-packages/sklearn/utils/deprecation.py:143: FutureWarning: The sklearn.metrics.classification module is  deprecated in version 0.22 and will be removed in version 0.24. The corresponding classes / functions should instead be imported from sklearn.metrics. Anything that cannot be imported from sklearn.metrics is now part of the private API.\n",
      "  warnings.warn(message, FutureWarning)\n",
      "/Users/francesco/anaconda3/envs/tesi/lib/python3.6/site-packages/sklearn/utils/deprecation.py:143: FutureWarning: The sklearn.cluster.k_means_ module is  deprecated in version 0.22 and will be removed in version 0.24. The corresponding classes / functions should instead be imported from sklearn.cluster. Anything that cannot be imported from sklearn.cluster is now part of the private API.\n",
      "  warnings.warn(message, FutureWarning)\n"
     ]
    }
   ],
   "source": [
    "from blackbox_wrapper import BlackboxWrapper\n",
    "import keras\n",
    "from datasets import build_ecg200\n",
    "from variational_autoencoder import load_model\n",
    "from neighborhood_generators import NeighborhoodGenerator\n",
    "from utils import choose_z\n",
    "from joblib import load\n",
    "from lasts import load_multiple_lasts\n",
    "import time\n",
    "import numpy as np\n",
    "from tests_multiple_lasts import generate_neighborhoods"
   ]
  },
  {
   "cell_type": "code",
   "execution_count": 8,
   "metadata": {},
   "outputs": [
    {
     "name": "stdout",
     "output_type": "stream",
     "text": [
      "DATASET INFO:\n",
      "X SHAPE:  (100, 96, 1)\n",
      "y SHAPE:  (100,)\n",
      "\n",
      "CLASSES BALANCE\n",
      "0 :  0.31\n",
      "1 :  0.69\n",
      "\n",
      "SHAPES:\n",
      "BLACKBOX TRAINING SET:  (80, 96, 1)\n",
      "BLACKBOX VALIDATION SET:  (20, 96, 1)\n",
      "BLACKBOX TEST SET:  (100, 96, 1)\n",
      "EXPLANATION TRAINING SET:  (80, 96, 1)\n",
      "EXPLANATION VALIDATION SET:  (20, 96, 1)\n",
      "EXPLANATION TEST SET:  (100, 96, 1)\n",
      "WARNING:tensorflow:From /Users/francesco/anaconda3/envs/tesi/lib/python3.6/site-packages/tensorflow/python/framework/op_def_library.py:263: colocate_with (from tensorflow.python.framework.ops) is deprecated and will be removed in a future version.\n",
      "Instructions for updating:\n",
      "Colocations handled automatically by placer.\n"
     ]
    },
    {
     "name": "stderr",
     "output_type": "stream",
     "text": [
      "/Users/francesco/github/LASTS/datasets.py:578: UserWarning: Blackbox and Explanation sets are the same\n",
      "  warnings.warn(\"Blackbox and Explanation sets are the same\")\n"
     ]
    }
   ],
   "source": [
    "random_state = 0\n",
    "np.random.seed(random_state)\n",
    "dataset_name = \"ecg200\"\n",
    "\n",
    "file_path = parentdir + \"/saved/\" + dataset_name + \"_\" + time.strftime(\"%Y%m%d_%H%M%S\")\n",
    "\n",
    "(X_train, y_train, X_val, y_val,\n",
    " X_test, y_test, X_exp_train, y_exp_train,\n",
    " X_exp_val, y_exp_val, X_exp_test, y_exp_test) = build_ecg200(\n",
    "    path=parentdir + \"/datasets/ecg200/\",\n",
    "    random_state = random_state\n",
    ")\n",
    "\n",
    "knn = load(parentdir + \"/trained_models/ecg200/ecg200_knn.joblib\")\n",
    "\n",
    "_, _, autoencoder = load_model(parentdir + \"/trained_models/ecg200/ecg200_vae\")\n",
    "\n",
    "blackbox = BlackboxWrapper(knn, 2, 1)\n",
    "encoder = autoencoder.layers[2]\n",
    "decoder = autoencoder.layers[3]\n",
    "\n",
    "neigh_kwargs = {\n",
    "    \"balance\": False,\n",
    "    \"n\": 500,\n",
    "    \"n_search\": 10000,\n",
    "    \"threshold\": 2,\n",
    "    \"kind\": \"uniform_sphere\",\n",
    "    \"vicinity_sampler_kwargs\": {\"distribution\": np.random.normal, \"distribution_kwargs\": dict()},\n",
    "    \"verbose\": True,\n",
    "    \"stopping_ratio\": 0.01,\n",
    "    \"downward_only\": True,\n",
    "    \"redo_search\": True,\n",
    "    \"forced_balance_ratio\": 0.5\n",
    "}\n",
    "\n",
    "surrogate_kwargs = {\n",
    "    \"shapelet_model_params\": {\"max_iter\": 50},\n",
    "    \"binarize_labels\": True,\n",
    "    \"random_state\": random_state\n",
    "}\n"
   ]
  },
  {
   "cell_type": "code",
   "execution_count": 10,
   "metadata": {},
   "outputs": [
    {
     "name": "stdout",
     "output_type": "stream",
     "text": [
      "Accuracy: 1.0 ± 0.0\n",
      "1.0\n",
      "Binary sampling search:\n",
      "   Testing threshold value: 2.0\n",
      "   Testing threshold value: 1.0\n",
      "   Best threshold found: 2.0\n",
      "   Final counterfactual search... (this could take a while) Done!\n",
      "\n",
      "Sampling --> uniform_sphere\n",
      "\n",
      "LABELS BALANCE\n",
      "0 :  0.31\n",
      "1 :  0.69\n",
      "\n",
      "BINARY BALANCE\n",
      "not-1 :  0.31\n",
      "1 :  0.69\n",
      "WARNING:tensorflow:From /Users/francesco/anaconda3/envs/tesi/lib/python3.6/site-packages/tensorflow/python/ops/math_ops.py:3066: to_int32 (from tensorflow.python.ops.math_ops) is deprecated and will be removed in a future version.\n",
      "Instructions for updating:\n",
      "Use tf.cast instead.\n",
      "WARNING:tensorflow:From /Users/francesco/anaconda3/envs/tesi/lib/python3.6/site-packages/tensorflow/python/ops/math_grad.py:102: div (from tensorflow.python.ops.math_ops) is deprecated and will be removed in a future version.\n",
      "Instructions for updating:\n",
      "Deprecated in favor of operator or tf.math.divide.\n",
      "\n",
      "LABELS BALANCE\n",
      "0 :  0.21\n",
      "1 :  0.79\n",
      "\n",
      "BINARY BALANCE\n",
      "not-1 :  0.21\n",
      "1 :  0.79\n",
      "\n",
      "\n",
      " 1 / 100\n",
      "CPU times: user 21min 38s, sys: 13.3 s, total: 21min 52s\n",
      "Wall time: 7min 56s\n"
     ]
    }
   ],
   "source": [
    "%%time\n",
    "out = generate_neighborhoods(\n",
    "    X_exp_test,\n",
    "    blackbox,\n",
    "    encoder,\n",
    "    decoder,\n",
    "    neigh_kwargs,\n",
    "    surrogate_kwargs,\n",
    "    file_path=file_path,\n",
    "    random_state=0,\n",
    "    n_instances_to_explain=None,\n",
    "    verbose=True,\n",
    "    labels=[\"abnormal\", \"normal\"],\n",
    ")"
   ]
  },
  {
   "cell_type": "code",
   "execution_count": 24,
   "metadata": {},
   "outputs": [
    {
     "name": "stdout",
     "output_type": "stream",
     "text": [
      "1 / 100\n",
      "2 / 100\n",
      "3 / 100\n",
      "4 / 100\n",
      "5 / 100\n",
      "6 / 100\n",
      "7 / 100\n",
      "8 / 100\n",
      "9 / 100\n",
      "10 / 100\n",
      "11 / 100\n",
      "12 / 100\n",
      "13 / 100\n",
      "14 / 100\n",
      "15 / 100\n",
      "16 / 100\n",
      "17 / 100\n",
      "18 / 100\n",
      "19 / 100\n",
      "20 / 100\n",
      "21 / 100\n",
      "22 / 100\n",
      "23 / 100\n",
      "24 / 100\n",
      "25 / 100\n",
      "26 / 100\n",
      "27 / 100\n",
      "28 / 100\n",
      "29 / 100\n",
      "30 / 100\n",
      "31 / 100\n",
      "32 / 100\n",
      "33 / 100\n",
      "34 / 100\n",
      "35 / 100\n",
      "36 / 100\n",
      "37 / 100\n",
      "38 / 100\n",
      "39 / 100\n",
      "40 / 100\n",
      "41 / 100\n",
      "42 / 100\n",
      "43 / 100\n",
      "44 / 100\n",
      "45 / 100\n",
      "46 / 100\n",
      "47 / 100\n",
      "48 / 100\n",
      "49 / 100\n",
      "50 / 100\n",
      "51 / 100\n",
      "52 / 100\n",
      "53 / 100\n",
      "54 / 100\n",
      "55 / 100\n",
      "56 / 100\n",
      "57 / 100\n",
      "58 / 100\n",
      "59 / 100\n",
      "60 / 100\n",
      "61 / 100\n",
      "62 / 100\n",
      "63 / 100\n",
      "64 / 100\n",
      "65 / 100\n",
      "66 / 100\n",
      "67 / 100\n",
      "68 / 100\n",
      "69 / 100\n",
      "70 / 100\n",
      "71 / 100\n",
      "72 / 100\n",
      "73 / 100\n",
      "74 / 100\n",
      "75 / 100\n",
      "76 / 100\n",
      "77 / 100\n",
      "78 / 100\n",
      "79 / 100\n",
      "80 / 100\n",
      "81 / 100\n",
      "82 / 100\n",
      "83 / 100\n",
      "84 / 100\n",
      "85 / 100\n",
      "86 / 100\n",
      "87 / 100\n",
      "88 / 100\n",
      "89 / 100\n",
      "90 / 100\n",
      "91 / 100\n",
      "92 / 100\n",
      "93 / 100\n",
      "94 / 100\n",
      "95 / 100\n",
      "96 / 100\n",
      "97 / 100\n",
      "98 / 100\n",
      "99 / 100\n",
      "100 / 100\n"
     ]
    }
   ],
   "source": [
    "lasts_list = load_multiple_lasts(\n",
    "    file_path=parentdir + \"/saved/ecg200_20201006_225144/nofilter\", \n",
    "    load_sbgdt_model=True,\n",
    "    locator=False,\n",
    "    model=False,\n",
    "    verbose=True\n",
    ")"
   ]
  },
  {
   "cell_type": "code",
   "execution_count": 27,
   "metadata": {},
   "outputs": [],
   "source": [
    "import pandas as pd\n",
    "from tests_multiple_lasts import dump_metrics "
   ]
  },
  {
   "cell_type": "code",
   "execution_count": 33,
   "metadata": {},
   "outputs": [],
   "source": [
    "metrics_df_nofilter = pd.DataFrame()\n",
    "for i, lasts_ in enumerate(lasts_list):\n",
    "    if i in [14,51]:\n",
    "        continue\n",
    "    metrics = dump_metrics(lasts_)\n",
    "    metrics_df_nofilter = pd.concat([metrics_df_nofilter, pd.DataFrame(metrics, index=[i])])"
   ]
  },
  {
   "cell_type": "code",
   "execution_count": 40,
   "metadata": {},
   "outputs": [],
   "source": []
  },
  {
   "cell_type": "code",
   "execution_count": 36,
   "metadata": {},
   "outputs": [],
   "source": [
    "import importlib\n"
   ]
  },
  {
   "cell_type": "code",
   "execution_count": 38,
   "metadata": {},
   "outputs": [],
   "source": [
    "import utils"
   ]
  },
  {
   "cell_type": "code",
   "execution_count": 55,
   "metadata": {},
   "outputs": [],
   "source": [
    "importlib.reload(utils)\n",
    "from utils import boxplots_from_df_list"
   ]
  },
  {
   "cell_type": "code",
   "execution_count": 34,
   "metadata": {},
   "outputs": [
    {
     "data": {
      "text/html": [
       "<div>\n",
       "<style scoped>\n",
       "    .dataframe tbody tr th:only-of-type {\n",
       "        vertical-align: middle;\n",
       "    }\n",
       "\n",
       "    .dataframe tbody tr th {\n",
       "        vertical-align: top;\n",
       "    }\n",
       "\n",
       "    .dataframe thead th {\n",
       "        text-align: right;\n",
       "    }\n",
       "</style>\n",
       "<table border=\"1\" class=\"dataframe\">\n",
       "  <thead>\n",
       "    <tr style=\"text-align: right;\">\n",
       "      <th></th>\n",
       "      <th>fidelity_neighborhood</th>\n",
       "      <th>fidelity_x</th>\n",
       "      <th>factual_coverage</th>\n",
       "      <th>counterfactual_coverage</th>\n",
       "      <th>factual_precision</th>\n",
       "      <th>counterfactual_precision</th>\n",
       "      <th>factual_length</th>\n",
       "      <th>counterfactual_length</th>\n",
       "    </tr>\n",
       "  </thead>\n",
       "  <tbody>\n",
       "    <tr>\n",
       "      <th>0</th>\n",
       "      <td>0.714</td>\n",
       "      <td>1.0</td>\n",
       "      <td>0.298</td>\n",
       "      <td>0.120</td>\n",
       "      <td>0.758389</td>\n",
       "      <td>0.750000</td>\n",
       "      <td>2</td>\n",
       "      <td>3</td>\n",
       "    </tr>\n",
       "    <tr>\n",
       "      <th>1</th>\n",
       "      <td>0.878</td>\n",
       "      <td>1.0</td>\n",
       "      <td>0.360</td>\n",
       "      <td>0.092</td>\n",
       "      <td>0.961111</td>\n",
       "      <td>0.978261</td>\n",
       "      <td>2</td>\n",
       "      <td>2</td>\n",
       "    </tr>\n",
       "    <tr>\n",
       "      <th>2</th>\n",
       "      <td>0.800</td>\n",
       "      <td>1.0</td>\n",
       "      <td>0.584</td>\n",
       "      <td>0.404</td>\n",
       "      <td>0.760274</td>\n",
       "      <td>0.861386</td>\n",
       "      <td>1</td>\n",
       "      <td>2</td>\n",
       "    </tr>\n",
       "    <tr>\n",
       "      <th>3</th>\n",
       "      <td>0.946</td>\n",
       "      <td>1.0</td>\n",
       "      <td>0.560</td>\n",
       "      <td>0.374</td>\n",
       "      <td>0.971429</td>\n",
       "      <td>0.946524</td>\n",
       "      <td>1</td>\n",
       "      <td>2</td>\n",
       "    </tr>\n",
       "    <tr>\n",
       "      <th>4</th>\n",
       "      <td>0.850</td>\n",
       "      <td>1.0</td>\n",
       "      <td>0.472</td>\n",
       "      <td>0.190</td>\n",
       "      <td>0.919492</td>\n",
       "      <td>0.768421</td>\n",
       "      <td>2</td>\n",
       "      <td>2</td>\n",
       "    </tr>\n",
       "    <tr>\n",
       "      <th>...</th>\n",
       "      <td>...</td>\n",
       "      <td>...</td>\n",
       "      <td>...</td>\n",
       "      <td>...</td>\n",
       "      <td>...</td>\n",
       "      <td>...</td>\n",
       "      <td>...</td>\n",
       "      <td>...</td>\n",
       "    </tr>\n",
       "    <tr>\n",
       "      <th>95</th>\n",
       "      <td>0.758</td>\n",
       "      <td>1.0</td>\n",
       "      <td>0.062</td>\n",
       "      <td>0.004</td>\n",
       "      <td>0.612903</td>\n",
       "      <td>1.000000</td>\n",
       "      <td>5</td>\n",
       "      <td>6</td>\n",
       "    </tr>\n",
       "    <tr>\n",
       "      <th>96</th>\n",
       "      <td>0.724</td>\n",
       "      <td>1.0</td>\n",
       "      <td>0.284</td>\n",
       "      <td>0.004</td>\n",
       "      <td>0.880282</td>\n",
       "      <td>1.000000</td>\n",
       "      <td>3</td>\n",
       "      <td>3</td>\n",
       "    </tr>\n",
       "    <tr>\n",
       "      <th>97</th>\n",
       "      <td>0.854</td>\n",
       "      <td>1.0</td>\n",
       "      <td>0.238</td>\n",
       "      <td>0.004</td>\n",
       "      <td>0.949580</td>\n",
       "      <td>0.500000</td>\n",
       "      <td>5</td>\n",
       "      <td>6</td>\n",
       "    </tr>\n",
       "    <tr>\n",
       "      <th>98</th>\n",
       "      <td>0.818</td>\n",
       "      <td>1.0</td>\n",
       "      <td>0.566</td>\n",
       "      <td>0.434</td>\n",
       "      <td>0.766784</td>\n",
       "      <td>0.884793</td>\n",
       "      <td>1</td>\n",
       "      <td>1</td>\n",
       "    </tr>\n",
       "    <tr>\n",
       "      <th>99</th>\n",
       "      <td>0.890</td>\n",
       "      <td>1.0</td>\n",
       "      <td>0.682</td>\n",
       "      <td>0.318</td>\n",
       "      <td>0.856305</td>\n",
       "      <td>0.962264</td>\n",
       "      <td>1</td>\n",
       "      <td>1</td>\n",
       "    </tr>\n",
       "  </tbody>\n",
       "</table>\n",
       "<p>98 rows × 8 columns</p>\n",
       "</div>"
      ],
      "text/plain": [
       "    fidelity_neighborhood  fidelity_x  factual_coverage  \\\n",
       "0                   0.714         1.0             0.298   \n",
       "1                   0.878         1.0             0.360   \n",
       "2                   0.800         1.0             0.584   \n",
       "3                   0.946         1.0             0.560   \n",
       "4                   0.850         1.0             0.472   \n",
       "..                    ...         ...               ...   \n",
       "95                  0.758         1.0             0.062   \n",
       "96                  0.724         1.0             0.284   \n",
       "97                  0.854         1.0             0.238   \n",
       "98                  0.818         1.0             0.566   \n",
       "99                  0.890         1.0             0.682   \n",
       "\n",
       "    counterfactual_coverage  factual_precision  counterfactual_precision  \\\n",
       "0                     0.120           0.758389                  0.750000   \n",
       "1                     0.092           0.961111                  0.978261   \n",
       "2                     0.404           0.760274                  0.861386   \n",
       "3                     0.374           0.971429                  0.946524   \n",
       "4                     0.190           0.919492                  0.768421   \n",
       "..                      ...                ...                       ...   \n",
       "95                    0.004           0.612903                  1.000000   \n",
       "96                    0.004           0.880282                  1.000000   \n",
       "97                    0.004           0.949580                  0.500000   \n",
       "98                    0.434           0.766784                  0.884793   \n",
       "99                    0.318           0.856305                  0.962264   \n",
       "\n",
       "    factual_length  counterfactual_length  \n",
       "0                2                      3  \n",
       "1                2                      2  \n",
       "2                1                      2  \n",
       "3                1                      2  \n",
       "4                2                      2  \n",
       "..             ...                    ...  \n",
       "95               5                      6  \n",
       "96               3                      3  \n",
       "97               5                      6  \n",
       "98               1                      1  \n",
       "99               1                      1  \n",
       "\n",
       "[98 rows x 8 columns]"
      ]
     },
     "execution_count": 34,
     "metadata": {},
     "output_type": "execute_result"
    }
   ],
   "source": [
    "metrics_df_nofilter"
   ]
  },
  {
   "cell_type": "code",
   "execution_count": 56,
   "metadata": {
    "scrolled": false
   },
   "outputs": [
    {
     "data": {
      "image/png": "[encoded data removed]",
      "text/plain": [
       "<Figure size 432x288 with 1 Axes>"
      ]
     },
     "metadata": {
      "needs_background": "light"
     },
     "output_type": "display_data"
    },
    {
     "data": {
      "image/png": "[encoded data removed]",
      "text/plain": [
       "<Figure size 432x288 with 1 Axes>"
      ]
     },
     "metadata": {
      "needs_background": "light"
     },
     "output_type": "display_data"
    },
    {
     "data": {
      "image/png": "[encoded data removed]",
      "text/plain": [
       "<Figure size 432x288 with 1 Axes>"
      ]
     },
     "metadata": {
      "needs_background": "light"
     },
     "output_type": "display_data"
    },
    {
     "data": {
      "image/png": "[encoded data removed]",
      "text/plain": [
       "<Figure size 432x288 with 1 Axes>"
      ]
     },
     "metadata": {
      "needs_background": "light"
     },
     "output_type": "display_data"
    },
    {
     "data": {
      "image/png": "[encoded data removed]",
      "text/plain": [
       "<Figure size 432x288 with 1 Axes>"
      ]
     },
     "metadata": {
      "needs_background": "light"
     },
     "output_type": "display_data"
    },
    {
     "data": {
      "image/png": "[encoded data removed]",
      "text/plain": [
       "<Figure size 432x288 with 1 Axes>"
      ]
     },
     "metadata": {
      "needs_background": "light"
     },
     "output_type": "display_data"
    },
    {
     "data": {
      "image/png": "[encoded data removed]",
      "text/plain": [
       "<Figure size 432x288 with 1 Axes>"
      ]
     },
     "metadata": {
      "needs_background": "light"
     },
     "output_type": "display_data"
    },
    {
     "data": {
      "image/png": "[encoded data removed]",
      "text/plain": [
       "<Figure size 432x288 with 1 Axes>"
      ]
     },
     "metadata": {
      "needs_background": "light"
     },
     "output_type": "display_data"
    }
   ],
   "source": [
    "boxplots_from_df_list([metrics_df_nofilter])"
   ]
  },
  {
   "cell_type": "code",
   "execution_count": null,
   "metadata": {},
   "outputs": [],
   "source": []
  },
  {
   "cell_type": "code",
   "execution_count": 45,
   "metadata": {},
   "outputs": [
    {
     "data": {
      "text/plain": [
       "array([1, 2])"
      ]
     },
     "execution_count": 45,
     "metadata": {},
     "output_type": "execute_result"
    }
   ],
   "source": [
    "np.array(range(len([metrics_df_nofilter,metrics_df_nofilter])))+1"
   ]
  },
  {
   "cell_type": "code",
   "execution_count": null,
   "metadata": {},
   "outputs": [],
   "source": []
  },
  {
   "cell_type": "code",
   "execution_count": null,
   "metadata": {},
   "outputs": [],
   "source": []
  },
  {
   "cell_type": "code",
   "execution_count": 3,
   "metadata": {},
   "outputs": [],
   "source": [
    "from lasts import load_multiple_lasts"
   ]
  },
  {
   "cell_type": "code",
   "execution_count": null,
   "metadata": {},
   "outputs": [],
   "source": [
    "load_multiple_lasts(file_path=parentdir+\"/saved/ecg200_20201008_214748\"+\"/filter\", load_sbgdt_model=False)"
   ]
  }
 ],
 "metadata": {
  "kernelspec": {
   "display_name": "Python 3",
   "language": "python",
   "name": "python3"
  },
  "language_info": {
   "codemirror_mode": {
    "name": "ipython",
    "version": 3
   },
   "file_extension": ".py",
   "mimetype": "text/x-python",
   "name": "python",
   "nbconvert_exporter": "python",
   "pygments_lexer": "ipython3",
   "version": "3.6.9"
  }
 },
 "nbformat": 4,
 "nbformat_minor": 2
}
