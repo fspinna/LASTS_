{
 "cells": [
  {
   "cell_type": "code",
   "execution_count": 150,
   "metadata": {},
   "outputs": [],
   "source": [
    "import os,sys,inspect\n",
    "currentdir = os.path.dirname(os.path.abspath(inspect.getfile(inspect.currentframe())))\n",
    "parentdir = os.path.dirname(currentdir)\n",
    "sys.path.insert(0,parentdir)"
   ]
  },
  {
   "cell_type": "code",
   "execution_count": 151,
   "metadata": {},
   "outputs": [
    {
     "name": "stdout",
     "output_type": "stream",
     "text": [
      "DATASET INFO:\n",
      "X SHAPE:  (600, 128, 1)\n",
      "y SHAPE:  (600,)\n",
      "\n",
      "CLASSES BALANCE\n",
      "0 :  0.33\n",
      "1 :  0.33\n",
      "2 :  0.33\n",
      "\n",
      "SHAPES:\n",
      "BLACKBOX TRAINING SET:  (268, 128, 1)\n",
      "BLACKBOX VALIDATION SET:  (68, 128, 1)\n",
      "BLACKBOX TEST SET:  (84, 128, 1)\n",
      "EXPLANATION TRAINING SET:  (115, 128, 1)\n",
      "EXPLANATION VALIDATION SET:  (29, 128, 1)\n",
      "EXPLANATION TEST SET:  (36, 128, 1)\n",
      "\n",
      "TIMESTEPS:  128\n",
      "N. LABELS:  3\n"
     ]
    }
   ],
   "source": [
    "from pyts.datasets import make_cylinder_bell_funnel\n",
    "from sklearn.model_selection import train_test_split\n",
    "from autoencoders import Autoencoder\n",
    "from joblib import load, dump\n",
    "from blackbox_wrapper import BlackboxWrapper\n",
    "from lore_wrapper import LoreWrapper\n",
    "\n",
    "random_state = 0\n",
    "dataset_name = \"cbf\"\n",
    "\n",
    "\n",
    "X_all, y_all = make_cylinder_bell_funnel(n_samples = 600, random_state = random_state)\n",
    "X_all = X_all[:,:,np.newaxis]\n",
    "\n",
    "print(\"DATASET INFO:\")\n",
    "print(\"X SHAPE: \", X_all.shape)\n",
    "print(\"y SHAPE: \", y_all.shape)\n",
    "unique, counts = np.unique(y_all, return_counts=True)\n",
    "print(\"\\nCLASSES BALANCE\")\n",
    "for i, label in enumerate(unique):\n",
    "    print(label, \": \", round(counts[i]/sum(counts), 2))\n",
    "\n",
    "# BLACKBOX/EXPLANATION SETS SPLIT\n",
    "X_train, X_exp, y_train, y_exp = train_test_split(\n",
    "    X_all, \n",
    "    y_all, \n",
    "    test_size=0.3, \n",
    "    stratify = y_all, random_state=random_state\n",
    "    )\n",
    "\n",
    "# BLACKBOX TRAIN/TEST SETS SPLIT\n",
    "X_train, X_test, y_train, y_test = train_test_split(\n",
    "    X_train, \n",
    "    y_train, \n",
    "    test_size=0.2, \n",
    "    stratify = y_train, \n",
    "    random_state=random_state\n",
    "    )\n",
    "\n",
    "# BLACKBOX TRAIN/VALIDATION SETS SPLIT\n",
    "X_train, X_val, y_train, y_val = train_test_split(\n",
    "    X_train, \n",
    "    y_train, \n",
    "    test_size=0.2, \n",
    "    stratify = y_train, \n",
    "    random_state=random_state\n",
    "    )\n",
    "\n",
    "# EXPLANATION TRAIN/TEST SETS SPLIT\n",
    "X_exp_train, X_exp_test, y_exp_train, y_exp_test = train_test_split(\n",
    "    X_exp, \n",
    "    y_exp, \n",
    "    test_size=0.2, \n",
    "    stratify = y_exp, \n",
    "    random_state=random_state\n",
    "    )\n",
    "\n",
    "# EXPLANATION TRAIN/VALIDATION SETS SPLIT\n",
    "X_exp_train, X_exp_val, y_exp_train, y_exp_val = train_test_split(\n",
    "    X_exp_train, y_exp_train, \n",
    "    test_size=0.2, \n",
    "    stratify = y_exp_train, \n",
    "    random_state=random_state\n",
    "    )\n",
    "\n",
    "print(\"\\nSHAPES:\")\n",
    "print(\"BLACKBOX TRAINING SET: \", X_train.shape)\n",
    "print(\"BLACKBOX VALIDATION SET: \", X_val.shape)\n",
    "print(\"BLACKBOX TEST SET: \", X_test.shape)\n",
    "print(\"EXPLANATION TRAINING SET: \", X_exp_train.shape)\n",
    "print(\"EXPLANATION VALIDATION SET: \", X_exp_val.shape)\n",
    "print(\"EXPLANATION TEST SET: \", X_exp_test.shape)\n",
    "\n",
    "n_timesteps, n_outputs, n_features = X_train.shape[1], len(np.unique(y_all)), 1 \n",
    "print(\"\\nTIMESTEPS: \", n_timesteps)\n",
    "print(\"N. LABELS: \", n_outputs)\n",
    "\n",
    "knn = load(parentdir + \"/trained_models/cbf/cbf_blackbox_knn_20191106_145654.joblib\")\n",
    "\n",
    "params = {\"input_shape\": (n_timesteps,1),\n",
    "      \"n_blocks\": 8, \n",
    "      \"latent_dim\": 2,\n",
    "      \"encoder_latent_layer_type\": \"variational\",\n",
    "      \"encoder_args\": {\"filters\":[2,4,8,16,32,64,128,256], \n",
    "                        \"kernel_size\":[21,18,15,13,11,8,5,3], \n",
    "                        \"padding\":\"same\", \n",
    "                        \"activation\":\"elu\", \n",
    "                        \"pooling\":[1,1,1,1,1,1,1,1]}\n",
    "     }\n",
    "\n",
    "aut = Autoencoder(verbose = False, **params)\n",
    "encoder, decoder, autoencoder = aut.build()\n",
    "#autoencoder.load_weights(\"./autoencoder_checkpoints/cbf_autoencoder_20191106_144056_best_weights_+1.0504_.hdf5\")\n",
    "autoencoder.load_weights(parentdir + \"/trained_models/cbf/cbf_autoencoder_20191106_144909_best_weights_+136.8745_.hdf5\")\n",
    "\n",
    "blackbox = BlackboxWrapper(knn, 2, 1)\n",
    "encoder = autoencoder.layers[1]\n",
    "decoder = autoencoder.layers[2]"
   ]
  },
  {
   "cell_type": "code",
   "execution_count": 153,
   "metadata": {},
   "outputs": [],
   "source": [
    "from scipy.stats import norm\n",
    "from ipywidgets import interact, interactive, fixed, interact_manual\n",
    "import ipywidgets as widgets"
   ]
  },
  {
   "cell_type": "code",
   "execution_count": 154,
   "metadata": {},
   "outputs": [],
   "source": [
    "def dec(x1, x2):\n",
    "    z = np.array([x1,x2]).reshape(1,-1)\n",
    "    z_tilde = decoder.predict(z)\n",
    "    z_label = blackbox.predict(z_tilde)[0]\n",
    "    z_color = \"#2ca02c\" if z_label == y_exp_test[0] else \"#d62728\"\n",
    "    z_tilde = z_tilde.ravel()\n",
    "    plt.figure(figsize=(10,3))\n",
    "    plt.title(\"label \" + str(z_label))\n",
    "    plt.plot(z_tilde, c = z_color)\n",
    "    plt.gca().set_ylim((-1,8))\n",
    "    plt.show()"
   ]
  },
  {
   "cell_type": "code",
   "execution_count": 155,
   "metadata": {},
   "outputs": [
    {
     "data": {
      "application/vnd.jupyter.widget-view+json": {
       "model_id": "6a82e0e0ac9f47839d5215f21cf8c237",
       "version_major": 2,
       "version_minor": 0
      },
      "text/plain": [
       "interactive(children=(FloatSlider(value=0.0, description='Feature 1', max=1.6448536269514729, min=-1.644853626…"
      ]
     },
     "metadata": {},
     "output_type": "display_data"
    },
    {
     "data": {
      "text/plain": [
       "<function __main__.dec(x1, x2)>"
      ]
     },
     "execution_count": 155,
     "metadata": {},
     "output_type": "execute_result"
    }
   ],
   "source": [
    "%matplotlib inline\n",
    "minimum = norm.ppf(np.linspace(0.05, 0.95, 1))[0]\n",
    "maximum = abs(minimum)\n",
    "interact(\n",
    "    dec, \n",
    "    x1 = widgets.FloatSlider(value=0,\n",
    "                             min=minimum,\n",
    "                             max=maximum,\n",
    "                             step=0.05,\n",
    "                             description = \"Feature 1\"\n",
    "                            ),\n",
    "    x2 = widgets.FloatSlider(value=0,\n",
    "                             min=minimum,\n",
    "                             max=maximum,\n",
    "                             step=0.05,\n",
    "                             description = \"Feature 2\"\n",
    "                            )\n",
    ")"
   ]
  }
 ],
 "metadata": {
  "kernelspec": {
   "display_name": "Python 3",
   "language": "python",
   "name": "python3"
  },
  "language_info": {
   "codemirror_mode": {
    "name": "ipython",
    "version": 3
   },
   "file_extension": ".py",
   "mimetype": "text/x-python",
   "name": "python",
   "nbconvert_exporter": "python",
   "pygments_lexer": "ipython3",
   "version": "3.6.9"
  }
 },
 "nbformat": 4,
 "nbformat_minor": 2
}
