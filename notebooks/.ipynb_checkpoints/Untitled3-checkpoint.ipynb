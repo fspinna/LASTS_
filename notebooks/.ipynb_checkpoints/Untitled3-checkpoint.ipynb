{
 "cells": [
  {
   "cell_type": "code",
   "execution_count": 1,
   "metadata": {},
   "outputs": [],
   "source": [
    "import os,sys,inspect\n",
    "currentdir = os.path.dirname(os.path.abspath(inspect.getfile(inspect.currentframe())))\n",
    "parentdir = os.path.dirname(currentdir)\n",
    "sys.path.insert(0,parentdir)"
   ]
  },
  {
   "cell_type": "code",
   "execution_count": 2,
   "metadata": {},
   "outputs": [
    {
     "name": "stderr",
     "output_type": "stream",
     "text": [
      "/Users/francesco/anaconda3/envs/tesi/lib/python3.6/site-packages/sklearn/utils/deprecation.py:143: FutureWarning: The sklearn.neighbors.base module is  deprecated in version 0.22 and will be removed in version 0.24. The corresponding classes / functions should instead be imported from sklearn.neighbors. Anything that cannot be imported from sklearn.neighbors is now part of the private API.\n",
      "  warnings.warn(message, FutureWarning)\n",
      "/Users/francesco/anaconda3/envs/tesi/lib/python3.6/site-packages/sklearn/utils/deprecation.py:143: FutureWarning: The sklearn.ensemble.bagging module is  deprecated in version 0.22 and will be removed in version 0.24. The corresponding classes / functions should instead be imported from sklearn.ensemble. Anything that cannot be imported from sklearn.ensemble is now part of the private API.\n",
      "  warnings.warn(message, FutureWarning)\n",
      "/Users/francesco/anaconda3/envs/tesi/lib/python3.6/site-packages/sklearn/utils/deprecation.py:143: FutureWarning: The sklearn.ensemble.base module is  deprecated in version 0.22 and will be removed in version 0.24. The corresponding classes / functions should instead be imported from sklearn.ensemble. Anything that cannot be imported from sklearn.ensemble is now part of the private API.\n",
      "  warnings.warn(message, FutureWarning)\n",
      "/Users/francesco/anaconda3/envs/tesi/lib/python3.6/site-packages/sklearn/utils/deprecation.py:143: FutureWarning: The sklearn.ensemble.forest module is  deprecated in version 0.22 and will be removed in version 0.24. The corresponding classes / functions should instead be imported from sklearn.ensemble. Anything that cannot be imported from sklearn.ensemble is now part of the private API.\n",
      "  warnings.warn(message, FutureWarning)\n",
      "Using TensorFlow backend.\n",
      "/Users/francesco/anaconda3/envs/tesi/lib/python3.6/site-packages/tensorflow/python/framework/dtypes.py:526: FutureWarning: Passing (type, 1) or '1type' as a synonym of type is deprecated; in a future version of numpy, it will be understood as (type, (1,)) / '(1,)type'.\n",
      "  _np_qint8 = np.dtype([(\"qint8\", np.int8, 1)])\n",
      "/Users/francesco/anaconda3/envs/tesi/lib/python3.6/site-packages/tensorflow/python/framework/dtypes.py:527: FutureWarning: Passing (type, 1) or '1type' as a synonym of type is deprecated; in a future version of numpy, it will be understood as (type, (1,)) / '(1,)type'.\n",
      "  _np_quint8 = np.dtype([(\"quint8\", np.uint8, 1)])\n",
      "/Users/francesco/anaconda3/envs/tesi/lib/python3.6/site-packages/tensorflow/python/framework/dtypes.py:528: FutureWarning: Passing (type, 1) or '1type' as a synonym of type is deprecated; in a future version of numpy, it will be understood as (type, (1,)) / '(1,)type'.\n",
      "  _np_qint16 = np.dtype([(\"qint16\", np.int16, 1)])\n",
      "/Users/francesco/anaconda3/envs/tesi/lib/python3.6/site-packages/tensorflow/python/framework/dtypes.py:529: FutureWarning: Passing (type, 1) or '1type' as a synonym of type is deprecated; in a future version of numpy, it will be understood as (type, (1,)) / '(1,)type'.\n",
      "  _np_quint16 = np.dtype([(\"quint16\", np.uint16, 1)])\n",
      "/Users/francesco/anaconda3/envs/tesi/lib/python3.6/site-packages/tensorflow/python/framework/dtypes.py:530: FutureWarning: Passing (type, 1) or '1type' as a synonym of type is deprecated; in a future version of numpy, it will be understood as (type, (1,)) / '(1,)type'.\n",
      "  _np_qint32 = np.dtype([(\"qint32\", np.int32, 1)])\n",
      "/Users/francesco/anaconda3/envs/tesi/lib/python3.6/site-packages/tensorflow/python/framework/dtypes.py:535: FutureWarning: Passing (type, 1) or '1type' as a synonym of type is deprecated; in a future version of numpy, it will be understood as (type, (1,)) / '(1,)type'.\n",
      "  np_resource = np.dtype([(\"resource\", np.ubyte, 1)])\n",
      "/Users/francesco/anaconda3/envs/tesi/lib/python3.6/site-packages/sklearn/utils/deprecation.py:143: FutureWarning: The sklearn.utils.testing module is  deprecated in version 0.22 and will be removed in version 0.24. The corresponding classes / functions should instead be imported from sklearn.utils. Anything that cannot be imported from sklearn.utils is now part of the private API.\n",
      "  warnings.warn(message, FutureWarning)\n",
      "/Users/francesco/anaconda3/envs/tesi/lib/python3.6/site-packages/sklearn/utils/deprecation.py:143: FutureWarning: The sklearn.metrics.classification module is  deprecated in version 0.22 and will be removed in version 0.24. The corresponding classes / functions should instead be imported from sklearn.metrics. Anything that cannot be imported from sklearn.metrics is now part of the private API.\n",
      "  warnings.warn(message, FutureWarning)\n",
      "/Users/francesco/anaconda3/envs/tesi/lib/python3.6/site-packages/sklearn/utils/deprecation.py:143: FutureWarning: The sklearn.cluster.k_means_ module is  deprecated in version 0.22 and will be removed in version 0.24. The corresponding classes / functions should instead be imported from sklearn.cluster. Anything that cannot be imported from sklearn.cluster is now part of the private API.\n",
      "  warnings.warn(message, FutureWarning)\n"
     ]
    }
   ],
   "source": [
    "from shap_explainer import get_latent_shap_explainer, get_latent_shap_explainer_binary\n",
    "import shap\n",
    "from datasets import build_cbf\n",
    "from sklearn.model_selection import train_test_split\n",
    "from joblib import load\n",
    "from blackbox_wrapper import BlackboxWrapper\n",
    "from lasts import Lasts\n",
    "import numpy as np\n",
    "import keras\n",
    "from utils import reconstruction_accuracy, choose_z, convert_numpy_to_sktime\n",
    "from variational_autoencoder import load_model\n",
    "from neighborhood_generators import NeighborhoodGenerator\n",
    "from utils import compute_norm, plot_labeled_latent_space_matrix\n",
    "import seaborn as sns"
   ]
  },
  {
   "cell_type": "code",
   "execution_count": 3,
   "metadata": {},
   "outputs": [
    {
     "name": "stdout",
     "output_type": "stream",
     "text": [
      "DATASET INFO:\n",
      "X SHAPE:  (600, 128, 1)\n",
      "y SHAPE:  (600,)\n",
      "\n",
      "CLASSES BALANCE\n",
      "0 :  0.33\n",
      "1 :  0.33\n",
      "2 :  0.33\n",
      "\n",
      "SHAPES:\n",
      "BLACKBOX TRAINING SET:  (268, 128, 1)\n",
      "BLACKBOX VALIDATION SET:  (68, 128, 1)\n",
      "BLACKBOX TEST SET:  (84, 128, 1)\n",
      "EXPLANATION TRAINING SET:  (115, 128, 1)\n",
      "EXPLANATION VALIDATION SET:  (29, 128, 1)\n",
      "EXPLANATION TEST SET:  (36, 128, 1)\n"
     ]
    }
   ],
   "source": [
    "# IMPORT DATASET\n",
    "random_state = 0\n",
    "dataset_name = \"cbf\"\n",
    "\n",
    "(X_train, y_train, X_val, y_val, \n",
    " X_test, y_test, X_exp_train, y_exp_train, \n",
    " X_exp_val, y_exp_val, X_exp_test, y_exp_test) = build_cbf(n_samples = 600, random_state = random_state)"
   ]
  },
  {
   "cell_type": "code",
   "execution_count": 4,
   "metadata": {},
   "outputs": [],
   "source": [
    "from sktime.classification.shapelet_based import MrSEQLClassifier"
   ]
  },
  {
   "cell_type": "code",
   "execution_count": 5,
   "metadata": {},
   "outputs": [],
   "source": [
    "ms = MrSEQLClassifier(seql_mode='fs', symrep='sax')"
   ]
  },
  {
   "cell_type": "code",
   "execution_count": 6,
   "metadata": {},
   "outputs": [],
   "source": [
    "X, y = convert_numpy_to_sktime(np.concatenate([X_train, X_train], axis = 2)), y_train"
   ]
  },
  {
   "cell_type": "code",
   "execution_count": 7,
   "metadata": {},
   "outputs": [
    {
     "data": {
      "text/plain": [
       "(268, 2)"
      ]
     },
     "execution_count": 7,
     "metadata": {},
     "output_type": "execute_result"
    }
   ],
   "source": [
    "X.shape"
   ]
  },
  {
   "cell_type": "code",
   "execution_count": 8,
   "metadata": {},
   "outputs": [
    {
     "data": {
      "text/plain": [
       "MrSEQLClassifier()"
      ]
     },
     "execution_count": 8,
     "metadata": {},
     "output_type": "execute_result"
    }
   ],
   "source": [
    "# fit training data\n",
    "ms.fit(X, y)"
   ]
  },
  {
   "cell_type": "code",
   "execution_count": null,
   "metadata": {},
   "outputs": [],
   "source": [
    "# multivariato\n",
    "# recupero la feature e il cfg_idx con l'indice come al solito\n",
    "# per ogni dimensione della serie multivariata la passo a map che trova gli indici corrispondenti in ogni dimensione"
   ]
  },
  {
   "cell_type": "code",
   "execution_count": 11,
   "metadata": {},
   "outputs": [
    {
     "data": {
      "text/plain": [
       "22"
      ]
     },
     "execution_count": 11,
     "metadata": {},
     "output_type": "execute_result"
    }
   ],
   "source": [
    "len(ms.sequences)"
   ]
  },
  {
   "cell_type": "code",
   "execution_count": 79,
   "metadata": {},
   "outputs": [
    {
     "name": "stdout",
     "output_type": "stream",
     "text": [
      "11 268\n"
     ]
    }
   ],
   "source": [
    "print(len(mr_seqs), len(mr_seqs[0]))"
   ]
  },
  {
   "cell_type": "code",
   "execution_count": 81,
   "metadata": {},
   "outputs": [
    {
     "name": "stdout",
     "output_type": "stream",
     "text": [
      "22 268\n"
     ]
    }
   ],
   "source": [
    "print(len(mr_seqs), len(mr_seqs[0]))"
   ]
  },
  {
   "cell_type": "code",
   "execution_count": 83,
   "metadata": {},
   "outputs": [
    {
     "data": {
      "text/plain": [
       "11"
      ]
     },
     "execution_count": 83,
     "metadata": {},
     "output_type": "execute_result"
    }
   ],
   "source": [
    "len(ms.config)"
   ]
  },
  {
   "cell_type": "code",
   "execution_count": 84,
   "metadata": {},
   "outputs": [
    {
     "data": {
      "text/plain": [
       "11"
      ]
     },
     "execution_count": 84,
     "metadata": {},
     "output_type": "execute_result"
    }
   ],
   "source": [
    "ms.sequences"
   ]
  },
  {
   "cell_type": "code",
   "execution_count": 80,
   "metadata": {},
   "outputs": [],
   "source": [
    "mr_seqs = ms._transform_time_series(X)"
   ]
  },
  {
   "cell_type": "code",
   "execution_count": 27,
   "metadata": {},
   "outputs": [],
   "source": [
    "features = ms.sequences[0]"
   ]
  },
  {
   "cell_type": "code",
   "execution_count": 19,
   "metadata": {},
   "outputs": [],
   "source": [
    "ts_seqs = mr_seqs[0][0]"
   ]
  },
  {
   "cell_type": "code",
   "execution_count": 21,
   "metadata": {},
   "outputs": [],
   "source": [
    "ts = X.iloc[0:1]"
   ]
  },
  {
   "cell_type": "code",
   "execution_count": 23,
   "metadata": {},
   "outputs": [],
   "source": [
    "cfg = ms.config[0]"
   ]
  },
  {
   "cell_type": "code",
   "execution_count": 29,
   "metadata": {},
   "outputs": [],
   "source": [
    "ps = PySAX(cfg['window'], cfg['word'], cfg['alphabet'])"
   ]
  },
  {
   "cell_type": "code",
   "execution_count": 32,
   "metadata": {},
   "outputs": [
    {
     "data": {
      "text/plain": [
       "b'bbdacccadccdbcac bdacccadcccacabd dacccadcccacabdb acccadcccacabdbd cccadcccacabdbdb ccadcccacabdbdba cadccdbcacdbdcaa adccdbcacdbdcaaa dccdbcacdbdcaaac ccdbcacdbdcaaacd cdbcacdbdcaaacdc cbcabdbdbaaacdcd bcacdbdcaaacdcda cacdbdcaaacdcdac acdbdcaaacdcdacd cdbdcaaacdcdacda dbdcaaacdcdacdab bdcbaacdcdacdabc dbaaacdcdaccabcd bbaacdcdaccabcdc aaabdcdabcabcdcd aabccdabcabcdcdc abcccabcabbdcdcd bcbcabcaabdbdccd cbcabbaabdbdbcdd bcabbaabdbcbcddd cabbaabdbcbcdddc abbaabdbcbcdddcb abaabdbcbcdddbbb baaadbcbcdddbbbb aaadbcbcdddbbbbc aadacbcdddbbbacb adacabdddbbbabac dacabddcbababacd acabdddbababacdc cabdddbababacdca abddcaababacdcad bddcaaaabacdcadb ddcaaaabacdcadbd dcaaaabacdcadbdb caaaabacdcadbdbd aaaabacdcadbdbcd aaabacdcadbdbcdc aababdbadbdbcdbd aaabdbadadbcdbcd aabdbadadbbdbcdd abdbacadabdbcdcc acaacadabdacdccc caacadabdacdccca aacadabdacdcccad acacabdacdcccadd cacabcabdcccaddb acaacabdcccaddbd caacabdcbcaddbdc aacabdbbcacdbdcd acabdbbbacdbdcdb cabdbbbacdbccdbd abdbbbacdacbcbdd acbababdacbcaddd caababcabbcadddd aababcabbcaddddd ababcabbcaddddda aabcabbbadddcdad abcabbbadddcdadb abababadcccdadbd baaabaccccdadadc aaabaccccdadadcc aabaccccdadadccd aaacccbcadacbcdd aacbcbcadacbbddb acbcbcadacbbddba bbbbcadacbbddaad bbbcadacbbddaadb bbcadacbbddaadbc bcadacbbddaadbca cadacbbddaadbcad adacbbddaadbcadc dabbbcdaadbcadcc acbbddaadbcadccc babcdaadbbadcccd abcdaacbbadbccdd acdaacbbadbcbcdd cdaacabacbcbcddc daacabacbcbcddcc aacabacbcbcddccd acabacbbbcddccdb caaacbbbcddbcdad abacbbbcddbcdadb aacbbbcddbcdadad acbbbcddbcdadada cabbcddbcdadadaa abbcddbcdadadaab cbccdccdbcbdbbca cccdccdbccdcbcaa cddccdcccdcbcaaa ddccdcdcdcccaaaa dcddcdcdcccaaaaa dddcdcdccdaaaaaa ddcdcdccdaaaabaa ddddddcdaaaabaaa dddddddaaaabaaaa ddddddaaaabaabaa dddddbabbcaabaab ddddbabbcbabaabb dddbabbcbabbabcb ddbabbcbabbabcbb dbabbdbabbaccbbc babbdbacaaddbccd abbdbacbaddcccda bbdbacbaddcccdaa bdbacbaddcccdaac dbacbbddcccdaaca cadbbddccddabcaa'"
      ]
     },
     "execution_count": 32,
     "metadata": {},
     "output_type": "execute_result"
    }
   ],
   "source": [
    "ts_seqs"
   ]
  },
  {
   "cell_type": "code",
   "execution_count": 71,
   "metadata": {},
   "outputs": [
    {
     "data": {
      "text/plain": [
       "{5,\n",
       " 6,\n",
       " 7,\n",
       " 8,\n",
       " 9,\n",
       " 48,\n",
       " 49,\n",
       " 50,\n",
       " 51,\n",
       " 52,\n",
       " 53,\n",
       " 54,\n",
       " 61,\n",
       " 62,\n",
       " 63,\n",
       " 64,\n",
       " 65,\n",
       " 68,\n",
       " 69,\n",
       " 70,\n",
       " 71,\n",
       " 72,\n",
       " 74,\n",
       " 75,\n",
       " 76,\n",
       " 77,\n",
       " 78,\n",
       " 87,\n",
       " 88,\n",
       " 89,\n",
       " 90,\n",
       " 91,\n",
       " 111,\n",
       " 112,\n",
       " 113,\n",
       " 114,\n",
       " 115}"
      ]
     },
     "execution_count": 71,
     "metadata": {},
     "output_type": "execute_result"
    }
   ],
   "source": [
    "ps.map_patterns(X_train[0].ravel(), [b\"cad\"])[0]"
   ]
  },
  {
   "cell_type": "code",
   "execution_count": null,
   "metadata": {},
   "outputs": [],
   "source": [
    "# trasformare in lista\n",
    "# ordinare\n",
    "# solo primi n indici consecutivi"
   ]
  },
  {
   "cell_type": "code",
   "execution_count": 64,
   "metadata": {},
   "outputs": [],
   "source": [
    "import saxdt"
   ]
  },
  {
   "cell_type": "code",
   "execution_count": 66,
   "metadata": {},
   "outputs": [],
   "source": [
    "import importlib"
   ]
  },
  {
   "cell_type": "code",
   "execution_count": 67,
   "metadata": {},
   "outputs": [
    {
     "data": {
      "text/plain": [
       "<module 'saxdt' from '/Users/francesco/github/LASTS/saxdt.py'>"
      ]
     },
     "execution_count": 67,
     "metadata": {},
     "output_type": "execute_result"
    }
   ],
   "source": [
    "importlib.reload(saxdt)"
   ]
  },
  {
   "cell_type": "code",
   "execution_count": 69,
   "metadata": {},
   "outputs": [],
   "source": [
    "from saxdt import map_word_to_ts"
   ]
  },
  {
   "cell_type": "code",
   "execution_count": 72,
   "metadata": {},
   "outputs": [
    {
     "data": {
      "text/plain": [
       "(5, 9)"
      ]
     },
     "execution_count": 72,
     "metadata": {},
     "output_type": "execute_result"
    }
   ],
   "source": [
    "map_word_to_ts(X_train[0].ravel(), b\"cad\", cfg)"
   ]
  },
  {
   "cell_type": "code",
   "execution_count": 60,
   "metadata": {},
   "outputs": [],
   "source": [
    "from saxdt import find_matching_idx\n",
    "ts1 = ms._transform_time_series(X.iloc[0:1])[0][0]\n",
    "start_idx, end_idx = find_matching_idx(\n",
    "    ts1,\n",
    "    b\"cadbbddccddabcaa\",\n",
    "    cfg['word'],\n",
    "    cfg['window'],\n",
    "    len(np.array(ts.iloc[0][0]))\n",
    ")"
   ]
  },
  {
   "cell_type": "code",
   "execution_count": 61,
   "metadata": {},
   "outputs": [
    {
     "data": {
      "text/plain": [
       "112"
      ]
     },
     "execution_count": 61,
     "metadata": {},
     "output_type": "execute_result"
    }
   ],
   "source": [
    "start_idx"
   ]
  },
  {
   "cell_type": "code",
   "execution_count": 62,
   "metadata": {},
   "outputs": [
    {
     "data": {
      "text/plain": [
       "128"
      ]
     },
     "execution_count": 62,
     "metadata": {},
     "output_type": "execute_result"
    }
   ],
   "source": [
    "end_idx"
   ]
  },
  {
   "cell_type": "code",
   "execution_count": 31,
   "metadata": {},
   "outputs": [
    {
     "data": {
      "text/html": [
       "[set(), set(), set(), set(), set(), set(), set(), set(), set(), {40, 41, 42, 43, 44, 45, 46, 106, 107, 108, 109, 110, 111, 112}, {40, 41, 42, 43, 44, 45, 46, 47, 106, 107, 108, 109, 110, 111, 112, 113}, {106, 107, 108, 109, 110, 111, 112, 113, 114}, set(), {108, 109, 110, 111, 112, 113, 114, 115}, set(), set(), set(), set(), {69, 70, 71, 72, 73, 74, 75, 76}, set(), set(), set(), set(), {32, 33, 64, 65, 66, 67, 68, 69, 63, 24, 25, 26, 27, 28, 29, 30, 31}, {39, 40, 41, 42, 43, 44, 45, 105, 106, 107, 108, 109, 110, 111}, {105, 106, 107, 108, 109, 110, 111, 112}, set(), set(), {96, 97, 98, 99, 100, 101, 102, 103}, {96, 97, 98, 99, 100, 101, 102, 103}, set(), set(), {97, 98, 99, 100, 101, 102, 103, 104, 105, 106, 107, 57, 58, 59, 60, 61, 62, 63}, set(), set(), {96, 97, 98, 99, 100, 101, 102, 95}, {103, 104, 105, 106, 107, 108, 109}, set(), set(), set(), {103, 104, 105, 106, 107, 108, 109, 110}, {96, 97, 98, 99, 100, 101, 70, 71, 72, 73, 74, 75, 76, 102, 103, 104, 105, 106, 107}, set(), set(), {102, 103, 104, 105, 106, 107, 108, 109, 110}, {100, 101, 102, 103, 104, 105, 106}, {100, 101, 102, 103, 104, 105, 106, 107}, {101, 70, 71, 72, 73, 74, 75, 76, 77, 102, 103, 104, 105, 106, 107, 108}, {101, 102, 103, 104, 105, 106, 107, 108, 109}, {101, 102, 103, 104, 105, 106, 107, 108, 109, 110}, set(), {101, 102, 103, 104, 105, 106, 107, 108}, {99, 100, 101, 102, 103, 104, 105, 106}, {100, 101, 102, 103, 104, 105, 106, 107, 108}, set(), {98, 99, 100, 101, 102, 103, 104, 105, 106}, {99, 100, 101, 102, 103, 104, 105, 106, 107}, {64, 65, 66, 67, 61, 62, 63}, {68, 69, 70, 71, 72, 73, 83, 84, 85, 86, 87, 88, 89, 90, 91, 92}, {83, 84, 85, 86, 87, 88, 89, 90, 91, 92, 93}, {68, 69, 70, 71, 72, 73, 74}, set(), {32, 33, 34, 35, 30, 31}, {32, 33, 34, 35, 36, 30, 31}, {64, 65, 66, 67, 68, 69, 70, 71, 41, 42, 43, 44, 45, 46, 47, 63}, {32, 126, 122, 123, 127, 124, 125, 26, 27, 28, 29, 30, 31}, set(), {79, 80, 81, 82, 83, 84, 85}, {46, 47, 48, 49, 50, 51, 52, 53, 54, 55, 56, 112, 113, 114, 115, 116, 117}, set(), set(), {32, 33, 34, 35, 36, 37, 31}, set(), {19, 20, 21, 22, 23, 24, 25}, {68, 69, 70, 71, 72, 73, 74}, {18, 19, 20, 21, 22, 23, 24, 25}, set(), {96, 97, 91, 92, 93, 94, 95}, {96, 33, 34, 35, 36, 37, 38, 39, 90, 91, 92, 93, 94, 95}, set(), set(), {28, 29, 30, 31, 32, 33, 39, 40, 41, 42, 43, 44, 58, 59, 60, 61, 62, 63, 110, 111, 112, 113, 114, 115}, {32, 33, 34, 28, 29, 30, 31}, set(), {66, 67, 68, 69, 70, 71, 72}, {66, 67, 68, 69, 70, 71, 72, 73}, {96, 97, 91, 92, 93, 94, 95}, set(), {4, 5, 6, 7, 8, 9, 10}, {64, 65, 66, 60, 61, 62, 63}, {36, 37, 38, 39, 40, 41, 42}, {105, 106, 107, 108, 109, 110, 111}, {105, 106, 107, 108, 109, 110, 111, 112}, {105, 106, 107, 108, 109, 110, 111, 112, 113}, set(), set(), {76, 77, 78, 79, 80, 81, 82}, set(), {113, 114, 115, 116, 117, 118, 119}, set(), {102, 71, 72, 73, 74, 75, 76, 77, 103, 104, 105, 106, 107, 108}, {102, 103, 104, 105, 106, 107, 108}, {101, 70, 71, 72, 73, 74, 75, 76, 77, 102, 103, 104, 105, 106, 107, 108}, {100, 101, 102, 103, 104, 105, 106, 107, 108}, set(), set(), set(), set(), set(), set(), set(), set(), set(), set(), set(), set(), set(), set(), {69, 70, 71, 72, 73, 74, 75}, {69, 70, 71, 72, 73, 74, 75, 76}, set(), {64, 65, 11, 12, 13, 14, 15, 16, 60, 61, 62, 63}, set(), {36, 37, 38, 39, 40, 41, 42}, set(), set(), set(), set(), set(), set(), set(), {103, 104, 105, 106, 107, 108, 109}, set(), set(), set(), {96, 97, 98, 99, 93, 94, 95}, set(), set(), {1, 2, 3, 4, 5, 6, 25, 26, 27, 28, 29, 30}, {98, 99, 100, 101, 102, 103, 74, 75, 76, 77, 78, 79, 50, 51, 52, 53, 54, 55}, set(), {110, 47, 48, 49, 50, 51, 52, 53, 111, 112, 113, 114, 115, 116}, {10, 11, 12, 13, 14, 15, 85, 86, 87, 88, 89, 90}, {15, 16, 17, 18, 19, 20, 21}, set(), set(), set(), set(), set(), {7, 8, 9, 10, 11, 12, 13, 58, 59, 60, 61, 62, 63, 64, 102, 103, 104, 105, 106, 107, 108}, set(), {100, 101, 102, 103, 104, 105, 106, 107}, set(), set(), set(), set(), set(), set(), set(), set(), set()]"
      ],
      "text/plain": [
       "[set(),\n",
       " set(),\n",
       " set(),\n",
       " set(),\n",
       " set(),\n",
       " set(),\n",
       " set(),\n",
       " set(),\n",
       " set(),\n",
       " {40, 41, 42, 43, 44, 45, 46, 106, 107, 108, 109, 110, 111, 112},\n",
       " {40, 41, 42, 43, 44, 45, 46, 47, 106, 107, 108, 109, 110, 111, 112, 113},\n",
       " {106, 107, 108, 109, 110, 111, 112, 113, 114},\n",
       " set(),\n",
       " {108, 109, 110, 111, 112, 113, 114, 115},\n",
       " set(),\n",
       " set(),\n",
       " set(),\n",
       " set(),\n",
       " {69, 70, 71, 72, 73, 74, 75, 76},\n",
       " set(),\n",
       " set(),\n",
       " set(),\n",
       " set(),\n",
       " {24, 25, 26, 27, 28, 29, 30, 31, 32, 33, 63, 64, 65, 66, 67, 68, 69},\n",
       " {39, 40, 41, 42, 43, 44, 45, 105, 106, 107, 108, 109, 110, 111},\n",
       " {105, 106, 107, 108, 109, 110, 111, 112},\n",
       " set(),\n",
       " set(),\n",
       " {96, 97, 98, 99, 100, 101, 102, 103},\n",
       " {96, 97, 98, 99, 100, 101, 102, 103},\n",
       " set(),\n",
       " set(),\n",
       " {57,\n",
       "  58,\n",
       "  59,\n",
       "  60,\n",
       "  61,\n",
       "  62,\n",
       "  63,\n",
       "  97,\n",
       "  98,\n",
       "  99,\n",
       "  100,\n",
       "  101,\n",
       "  102,\n",
       "  103,\n",
       "  104,\n",
       "  105,\n",
       "  106,\n",
       "  107},\n",
       " set(),\n",
       " set(),\n",
       " {95, 96, 97, 98, 99, 100, 101, 102},\n",
       " {103, 104, 105, 106, 107, 108, 109},\n",
       " set(),\n",
       " set(),\n",
       " set(),\n",
       " {103, 104, 105, 106, 107, 108, 109, 110},\n",
       " {70,\n",
       "  71,\n",
       "  72,\n",
       "  73,\n",
       "  74,\n",
       "  75,\n",
       "  76,\n",
       "  96,\n",
       "  97,\n",
       "  98,\n",
       "  99,\n",
       "  100,\n",
       "  101,\n",
       "  102,\n",
       "  103,\n",
       "  104,\n",
       "  105,\n",
       "  106,\n",
       "  107},\n",
       " set(),\n",
       " set(),\n",
       " {102, 103, 104, 105, 106, 107, 108, 109, 110},\n",
       " {100, 101, 102, 103, 104, 105, 106},\n",
       " {100, 101, 102, 103, 104, 105, 106, 107},\n",
       " {70, 71, 72, 73, 74, 75, 76, 77, 101, 102, 103, 104, 105, 106, 107, 108},\n",
       " {101, 102, 103, 104, 105, 106, 107, 108, 109},\n",
       " {101, 102, 103, 104, 105, 106, 107, 108, 109, 110},\n",
       " set(),\n",
       " {101, 102, 103, 104, 105, 106, 107, 108},\n",
       " {99, 100, 101, 102, 103, 104, 105, 106},\n",
       " {100, 101, 102, 103, 104, 105, 106, 107, 108},\n",
       " set(),\n",
       " {98, 99, 100, 101, 102, 103, 104, 105, 106},\n",
       " {99, 100, 101, 102, 103, 104, 105, 106, 107},\n",
       " {61, 62, 63, 64, 65, 66, 67},\n",
       " {68, 69, 70, 71, 72, 73, 83, 84, 85, 86, 87, 88, 89, 90, 91, 92},\n",
       " {83, 84, 85, 86, 87, 88, 89, 90, 91, 92, 93},\n",
       " {68, 69, 70, 71, 72, 73, 74},\n",
       " set(),\n",
       " {30, 31, 32, 33, 34, 35},\n",
       " {30, 31, 32, 33, 34, 35, 36},\n",
       " {41, 42, 43, 44, 45, 46, 47, 63, 64, 65, 66, 67, 68, 69, 70, 71},\n",
       " {26, 27, 28, 29, 30, 31, 32, 122, 123, 124, 125, 126, 127},\n",
       " set(),\n",
       " {79, 80, 81, 82, 83, 84, 85},\n",
       " {46, 47, 48, 49, 50, 51, 52, 53, 54, 55, 56, 112, 113, 114, 115, 116, 117},\n",
       " set(),\n",
       " set(),\n",
       " {31, 32, 33, 34, 35, 36, 37},\n",
       " set(),\n",
       " {19, 20, 21, 22, 23, 24, 25},\n",
       " {68, 69, 70, 71, 72, 73, 74},\n",
       " {18, 19, 20, 21, 22, 23, 24, 25},\n",
       " set(),\n",
       " {91, 92, 93, 94, 95, 96, 97},\n",
       " {33, 34, 35, 36, 37, 38, 39, 90, 91, 92, 93, 94, 95, 96},\n",
       " set(),\n",
       " set(),\n",
       " {28,\n",
       "  29,\n",
       "  30,\n",
       "  31,\n",
       "  32,\n",
       "  33,\n",
       "  39,\n",
       "  40,\n",
       "  41,\n",
       "  42,\n",
       "  43,\n",
       "  44,\n",
       "  58,\n",
       "  59,\n",
       "  60,\n",
       "  61,\n",
       "  62,\n",
       "  63,\n",
       "  110,\n",
       "  111,\n",
       "  112,\n",
       "  113,\n",
       "  114,\n",
       "  115},\n",
       " {28, 29, 30, 31, 32, 33, 34},\n",
       " set(),\n",
       " {66, 67, 68, 69, 70, 71, 72},\n",
       " {66, 67, 68, 69, 70, 71, 72, 73},\n",
       " {91, 92, 93, 94, 95, 96, 97},\n",
       " set(),\n",
       " {4, 5, 6, 7, 8, 9, 10},\n",
       " {60, 61, 62, 63, 64, 65, 66},\n",
       " {36, 37, 38, 39, 40, 41, 42},\n",
       " {105, 106, 107, 108, 109, 110, 111},\n",
       " {105, 106, 107, 108, 109, 110, 111, 112},\n",
       " {105, 106, 107, 108, 109, 110, 111, 112, 113},\n",
       " set(),\n",
       " set(),\n",
       " {76, 77, 78, 79, 80, 81, 82},\n",
       " set(),\n",
       " {113, 114, 115, 116, 117, 118, 119},\n",
       " set(),\n",
       " {71, 72, 73, 74, 75, 76, 77, 102, 103, 104, 105, 106, 107, 108},\n",
       " {102, 103, 104, 105, 106, 107, 108},\n",
       " {70, 71, 72, 73, 74, 75, 76, 77, 101, 102, 103, 104, 105, 106, 107, 108},\n",
       " {100, 101, 102, 103, 104, 105, 106, 107, 108},\n",
       " set(),\n",
       " set(),\n",
       " set(),\n",
       " set(),\n",
       " set(),\n",
       " set(),\n",
       " set(),\n",
       " set(),\n",
       " set(),\n",
       " set(),\n",
       " set(),\n",
       " set(),\n",
       " set(),\n",
       " set(),\n",
       " {69, 70, 71, 72, 73, 74, 75},\n",
       " {69, 70, 71, 72, 73, 74, 75, 76},\n",
       " set(),\n",
       " {11, 12, 13, 14, 15, 16, 60, 61, 62, 63, 64, 65},\n",
       " set(),\n",
       " {36, 37, 38, 39, 40, 41, 42},\n",
       " set(),\n",
       " set(),\n",
       " set(),\n",
       " set(),\n",
       " set(),\n",
       " set(),\n",
       " set(),\n",
       " {103, 104, 105, 106, 107, 108, 109},\n",
       " set(),\n",
       " set(),\n",
       " set(),\n",
       " {93, 94, 95, 96, 97, 98, 99},\n",
       " set(),\n",
       " set(),\n",
       " {1, 2, 3, 4, 5, 6, 25, 26, 27, 28, 29, 30},\n",
       " {50, 51, 52, 53, 54, 55, 74, 75, 76, 77, 78, 79, 98, 99, 100, 101, 102, 103},\n",
       " set(),\n",
       " {47, 48, 49, 50, 51, 52, 53, 110, 111, 112, 113, 114, 115, 116},\n",
       " {10, 11, 12, 13, 14, 15, 85, 86, 87, 88, 89, 90},\n",
       " {15, 16, 17, 18, 19, 20, 21},\n",
       " set(),\n",
       " set(),\n",
       " set(),\n",
       " set(),\n",
       " set(),\n",
       " {7,\n",
       "  8,\n",
       "  9,\n",
       "  10,\n",
       "  11,\n",
       "  12,\n",
       "  13,\n",
       "  58,\n",
       "  59,\n",
       "  60,\n",
       "  61,\n",
       "  62,\n",
       "  63,\n",
       "  64,\n",
       "  102,\n",
       "  103,\n",
       "  104,\n",
       "  105,\n",
       "  106,\n",
       "  107,\n",
       "  108},\n",
       " set(),\n",
       " {100, 101, 102, 103, 104, 105, 106, 107},\n",
       " set(),\n",
       " set(),\n",
       " set(),\n",
       " set(),\n",
       " set(),\n",
       " set(),\n",
       " set(),\n",
       " set(),\n",
       " set()]"
      ]
     },
     "execution_count": 31,
     "metadata": {},
     "output_type": "execute_result"
    }
   ],
   "source": [
    "ps.map_patterns(X_train[0].ravel(), features)"
   ]
  },
  {
   "cell_type": "code",
   "execution_count": 26,
   "metadata": {},
   "outputs": [],
   "source": [
    "from sktime.classification.shapelet_based.mrseql.mrseql import PySAX"
   ]
  },
  {
   "cell_type": "code",
   "execution_count": null,
   "metadata": {},
   "outputs": [],
   "source": []
  },
  {
   "cell_type": "code",
   "execution_count": 5,
   "metadata": {},
   "outputs": [
    {
     "data": {
      "text/plain": [
       "['__class__',\n",
       " '__delattr__',\n",
       " '__dir__',\n",
       " '__doc__',\n",
       " '__eq__',\n",
       " '__format__',\n",
       " '__ge__',\n",
       " '__getattribute__',\n",
       " '__gt__',\n",
       " '__hash__',\n",
       " '__init__',\n",
       " '__init_subclass__',\n",
       " '__le__',\n",
       " '__lt__',\n",
       " '__ne__',\n",
       " '__new__',\n",
       " '__reduce__',\n",
       " '__reduce_ex__',\n",
       " '__repr__',\n",
       " '__setattr__',\n",
       " '__setstate__',\n",
       " '__sizeof__',\n",
       " '__str__',\n",
       " '__subclasshook__',\n",
       " 'map_patterns',\n",
       " 'map_weighted_patterns',\n",
       " 'timeseries2SAX',\n",
       " 'timeseries2SAXseq']"
      ]
     },
     "execution_count": 5,
     "metadata": {},
     "output_type": "execute_result"
    }
   ],
   "source": [
    "dir(PySAX)"
   ]
  },
  {
   "cell_type": "code",
   "execution_count": 6,
   "metadata": {},
   "outputs": [
    {
     "data": {
      "text/plain": [
       "<method 'map_patterns' of 'sktime.classification.shapelet_based.mrseql.mrseql.PySAX' objects>"
      ]
     },
     "execution_count": 6,
     "metadata": {},
     "output_type": "execute_result"
    }
   ],
   "source": [
    "PySAX.map_patterns()"
   ]
  },
  {
   "cell_type": "code",
   "execution_count": 8,
   "metadata": {},
   "outputs": [
    {
     "ename": "ModuleNotFoundError",
     "evalue": "No module named 'sktime-forked'",
     "output_type": "error",
     "traceback": [
      "\u001b[0;31m---------------------------------------------------------------------------\u001b[0m",
      "\u001b[0;31mModuleNotFoundError\u001b[0m                       Traceback (most recent call last)",
      "\u001b[0;32m<ipython-input-8-12b4ab84f0ac>\u001b[0m in \u001b[0;36m<module>\u001b[0;34m\u001b[0m\n\u001b[0;32m----> 1\u001b[0;31m \u001b[0mtmp\u001b[0m \u001b[0;34m=\u001b[0m \u001b[0m__import__\u001b[0m\u001b[0;34m(\u001b[0m\u001b[0;34m'sktime-forked'\u001b[0m\u001b[0;34m)\u001b[0m\u001b[0;34m\u001b[0m\u001b[0;34m\u001b[0m\u001b[0m\n\u001b[0m",
      "\u001b[0;31mModuleNotFoundError\u001b[0m: No module named 'sktime-forked'"
     ]
    }
   ],
   "source": [
    "tmp = __import__('sktime-forked')"
   ]
  },
  {
   "cell_type": "code",
   "execution_count": 4,
   "metadata": {},
   "outputs": [
    {
     "data": {
      "text/plain": [
       "['__class__',\n",
       " '__delattr__',\n",
       " '__dir__',\n",
       " '__doc__',\n",
       " '__eq__',\n",
       " '__format__',\n",
       " '__ge__',\n",
       " '__getattribute__',\n",
       " '__gt__',\n",
       " '__hash__',\n",
       " '__init__',\n",
       " '__init_subclass__',\n",
       " '__le__',\n",
       " '__lt__',\n",
       " '__ne__',\n",
       " '__new__',\n",
       " '__reduce__',\n",
       " '__reduce_ex__',\n",
       " '__repr__',\n",
       " '__setattr__',\n",
       " '__setstate__',\n",
       " '__sizeof__',\n",
       " '__str__',\n",
       " '__subclasshook__',\n",
       " 'map_weighted_patterns',\n",
       " 'timeseries2SAX',\n",
       " 'timeseries2SAXseq']"
      ]
     },
     "execution_count": 4,
     "metadata": {},
     "output_type": "execute_result"
    }
   ],
   "source": [
    "dir(PySAX)"
   ]
  }
 ],
 "metadata": {
  "kernelspec": {
   "display_name": "Python 3",
   "language": "python",
   "name": "python3"
  },
  "language_info": {
   "codemirror_mode": {
    "name": "ipython",
    "version": 3
   },
   "file_extension": ".py",
   "mimetype": "text/x-python",
   "name": "python",
   "nbconvert_exporter": "python",
   "pygments_lexer": "ipython3",
   "version": "3.6.9"
  }
 },
 "nbformat": 4,
 "nbformat_minor": 2
}
