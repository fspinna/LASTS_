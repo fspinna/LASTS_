{
 "cells": [
  {
   "cell_type": "code",
   "execution_count": 2,
   "metadata": {},
   "outputs": [],
   "source": [
    "import pandas as pd\n",
    "import numpy as np\n",
    "import glob"
   ]
  },
  {
   "cell_type": "code",
   "execution_count": 3,
   "metadata": {},
   "outputs": [],
   "source": [
    "import os,sys,inspect\n",
    "currentdir = os.path.dirname(os.path.abspath(inspect.getfile(inspect.currentframe())))\n",
    "parentdir = os.path.dirname(currentdir)\n",
    "sys.path.insert(0,parentdir)"
   ]
  },
  {
   "cell_type": "code",
   "execution_count": null,
   "metadata": {},
   "outputs": [],
   "source": [
    "### training set"
   ]
  },
  {
   "cell_type": "code",
   "execution_count": 71,
   "metadata": {},
   "outputs": [
    {
     "name": "stdout",
     "output_type": "stream",
     "text": [
      "(7352, 128, 9)\n"
     ]
    }
   ],
   "source": [
    "path = parentdir + \"/datasets/har/train/Inertial Signals/\"\n",
    "all_files = glob.glob(os.path.join(path, \"*.txt\"))\n",
    "\n",
    "li = []\n",
    "\n",
    "for filename in all_files:\n",
    "    df = pd.read_csv(filename, delim_whitespace=True, header=None, squeeze=True)\n",
    "    li.append(df.values[:, :, np.newaxis])\n",
    "\n",
    "frame = np.concatenate(li, axis=2)\n",
    "print(frame.shape)\n",
    "np.save(\"X_train.npy\", frame)\n",
    "\n",
    "df = pd.read_csv(parentdir + \"/datasets/har/train/y_train.txt\", header=None).values\n",
    "np.save(\"y_train.npy\", df)"
   ]
  },
  {
   "cell_type": "code",
   "execution_count": 70,
   "metadata": {},
   "outputs": [
    {
     "name": "stdout",
     "output_type": "stream",
     "text": [
      "(7352, 128, 9)\n"
     ]
    }
   ],
   "source": [
    "path = parentdir + \"/datasets/har/test/Inertial Signals/\"\n",
    "all_files = glob.glob(os.path.join(path, \"*.txt\"))\n",
    "\n",
    "li = []\n",
    "\n",
    "for filename in all_files:\n",
    "    df = pd.read_csv(filename, delim_whitespace=True, header=None, squeeze=True)\n",
    "    li.append(df.values[:, :, np.newaxis])\n",
    "print(frame.shape)\n",
    "frame = np.concatenate(li, axis=2)\n",
    "np.save(\"X_test.npy\", frame)\n",
    "df = pd.read_csv(parentdir + \"/datasets/har/test/y_test.txt\", header=None).values\n",
    "np.save(\"y_test.npy\", df)"
   ]
  }
 ],
 "metadata": {
  "kernelspec": {
   "display_name": "Python 3",
   "language": "python",
   "name": "python3"
  },
  "language_info": {
   "codemirror_mode": {
    "name": "ipython",
    "version": 3
   },
   "file_extension": ".py",
   "mimetype": "text/x-python",
   "name": "python",
   "nbconvert_exporter": "python",
   "pygments_lexer": "ipython3",
   "version": "3.6.9"
  }
 },
 "nbformat": 4,
 "nbformat_minor": 2
}
