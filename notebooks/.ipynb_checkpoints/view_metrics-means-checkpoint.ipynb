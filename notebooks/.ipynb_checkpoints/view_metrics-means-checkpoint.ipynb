{
 "cells": [
  {
   "cell_type": "code",
   "execution_count": 1,
   "metadata": {},
   "outputs": [],
   "source": [
    "import os,sys,inspect\n",
    "currentdir = os.path.dirname(os.path.abspath(inspect.getfile(inspect.currentframe())))\n",
    "parentdir = os.path.dirname(currentdir)\n",
    "sys.path.insert(0,parentdir)"
   ]
  },
  {
   "cell_type": "code",
   "execution_count": 2,
   "metadata": {},
   "outputs": [],
   "source": [
    "from utils import read_metrics_csv"
   ]
  },
  {
   "cell_type": "markdown",
   "metadata": {},
   "source": [
    "### KNN"
   ]
  },
  {
   "cell_type": "code",
   "execution_count": 12,
   "metadata": {
    "scrolled": false
   },
   "outputs": [
    {
     "data": {
      "text/plain": [
       "gaussian_matched_saxdt    -0.555556\n",
       "gaussian_matched_stdt48   -0.555556\n",
       "gaussian_saxdt            -0.166667\n",
       "gaussian_stdt48           -0.166667\n",
       "lasts_lore_stdt           -0.166667\n",
       "matched_uniform_saxdt      1.000000\n",
       "matched_uniform_stdt420    1.000000\n",
       "matched_uniform_stdt48     1.000000\n",
       "normal_stdt                0.500000\n",
       "uniform_sphere_saxdt       1.000000\n",
       "uniform_sphere_stdt48      1.000000\n",
       "Name: lof_latent_x, dtype: float64"
      ]
     },
     "execution_count": 12,
     "metadata": {},
     "output_type": "execute_result"
    }
   ],
   "source": [
    "_, mean_df, _ = read_metrics_csv(parentdir + \"/test_metrics/knn/cbf/\", figsize=(20,5), plot=False)\n",
    "mean_df[\"fidelity_x\"]\n",
    "mean_df[\"lof_latent_x\"]"
   ]
  },
  {
   "cell_type": "code",
   "execution_count": 11,
   "metadata": {
    "scrolled": false
   },
   "outputs": [
    {
     "data": {
      "text/plain": [
       "gaussian_matched_saxdt      0.000000\n",
       "gaussian_matched_stdt20     0.000000\n",
       "gaussian_saxdt              0.214286\n",
       "gaussian_stdt20             0.214286\n",
       "lore_stdt                  -0.214286\n",
       "matched_uniform_saxdt       1.000000\n",
       "matched_uniform_stdt1560    1.000000\n",
       "matched_uniform_stdt20      1.000000\n",
       "normal_stdt                 1.000000\n",
       "uniform_sphere_saxdt        1.000000\n",
       "uniform_sphere_stdt20       1.000000\n",
       "Name: lof_latent_x, dtype: float64"
      ]
     },
     "execution_count": 11,
     "metadata": {},
     "output_type": "execute_result"
    }
   ],
   "source": [
    "_, mean_df, _ = read_metrics_csv(parentdir + \"/test_metrics/knn/coffee/\", figsize=(20,5), plot=False)\n",
    "mean_df[\"fidelity_x\"]\n",
    "mean_df[\"lof_latent_x\"]"
   ]
  },
  {
   "cell_type": "code",
   "execution_count": 10,
   "metadata": {
    "scrolled": false
   },
   "outputs": [
    {
     "data": {
      "text/plain": [
       "gaussian_matched_saxdt      0.46\n",
       "gaussian_matched_stdt20     0.46\n",
       "gaussian_saxdt              0.44\n",
       "gaussian_stdt20             0.44\n",
       "lore_stdt                   0.22\n",
       "matched_uniform_saxdt       1.00\n",
       "matched_uniform_stdt1440    1.00\n",
       "matched_uniform_stdt20      1.00\n",
       "normal_stdt                 1.00\n",
       "uniform_sphere_saxdt        1.00\n",
       "uniform_sphere_stdt20       1.00\n",
       "Name: lof_latent_x, dtype: float64"
      ]
     },
     "execution_count": 10,
     "metadata": {},
     "output_type": "execute_result"
    }
   ],
   "source": [
    "_, mean_df, _ = read_metrics_csv(parentdir + \"/test_metrics/knn/ecg200/\", figsize=(20,5), plot=False)\n",
    "mean_df[\"fidelity_x\"]\n",
    "mean_df[\"lof_latent_x\"]"
   ]
  },
  {
   "cell_type": "code",
   "execution_count": 9,
   "metadata": {
    "scrolled": false
   },
   "outputs": [
    {
     "data": {
      "text/plain": [
       "gaussian_matched_saxdt    0.12\n",
       "gaussian_matched_stdt     0.12\n",
       "gaussian_saxdt            0.08\n",
       "gaussian_stdt             0.08\n",
       "lore_saxdt               -0.52\n",
       "lore_stdt                -0.52\n",
       "matched_uniform_saxdt     1.00\n",
       "matched_uniform_stdt      1.00\n",
       "uniform_sphere_saxdt      1.00\n",
       "uniform_sphere_stdt       1.00\n",
       "Name: lof_latent_x, dtype: float64"
      ]
     },
     "execution_count": 9,
     "metadata": {},
     "output_type": "execute_result"
    }
   ],
   "source": [
    "_, mean_df, _ = read_metrics_csv(parentdir + \"/test_metrics/knn/gunpoint/\", figsize=(20,5), plot=False)\n",
    "mean_df[\"fidelity_x\"]\n",
    "mean_df[\"lof_latent_x\"]"
   ]
  },
  {
   "cell_type": "markdown",
   "metadata": {},
   "source": [
    "### RESNET"
   ]
  },
  {
   "cell_type": "code",
   "execution_count": 9,
   "metadata": {
    "scrolled": false
   },
   "outputs": [],
   "source": [
    "_, mean_df, _ = read_metrics_csv(parentdir + \"/test_metrics/resnet/cbf/\", figsize=(25,5), plot=False)\n",
    "mean_df[\"fidelity_x\"]\n",
    "mean_df[\"lof_latent_x\"]\n",
    "mean_df[[\"factual_precision\", \"counterfactual_precision\", \"factual_coverage\", \n",
    "         \"counterfactual_coverage\", \"silhouette_latent\"]].T.to_csv(\"resnet_cbf_temp.csv\", sep=\";\")"
   ]
  },
  {
   "cell_type": "code",
   "execution_count": 10,
   "metadata": {},
   "outputs": [],
   "source": [
    "_, mean_df, _ = read_metrics_csv(parentdir + \"/test_metrics/resnet/coffee/\", figsize=(25,5), plot=False)\n",
    "mean_df[\"fidelity_x\"]\n",
    "mean_df[\"lof_latent_x\"]\n",
    "mean_df[[\"factual_precision\", \"counterfactual_precision\", \"factual_coverage\", \n",
    "         \"counterfactual_coverage\", \"silhouette_latent\"]].T.to_csv(\"resnet_coffee_temp.csv\", sep=\";\")"
   ]
  },
  {
   "cell_type": "code",
   "execution_count": 14,
   "metadata": {
    "scrolled": false
   },
   "outputs": [],
   "source": [
    "_, mean_df, _ = read_metrics_csv(parentdir + \"/test_metrics/resnet/ecg200/\", figsize=(25,5), plot=False)\n",
    "mean_df[\"fidelity_x\"]\n",
    "mean_df[\"lof_latent_x\"]\n",
    "mean_df[[\"factual_precision\", \"counterfactual_precision\", \"factual_coverage\", \n",
    "         \"counterfactual_coverage\", \"silhouette_latent\"]].T.to_csv(\"resnet_ecg_temp.csv\", sep=\";\")"
   ]
  },
  {
   "cell_type": "code",
   "execution_count": 13,
   "metadata": {},
   "outputs": [],
   "source": [
    "_, mean_df, _ = read_metrics_csv(parentdir + \"/test_metrics/resnet/gunpoint/\", figsize=(25,5), plot=False)\n",
    "mean_df[\"fidelity_x\"]\n",
    "mean_df[\"lof_latent_x\"]\n",
    "mean_df[[\"factual_precision\", \"counterfactual_precision\", \"factual_coverage\", \n",
    "         \"counterfactual_coverage\", \"silhouette_latent\"]].T.to_csv(\"resnet_gun_temp.csv\", sep=\";\")"
   ]
  }
 ],
 "metadata": {
  "kernelspec": {
   "display_name": "Python 3",
   "language": "python",
   "name": "python3"
  },
  "language_info": {
   "codemirror_mode": {
    "name": "ipython",
    "version": 3
   },
   "file_extension": ".py",
   "mimetype": "text/x-python",
   "name": "python",
   "nbconvert_exporter": "python",
   "pygments_lexer": "ipython3",
   "version": "3.6.10"
  }
 },
 "nbformat": 4,
 "nbformat_minor": 4
}
