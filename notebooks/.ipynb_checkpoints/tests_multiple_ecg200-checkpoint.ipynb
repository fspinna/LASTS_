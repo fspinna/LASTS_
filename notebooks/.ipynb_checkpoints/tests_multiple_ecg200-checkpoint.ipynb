{
 "cells": [
  {
   "cell_type": "code",
   "execution_count": 5,
   "metadata": {},
   "outputs": [],
   "source": [
    "import os,sys,inspect\n",
    "currentdir = os.path.dirname(os.path.abspath(inspect.getfile(inspect.currentframe())))\n",
    "parentdir = os.path.dirname(currentdir)\n",
    "sys.path.insert(0,parentdir)"
   ]
  },
  {
   "cell_type": "code",
   "execution_count": 6,
   "metadata": {},
   "outputs": [],
   "source": [
    "from blackbox_wrapper import BlackboxWrapper\n",
    "import keras\n",
    "from datasets import build_ecg200\n",
    "from variational_autoencoder import load_model\n",
    "from lore_wrapper import LoreWrapper\n",
    "from neighborhood_generators import NeighborhoodGenerator\n",
    "from utils import choose_z\n",
    "from joblib import load\n",
    "from lasts import load_multiple_lasts\n",
    "import time\n",
    "import numpy as np\n",
    "from tests_multiple_lasts import generate_neighborhoods, multiple_tests, multiple_surrogate_fitting\n",
    "from sbgdt import Sbgdt\n",
    "from saxdt import Saxdt"
   ]
  },
  {
   "cell_type": "code",
   "execution_count": 3,
   "metadata": {},
   "outputs": [
    {
     "name": "stdout",
     "output_type": "stream",
     "text": [
      "DATASET INFO:\n",
      "X SHAPE:  (100, 96, 1)\n",
      "y SHAPE:  (100,)\n",
      "\n",
      "CLASSES BALANCE\n",
      "0 :  0.31\n",
      "1 :  0.69\n",
      "\n",
      "SHAPES:\n",
      "BLACKBOX TRAINING SET:  (80, 96, 1)\n",
      "BLACKBOX VALIDATION SET:  (20, 96, 1)\n",
      "BLACKBOX TEST SET:  (100, 96, 1)\n",
      "EXPLANATION TRAINING SET:  (80, 96, 1)\n",
      "EXPLANATION VALIDATION SET:  (20, 96, 1)\n",
      "EXPLANATION TEST SET:  (100, 96, 1)\n",
      "WARNING:tensorflow:From /Users/francesco/anaconda3/envs/lasts_01/lib/python3.6/site-packages/tensorflow/python/framework/op_def_library.py:263: colocate_with (from tensorflow.python.framework.ops) is deprecated and will be removed in a future version.\n",
      "Instructions for updating:\n",
      "Colocations handled automatically by placer.\n",
      "WARNING:tensorflow:From /Users/francesco/anaconda3/envs/lasts_01/lib/python3.6/site-packages/tensorflow/python/ops/math_ops.py:3066: to_int32 (from tensorflow.python.ops.math_ops) is deprecated and will be removed in a future version.\n",
      "Instructions for updating:\n",
      "Use tf.cast instead.\n"
     ]
    }
   ],
   "source": [
    "random_state = 0\n",
    "np.random.seed(random_state)\n",
    "dataset_name = \"ecg200\"\n",
    "blackbox_name = \"resnet\"\n",
    "\n",
    "file_path = parentdir + \"/saved/\" + dataset_name + \"_\" + blackbox_name + \"_\" + time.strftime(\"%Y%m%d_%H%M%S\")\n",
    "\n",
    "(X_train, y_train, X_val, y_val,\n",
    " X_test, y_test, X_exp_train, y_exp_train,\n",
    " X_exp_val, y_exp_val, X_exp_test, y_exp_test) = build_ecg200(\n",
    "    path=parentdir + \"/datasets/ECG200/\",\n",
    "    random_state = random_state\n",
    ")\n",
    "\n",
    "knn = load(parentdir + \"/trained_models/ecg200/ecg200_knn.joblib\")\n",
    "resnet = keras.models.load_model(parentdir + \"/trained_models/ecg200/ecg200_resnet.h5\")\n",
    "\n",
    "_, _, autoencoder = load_model(parentdir + \"/trained_models/ecg200/ecg200_vae\")\n",
    "\n",
    "blackbox = BlackboxWrapper(knn, 2, 1)\n",
    "blackbox = BlackboxWrapper(resnet, 3, 2)\n",
    "encoder = autoencoder.layers[2]\n",
    "decoder = autoencoder.layers[3]"
   ]
  },
  {
   "cell_type": "code",
   "execution_count": null,
   "metadata": {},
   "outputs": [],
   "source": [
    "\"\"\"neighborhood_names = [\"gaussian_matched\", \"uniform_sphere\", \"gaussian\", \"matched_uniform\"]\n",
    "neighborhood_list = [NeighborhoodGenerator, NeighborhoodGenerator, NeighborhoodGenerator, NeighborhoodGenerator]\n",
    "neighborhood_kwargs_list = [\n",
    "        {\n",
    "            \"n\": 500,\n",
    "            \"n_search\": 10000,\n",
    "            \"threshold\": 2,\n",
    "            \"kind\": \"gaussian_matched\",\n",
    "            \"sampling_kind\": \"gaussian_matched\",\n",
    "            \"verbose\": True,\n",
    "            \"redo_search\": True,\n",
    "            \"forced_balance_ratio\": 0.5,\n",
    "            \"cut_radius\": False\n",
    "        },\n",
    "        {\n",
    "            \"n\": 500,\n",
    "            \"n_search\": 10000,\n",
    "            \"threshold\": 2,\n",
    "            \"kind\": \"uniform_sphere\",\n",
    "            \"sampling_kind\": \"uniform_sphere\",\n",
    "            \"verbose\": True,\n",
    "            \"redo_search\": True,\n",
    "            \"forced_balance_ratio\": 0.5,\n",
    "            \"cut_radius\": True\n",
    "        },\n",
    "        {\n",
    "            \"n\": 500,\n",
    "            \"n_search\": 10000,\n",
    "            \"threshold\": 2,\n",
    "            \"kind\": \"gaussian\",\n",
    "            \"sampling_kind\": \"gaussian\",\n",
    "            \"verbose\": True,\n",
    "            \"redo_search\": True,\n",
    "            \"forced_balance_ratio\": 0.5,\n",
    "            \"cut_radius\": False\n",
    "        },\n",
    "        {\n",
    "            \"n\": 500,\n",
    "            \"n_search\": 10000,\n",
    "            \"threshold\": 2,\n",
    "            \"kind\": \"gaussian_matched\",\n",
    "            \"sampling_kind\": \"uniform_sphere\",\n",
    "            \"verbose\": True,\n",
    "            \"redo_search\": True,\n",
    "            \"forced_balance_ratio\": 0.5,\n",
    "            \"cut_radius\": True\n",
    "        },\n",
    "    ]\"\"\""
   ]
  },
  {
   "cell_type": "code",
   "execution_count": 11,
   "metadata": {},
   "outputs": [],
   "source": [
    "\"\"\"neighborhood_names = [\"uniform_sphere\"]\n",
    "neighborhood_list = [NeighborhoodGenerator]\n",
    "neighborhood_kwargs_list = [\n",
    "        {\n",
    "            \"n\": 500,\n",
    "            \"n_search\": 10000,\n",
    "            \"threshold\": 2,\n",
    "            \"kind\": \"uniform_sphere\",\n",
    "            \"sampling_kind\": \"uniform_sphere\",\n",
    "            \"verbose\": False,\n",
    "            \"redo_search\": True,\n",
    "            \"forced_balance_ratio\": 0.5,\n",
    "            \"cut_radius\": True\n",
    "        }\n",
    "    ]\"\"\""
   ]
  },
  {
   "cell_type": "code",
   "execution_count": 5,
   "metadata": {},
   "outputs": [],
   "source": [
    "\"\"\"neighborhood_names = [\"gaussian\", \"matched_uniform\", \"lore\"]\n",
    "neighborhood_list = [NeighborhoodGenerator, NeighborhoodGenerator, LoreWrapper]\n",
    "neighborhood_kwargs_list = [\n",
    "        {\n",
    "            \"n\": 500,\n",
    "            \"n_search\": 10000,\n",
    "            \"threshold\": 2,\n",
    "            \"kind\": \"gaussian\",\n",
    "            \"sampling_kind\": \"gaussian\",\n",
    "            \"verbose\": False,\n",
    "            \"redo_search\": True,\n",
    "            \"forced_balance_ratio\": 0.5,\n",
    "            \"cut_radius\": False\n",
    "        },\n",
    "        {\n",
    "            \"n\": 500,\n",
    "            \"n_search\": 10000,\n",
    "            \"threshold\": 2,\n",
    "            \"kind\": \"gaussian_matched\",\n",
    "            \"sampling_kind\": \"uniform_sphere\",\n",
    "            \"verbose\": False,\n",
    "            \"redo_search\": True,\n",
    "            \"forced_balance_ratio\": 0.5,\n",
    "            \"cut_radius\": True\n",
    "        },\n",
    "        {\"verbose\": True, \"samples\": 500, \"ngen\": 10}\n",
    "    ]\n",
    "surrogate_kwargs_list = [{\"random_state\": np.random.seed(0), \"create_plotting_dictionaries\":False}]\n",
    "surrogate_list = [Saxdt]\n",
    "surrogate_names = [\"saxdt\"]\"\"\""
   ]
  },
  {
   "cell_type": "code",
   "execution_count": 12,
   "metadata": {},
   "outputs": [],
   "source": [
    "from sbgdt import generate_n_shapelets_per_size\n",
    "n_shapelets_per_size = generate_n_shapelets_per_size(X_train.shape[1], n_shapelets_per_length=2, \n",
    "                                                     min_length=8, start_divider=2, divider_multiplier=1.2)\n",
    "surrogate_kwargs_list = [{\"shapelet_model_params\": {\"max_iter\": 50, \"n_shapelets_per_size\":n_shapelets_per_size}, \n",
    "                          \"random_state\": random_state},\n",
    "                             {\"random_state\": np.random.seed(0), \"create_plotting_dictionaries\":False}]\n",
    "\n",
    "surrogate_list = [Sbgdt, Saxdt]\n",
    "surrogate_names = [\"stdt\", \"saxdt\"]"
   ]
  },
  {
   "cell_type": "code",
   "execution_count": null,
   "metadata": {},
   "outputs": [],
   "source": [
    "\"\"\"neighborhood_list = [LoreWrapper]\n",
    "neighborhood_names = [\"lore\"]\n",
    "neighborhood_kwargs_list = [{\"verbose\": True, \"samples\": 500, \"ngen\": 10}]\n",
    "surrogate_kwargs_list = [{\"shapelet_model_params\": {\"max_iter\": 50}, \"random_state\": random_state}, \n",
    "                         {\"random_state\": np.random.seed(0), \"create_plotting_dictionaries\":False}]\n",
    "surrogate_list = [Sbgdt, Saxdt]\n",
    "surrogate_names = [\"stdt\", \"saxdt\"]\"\"\""
   ]
  },
  {
   "cell_type": "code",
   "execution_count": 4,
   "metadata": {},
   "outputs": [
    {
     "ename": "FileNotFoundError",
     "evalue": "[Errno 2] No such file or directory: '/Users/francesco/github/LASTS/saved/ecg200_resnet_20210218_181237/lore_saxdt/lasts_list.pkl'",
     "output_type": "error",
     "traceback": [
      "\u001b[0;31m---------------------------------------------------------------------------\u001b[0m",
      "\u001b[0;31mFileNotFoundError\u001b[0m                         Traceback (most recent call last)",
      "\u001b[0;32m<ipython-input-4-02cbddeed6a7>\u001b[0m in \u001b[0;36m<module>\u001b[0;34m\u001b[0m\n\u001b[1;32m      1\u001b[0m \u001b[0;32mfrom\u001b[0m \u001b[0mlasts\u001b[0m \u001b[0;32mimport\u001b[0m \u001b[0mload_multiple_lasts\u001b[0m\u001b[0;34m\u001b[0m\u001b[0;34m\u001b[0m\u001b[0m\n\u001b[0;32m----> 2\u001b[0;31m \u001b[0mlasts_lists\u001b[0m \u001b[0;34m=\u001b[0m \u001b[0mload_multiple_lasts\u001b[0m\u001b[0;34m(\u001b[0m\u001b[0mparentdir\u001b[0m \u001b[0;34m+\u001b[0m \u001b[0;34m\"/saved/ecg200_resnet_20210218_181237/lore_saxdt\"\u001b[0m\u001b[0;34m,\u001b[0m \u001b[0msimple_load\u001b[0m\u001b[0;34m=\u001b[0m\u001b[0;32mTrue\u001b[0m\u001b[0;34m)\u001b[0m\u001b[0;34m\u001b[0m\u001b[0;34m\u001b[0m\u001b[0m\n\u001b[0m\u001b[1;32m      3\u001b[0m \u001b[0mneighborhood_list\u001b[0m \u001b[0;34m=\u001b[0m \u001b[0;34m[\u001b[0m\u001b[0mLoreWrapper\u001b[0m\u001b[0;34m]\u001b[0m\u001b[0;34m\u001b[0m\u001b[0;34m\u001b[0m\u001b[0m\n\u001b[1;32m      4\u001b[0m \u001b[0mneighborhood_names\u001b[0m \u001b[0;34m=\u001b[0m \u001b[0;34m[\u001b[0m\u001b[0;34m\"lore\"\u001b[0m\u001b[0;34m]\u001b[0m\u001b[0;34m\u001b[0m\u001b[0;34m\u001b[0m\u001b[0m\n\u001b[1;32m      5\u001b[0m \u001b[0mneighborhood_kwargs_list\u001b[0m \u001b[0;34m=\u001b[0m \u001b[0;34m[\u001b[0m\u001b[0;34m{\u001b[0m\u001b[0;34m\"verbose\"\u001b[0m\u001b[0;34m:\u001b[0m \u001b[0;32mFalse\u001b[0m\u001b[0;34m,\u001b[0m \u001b[0;34m\"samples\"\u001b[0m\u001b[0;34m:\u001b[0m \u001b[0;36m500\u001b[0m\u001b[0;34m,\u001b[0m \u001b[0;34m\"ngen\"\u001b[0m\u001b[0;34m:\u001b[0m \u001b[0;36m10\u001b[0m\u001b[0;34m}\u001b[0m\u001b[0;34m]\u001b[0m\u001b[0;34m\u001b[0m\u001b[0;34m\u001b[0m\u001b[0m\n",
      "\u001b[0;32m~/github/LASTS/lasts.py\u001b[0m in \u001b[0;36mload_multiple_lasts\u001b[0;34m(file_path, verbose, load_sbgdt_model, locator, model, transformer, simple_load, load_idxs)\u001b[0m\n\u001b[1;32m    170\u001b[0m     \"\"\"\n\u001b[1;32m    171\u001b[0m     \u001b[0mfolder\u001b[0m \u001b[0;34m=\u001b[0m \u001b[0mfile_path\u001b[0m \u001b[0;34m+\u001b[0m \u001b[0;34m\"/\"\u001b[0m\u001b[0;34m\u001b[0m\u001b[0;34m\u001b[0m\u001b[0m\n\u001b[0;32m--> 172\u001b[0;31m     \u001b[0mlasts_list\u001b[0m \u001b[0;34m=\u001b[0m \u001b[0mload\u001b[0m\u001b[0;34m(\u001b[0m\u001b[0mfile_path\u001b[0m \u001b[0;34m+\u001b[0m \u001b[0;34m\"/\"\u001b[0m \u001b[0;34m+\u001b[0m \u001b[0;34m\"lasts_list.pkl\"\u001b[0m\u001b[0;34m)\u001b[0m\u001b[0;34m\u001b[0m\u001b[0;34m\u001b[0m\u001b[0m\n\u001b[0m\u001b[1;32m    173\u001b[0m     \u001b[0;32mif\u001b[0m \u001b[0msimple_load\u001b[0m\u001b[0;34m:\u001b[0m\u001b[0;34m\u001b[0m\u001b[0;34m\u001b[0m\u001b[0m\n\u001b[1;32m    174\u001b[0m         \u001b[0;32mreturn\u001b[0m \u001b[0mlasts_list\u001b[0m\u001b[0;34m\u001b[0m\u001b[0;34m\u001b[0m\u001b[0m\n",
      "\u001b[0;32m~/anaconda3/envs/lasts_01/lib/python3.6/site-packages/joblib/numpy_pickle.py\u001b[0m in \u001b[0;36mload\u001b[0;34m(filename, mmap_mode)\u001b[0m\n\u001b[1;32m    575\u001b[0m             \u001b[0mobj\u001b[0m \u001b[0;34m=\u001b[0m \u001b[0m_unpickle\u001b[0m\u001b[0;34m(\u001b[0m\u001b[0mfobj\u001b[0m\u001b[0;34m)\u001b[0m\u001b[0;34m\u001b[0m\u001b[0;34m\u001b[0m\u001b[0m\n\u001b[1;32m    576\u001b[0m     \u001b[0;32melse\u001b[0m\u001b[0;34m:\u001b[0m\u001b[0;34m\u001b[0m\u001b[0;34m\u001b[0m\u001b[0m\n\u001b[0;32m--> 577\u001b[0;31m         \u001b[0;32mwith\u001b[0m \u001b[0mopen\u001b[0m\u001b[0;34m(\u001b[0m\u001b[0mfilename\u001b[0m\u001b[0;34m,\u001b[0m \u001b[0;34m'rb'\u001b[0m\u001b[0;34m)\u001b[0m \u001b[0;32mas\u001b[0m \u001b[0mf\u001b[0m\u001b[0;34m:\u001b[0m\u001b[0;34m\u001b[0m\u001b[0;34m\u001b[0m\u001b[0m\n\u001b[0m\u001b[1;32m    578\u001b[0m             \u001b[0;32mwith\u001b[0m \u001b[0m_read_fileobject\u001b[0m\u001b[0;34m(\u001b[0m\u001b[0mf\u001b[0m\u001b[0;34m,\u001b[0m \u001b[0mfilename\u001b[0m\u001b[0;34m,\u001b[0m \u001b[0mmmap_mode\u001b[0m\u001b[0;34m)\u001b[0m \u001b[0;32mas\u001b[0m \u001b[0mfobj\u001b[0m\u001b[0;34m:\u001b[0m\u001b[0;34m\u001b[0m\u001b[0;34m\u001b[0m\u001b[0m\n\u001b[1;32m    579\u001b[0m                 \u001b[0;32mif\u001b[0m \u001b[0misinstance\u001b[0m\u001b[0;34m(\u001b[0m\u001b[0mfobj\u001b[0m\u001b[0;34m,\u001b[0m \u001b[0mstr\u001b[0m\u001b[0;34m)\u001b[0m\u001b[0;34m:\u001b[0m\u001b[0;34m\u001b[0m\u001b[0;34m\u001b[0m\u001b[0m\n",
      "\u001b[0;31mFileNotFoundError\u001b[0m: [Errno 2] No such file or directory: '/Users/francesco/github/LASTS/saved/ecg200_resnet_20210218_181237/lore_saxdt/lasts_list.pkl'"
     ]
    }
   ],
   "source": [
    "from lasts import load_multiple_lasts\n",
    "lasts_lists = [load_multiple_lasts(parentdir + \"/saved/ecg200_resnet_20210218_181237/lore_saxdt\", simple_load=True)]\n",
    "neighborhood_list = [LoreWrapper]\n",
    "neighborhood_names = [\"lore\"]\n",
    "neighborhood_kwargs_list = [{\"verbose\": False, \"samples\": 500, \"ngen\": 10}]\n",
    "surrogate_kwargs_list = [{\"shapelet_model_params\": {\"max_iter\": 50}, \"random_state\": random_state}]\n",
    "surrogate_list = [Sbgdt]\n",
    "surrogate_names = [\"stdt\"]"
   ]
  },
  {
   "cell_type": "code",
   "execution_count": null,
   "metadata": {
    "scrolled": true
   },
   "outputs": [
    {
     "name": "stdout",
     "output_type": "stream",
     "text": [
      "--- MULTIPLE LASTS TESTS ---\n",
      "\n",
      " --> RECONSTRUCTION ACCURACY: 1.0\n",
      "\n",
      "\n",
      "--- NEIGHBORHOOD GENERATIONS ---\n",
      "\n",
      " --> LORE\n",
      "  NEIGHGEN: 1 / 1 | INSTANCE: 1 / 100\n",
      "  NEIGHGEN: 1 / 1 | INSTANCE: 2 / 100\n",
      "  NEIGHGEN: 1 / 1 | INSTANCE: 3 / 100\n",
      "  NEIGHGEN: 1 / 1 | INSTANCE: 4 / 100\n",
      "  NEIGHGEN: 1 / 1 | INSTANCE: 5 / 100\n",
      "  NEIGHGEN: 1 / 1 | INSTANCE: 6 / 100\n",
      "  NEIGHGEN: 1 / 1 | INSTANCE: 7 / 100\n",
      "  NEIGHGEN: 1 / 1 | INSTANCE: 8 / 100\n",
      "  NEIGHGEN: 1 / 1 | INSTANCE: 9 / 100\n",
      "  NEIGHGEN: 1 / 1 | INSTANCE: 10 / 100\n",
      "  NEIGHGEN: 1 / 1 | INSTANCE: 11 / 100\n",
      "  NEIGHGEN: 1 / 1 | INSTANCE: 12 / 100\n",
      "  NEIGHGEN: 1 / 1 | INSTANCE: 13 / 100\n",
      "  NEIGHGEN: 1 / 1 | INSTANCE: 14 / 100\n",
      "  NEIGHGEN: 1 / 1 | INSTANCE: 15 / 100\n",
      "  NEIGHGEN: 1 / 1 | INSTANCE: 16 / 100\n",
      "  NEIGHGEN: 1 / 1 | INSTANCE: 17 / 100\n",
      "  NEIGHGEN: 1 / 1 | INSTANCE: 18 / 100\n",
      "  NEIGHGEN: 1 / 1 | INSTANCE: 19 / 100\n",
      "  NEIGHGEN: 1 / 1 | INSTANCE: 20 / 100\n",
      "  NEIGHGEN: 1 / 1 | INSTANCE: 21 / 100\n",
      "  NEIGHGEN: 1 / 1 | INSTANCE: 22 / 100\n",
      "  NEIGHGEN: 1 / 1 | INSTANCE: 23 / 100\n",
      "  NEIGHGEN: 1 / 1 | INSTANCE: 24 / 100\n",
      "  NEIGHGEN: 1 / 1 | INSTANCE: 25 / 100\n",
      "  NEIGHGEN: 1 / 1 | INSTANCE: 26 / 100\n",
      "  NEIGHGEN: 1 / 1 | INSTANCE: 27 / 100\n",
      "  NEIGHGEN: 1 / 1 | INSTANCE: 28 / 100\n",
      "  NEIGHGEN: 1 / 1 | INSTANCE: 29 / 100\n",
      "  NEIGHGEN: 1 / 1 | INSTANCE: 30 / 100\n",
      "  NEIGHGEN: 1 / 1 | INSTANCE: 31 / 100\n",
      "  NEIGHGEN: 1 / 1 | INSTANCE: 32 / 100\n",
      "  NEIGHGEN: 1 / 1 | INSTANCE: 33 / 100\n",
      "  NEIGHGEN: 1 / 1 | INSTANCE: 34 / 100\n",
      "  NEIGHGEN: 1 / 1 | INSTANCE: 35 / 100\n",
      "  NEIGHGEN: 1 / 1 | INSTANCE: 36 / 100\n",
      "  NEIGHGEN: 1 / 1 | INSTANCE: 37 / 100\n",
      "  NEIGHGEN: 1 / 1 | INSTANCE: 38 / 100\n",
      "  NEIGHGEN: 1 / 1 | INSTANCE: 39 / 100\n",
      "  NEIGHGEN: 1 / 1 | INSTANCE: 40 / 100\n",
      "  NEIGHGEN: 1 / 1 | INSTANCE: 41 / 100\n",
      "  NEIGHGEN: 1 / 1 | INSTANCE: 42 / 100\n",
      "  NEIGHGEN: 1 / 1 | INSTANCE: 43 / 100\n",
      "  NEIGHGEN: 1 / 1 | INSTANCE: 44 / 100\n",
      "  NEIGHGEN: 1 / 1 | INSTANCE: 45 / 100\n",
      "  NEIGHGEN: 1 / 1 | INSTANCE: 46 / 100\n",
      "  NEIGHGEN: 1 / 1 | INSTANCE: 47 / 100\n",
      "  NEIGHGEN: 1 / 1 | INSTANCE: 48 / 100\n",
      "  NEIGHGEN: 1 / 1 | INSTANCE: 49 / 100\n",
      "  NEIGHGEN: 1 / 1 | INSTANCE: 50 / 100\n",
      "  NEIGHGEN: 1 / 1 | INSTANCE: 51 / 100\n",
      "  NEIGHGEN: 1 / 1 | INSTANCE: 52 / 100\n",
      "  NEIGHGEN: 1 / 1 | INSTANCE: 53 / 100\n",
      "  NEIGHGEN: 1 / 1 | INSTANCE: 54 / 100\n",
      "  NEIGHGEN: 1 / 1 | INSTANCE: 55 / 100\n",
      "  NEIGHGEN: 1 / 1 | INSTANCE: 56 / 100\n",
      "  NEIGHGEN: 1 / 1 | INSTANCE: 57 / 100\n",
      "  NEIGHGEN: 1 / 1 | INSTANCE: 58 / 100\n",
      "  NEIGHGEN: 1 / 1 | INSTANCE: 59 / 100\n",
      "  NEIGHGEN: 1 / 1 | INSTANCE: 60 / 100\n",
      "  NEIGHGEN: 1 / 1 | INSTANCE: 61 / 100\n",
      "  NEIGHGEN: 1 / 1 | INSTANCE: 62 / 100\n",
      "  NEIGHGEN: 1 / 1 | INSTANCE: 63 / 100\n",
      "  NEIGHGEN: 1 / 1 | INSTANCE: 64 / 100\n",
      "  NEIGHGEN: 1 / 1 | INSTANCE: 65 / 100\n",
      "  NEIGHGEN: 1 / 1 | INSTANCE: 66 / 100\n",
      "  NEIGHGEN: 1 / 1 | INSTANCE: 67 / 100\n",
      "  NEIGHGEN: 1 / 1 | INSTANCE: 68 / 100\n",
      "  NEIGHGEN: 1 / 1 | INSTANCE: 69 / 100\n",
      "  NEIGHGEN: 1 / 1 | INSTANCE: 70 / 100\n",
      "  NEIGHGEN: 1 / 1 | INSTANCE: 71 / 100\n",
      "  NEIGHGEN: 1 / 1 | INSTANCE: 72 / 100\n",
      "  NEIGHGEN: 1 / 1 | INSTANCE: 73 / 100\n",
      "  NEIGHGEN: 1 / 1 | INSTANCE: 74 / 100\n",
      "  NEIGHGEN: 1 / 1 | INSTANCE: 75 / 100\n",
      "  NEIGHGEN: 1 / 1 | INSTANCE: 76 / 100\n",
      "  NEIGHGEN: 1 / 1 | INSTANCE: 77 / 100\n",
      "  NEIGHGEN: 1 / 1 | INSTANCE: 78 / 100\n",
      "  NEIGHGEN: 1 / 1 | INSTANCE: 79 / 100\n",
      "  NEIGHGEN: 1 / 1 | INSTANCE: 80 / 100\n",
      "  NEIGHGEN: 1 / 1 | INSTANCE: 81 / 100\n",
      "  NEIGHGEN: 1 / 1 | INSTANCE: 82 / 100\n",
      "  NEIGHGEN: 1 / 1 | INSTANCE: 83 / 100\n",
      "  NEIGHGEN: 1 / 1 | INSTANCE: 84 / 100\n",
      "  NEIGHGEN: 1 / 1 | INSTANCE: 85 / 100\n",
      "  NEIGHGEN: 1 / 1 | INSTANCE: 86 / 100\n",
      "  NEIGHGEN: 1 / 1 | INSTANCE: 87 / 100\n",
      "  NEIGHGEN: 1 / 1 | INSTANCE: 88 / 100\n",
      "  NEIGHGEN: 1 / 1 | INSTANCE: 89 / 100\n",
      "  NEIGHGEN: 1 / 1 | INSTANCE: 90 / 100\n",
      "  NEIGHGEN: 1 / 1 | INSTANCE: 91 / 100\n",
      "  NEIGHGEN: 1 / 1 | INSTANCE: 92 / 100\n",
      "  NEIGHGEN: 1 / 1 | INSTANCE: 93 / 100\n",
      "  NEIGHGEN: 1 / 1 | INSTANCE: 94 / 100\n",
      "  NEIGHGEN: 1 / 1 | INSTANCE: 95 / 100\n",
      "  NEIGHGEN: 1 / 1 | INSTANCE: 96 / 100\n",
      "  NEIGHGEN: 1 / 1 | INSTANCE: 97 / 100\n",
      "  NEIGHGEN: 1 / 1 | INSTANCE: 98 / 100\n",
      "  NEIGHGEN: 1 / 1 | INSTANCE: 99 / 100\n",
      "  NEIGHGEN: 1 / 1 | INSTANCE: 100 / 100\n",
      "\n",
      "\n",
      "--- SURROGATE FITTING ---\n",
      "\n",
      " --> LORE_STDT\n",
      "  INSTANCE: 1 / 100\n",
      "  INSTANCE: 2 / 100\n",
      "  INSTANCE: 3 / 100\n",
      "  INSTANCE: 4 / 100\n",
      "  INSTANCE: 5 / 100\n",
      "  INSTANCE: 6 / 100\n",
      "  INSTANCE: 7 / 100\n",
      "  INSTANCE: 8 / 100\n",
      "  INSTANCE: 9 / 100\n",
      "  INSTANCE: 10 / 100\n",
      "  INSTANCE: 11 / 100\n",
      "  INSTANCE: 12 / 100\n",
      "  INSTANCE: 13 / 100\n",
      "  INSTANCE: 14 / 100\n",
      "  INSTANCE: 15 / 100\n",
      "  INSTANCE: 16 / 100\n",
      "  INSTANCE: 17 / 100\n",
      "  INSTANCE: 18 / 100\n",
      "  INSTANCE: 19 / 100\n",
      "  INSTANCE: 20 / 100\n",
      "  INSTANCE: 21 / 100\n",
      "  INSTANCE: 22 / 100\n",
      "  INSTANCE: 23 / 100\n",
      "  INSTANCE: 24 / 100\n",
      "  INSTANCE: 25 / 100\n",
      "  INSTANCE: 26 / 100\n",
      "  INSTANCE: 27 / 100\n",
      "  INSTANCE: 28 / 100\n",
      "  INSTANCE: 29 / 100\n",
      "  INSTANCE: 30 / 100\n",
      "  INSTANCE: 31 / 100\n",
      "  INSTANCE: 32 / 100\n",
      "  INSTANCE: 33 / 100\n",
      "  INSTANCE: 34 / 100\n",
      "  INSTANCE: 35 / 100\n",
      "  INSTANCE: 36 / 100\n",
      "  INSTANCE: 37 / 100\n",
      "  INSTANCE: 38 / 100\n",
      "  INSTANCE: 39 / 100\n",
      "  INSTANCE: 40 / 100\n",
      "  INSTANCE: 41 / 100\n",
      "  INSTANCE: 42 / 100\n",
      "  INSTANCE: 43 / 100\n",
      "  INSTANCE: 44 / 100\n",
      "  INSTANCE: 45 / 100\n",
      "  INSTANCE: 46 / 100\n",
      "  INSTANCE: 47 / 100\n",
      "  INSTANCE: 48 / 100\n",
      "  INSTANCE: 49 / 100\n",
      "  INSTANCE: 50 / 100\n",
      "  INSTANCE: 51 / 100\n",
      "  INSTANCE: 52 / 100\n",
      "  INSTANCE: 53 / 100\n",
      "  INSTANCE: 54 / 100\n",
      "  INSTANCE: 55 / 100\n",
      "  INSTANCE: 56 / 100\n",
      "  INSTANCE: 57 / 100\n",
      "  INSTANCE: 58 / 100\n",
      "  INSTANCE: 59 / 100\n",
      "  INSTANCE: 60 / 100\n",
      "  INSTANCE: 61 / 100\n",
      "  INSTANCE: 62 / 100\n",
      "  INSTANCE: 63 / 100\n",
      "  INSTANCE: 64 / 100\n",
      "  INSTANCE: 65 / 100\n",
      "  INSTANCE: 66 / 100\n",
      "  INSTANCE: 67 / 100\n",
      "  INSTANCE: 68 / 100\n",
      "  INSTANCE: 69 / 100\n",
      "  INSTANCE: 70 / 100\n",
      "  INSTANCE: 71 / 100\n",
      "  INSTANCE: 72 / 100\n",
      "  INSTANCE: 73 / 100\n",
      "  INSTANCE: 74 / 100\n",
      "  INSTANCE: 75 / 100\n",
      "  INSTANCE: 76 / 100\n"
     ]
    }
   ],
   "source": [
    "%%time\n",
    "Z_fixed = load(parentdir + \"/saved/ecg200_resnet_20210217_173347/Z_fixed.joblib\")\n",
    "out = multiple_tests(\n",
    "        X_exp_test,\n",
    "        blackbox,\n",
    "        encoder,\n",
    "        decoder,\n",
    "        neighborhood_list=neighborhood_list,\n",
    "        neighborhood_kwargs_list=neighborhood_kwargs_list,\n",
    "        neighborhood_names=neighborhood_names,\n",
    "        surrogate_list=surrogate_list,\n",
    "        surrogate_kwargs_list=surrogate_kwargs_list,\n",
    "        surrogate_names=surrogate_names,\n",
    "        file_path=file_path,\n",
    "        random_state=random_state,\n",
    "        n_instances_to_explain=None,\n",
    "        verbose=True,\n",
    "        simple_dump=[False],\n",
    "        boxplots=True,\n",
    "        Z_fixed=Z_fixed,\n",
    "        custom_lasts_lists=lasts_lists\n",
    "    )"
   ]
  },
  {
   "cell_type": "code",
   "execution_count": 14,
   "metadata": {
    "scrolled": true
   },
   "outputs": [
    {
     "name": "stdout",
     "output_type": "stream",
     "text": [
      "--- MULTIPLE LASTS TESTS ---\n",
      "\n",
      " --> RECONSTRUCTION ACCURACY: 1.0\n",
      "\n",
      "\n",
      "--- NEIGHBORHOOD GENERATIONS ---\n",
      "\n",
      " --> UNIFORM_SPHERE\n",
      "  NEIGHGEN: 1 / 1 | INSTANCE: 1 / 100\n",
      "  NEIGHGEN: 1 / 1 | INSTANCE: 2 / 100\n",
      "  NEIGHGEN: 1 / 1 | INSTANCE: 3 / 100\n",
      "  NEIGHGEN: 1 / 1 | INSTANCE: 4 / 100\n",
      "  NEIGHGEN: 1 / 1 | INSTANCE: 5 / 100\n",
      "  NEIGHGEN: 1 / 1 | INSTANCE: 6 / 100\n",
      "  NEIGHGEN: 1 / 1 | INSTANCE: 7 / 100\n",
      "  NEIGHGEN: 1 / 1 | INSTANCE: 8 / 100\n",
      "  NEIGHGEN: 1 / 1 | INSTANCE: 9 / 100\n",
      "  NEIGHGEN: 1 / 1 | INSTANCE: 10 / 100\n",
      "  NEIGHGEN: 1 / 1 | INSTANCE: 11 / 100\n",
      "  NEIGHGEN: 1 / 1 | INSTANCE: 12 / 100\n",
      "  NEIGHGEN: 1 / 1 | INSTANCE: 13 / 100\n",
      "  NEIGHGEN: 1 / 1 | INSTANCE: 14 / 100\n",
      "  NEIGHGEN: 1 / 1 | INSTANCE: 15 / 100\n",
      "  NEIGHGEN: 1 / 1 | INSTANCE: 16 / 100\n",
      "  NEIGHGEN: 1 / 1 | INSTANCE: 17 / 100\n",
      "  NEIGHGEN: 1 / 1 | INSTANCE: 18 / 100\n",
      "  NEIGHGEN: 1 / 1 | INSTANCE: 19 / 100\n",
      "  NEIGHGEN: 1 / 1 | INSTANCE: 20 / 100\n",
      "  NEIGHGEN: 1 / 1 | INSTANCE: 21 / 100\n",
      "  NEIGHGEN: 1 / 1 | INSTANCE: 22 / 100\n",
      "  NEIGHGEN: 1 / 1 | INSTANCE: 23 / 100\n",
      "  NEIGHGEN: 1 / 1 | INSTANCE: 24 / 100\n",
      "  NEIGHGEN: 1 / 1 | INSTANCE: 25 / 100\n",
      "  NEIGHGEN: 1 / 1 | INSTANCE: 26 / 100\n",
      "  NEIGHGEN: 1 / 1 | INSTANCE: 27 / 100\n",
      "  NEIGHGEN: 1 / 1 | INSTANCE: 28 / 100\n",
      "  NEIGHGEN: 1 / 1 | INSTANCE: 29 / 100\n",
      "  NEIGHGEN: 1 / 1 | INSTANCE: 30 / 100\n",
      "  NEIGHGEN: 1 / 1 | INSTANCE: 31 / 100\n",
      "  NEIGHGEN: 1 / 1 | INSTANCE: 32 / 100\n",
      "  NEIGHGEN: 1 / 1 | INSTANCE: 33 / 100\n",
      "  NEIGHGEN: 1 / 1 | INSTANCE: 34 / 100\n",
      "  NEIGHGEN: 1 / 1 | INSTANCE: 35 / 100\n",
      "  NEIGHGEN: 1 / 1 | INSTANCE: 36 / 100\n",
      "  NEIGHGEN: 1 / 1 | INSTANCE: 37 / 100\n",
      "  NEIGHGEN: 1 / 1 | INSTANCE: 38 / 100\n",
      "  NEIGHGEN: 1 / 1 | INSTANCE: 39 / 100\n",
      "  NEIGHGEN: 1 / 1 | INSTANCE: 40 / 100\n",
      "  NEIGHGEN: 1 / 1 | INSTANCE: 41 / 100\n",
      "  NEIGHGEN: 1 / 1 | INSTANCE: 42 / 100\n",
      "  NEIGHGEN: 1 / 1 | INSTANCE: 43 / 100\n",
      "  NEIGHGEN: 1 / 1 | INSTANCE: 44 / 100\n",
      "  NEIGHGEN: 1 / 1 | INSTANCE: 45 / 100\n",
      "  NEIGHGEN: 1 / 1 | INSTANCE: 46 / 100\n",
      "  NEIGHGEN: 1 / 1 | INSTANCE: 47 / 100\n",
      "  NEIGHGEN: 1 / 1 | INSTANCE: 48 / 100\n",
      "  NEIGHGEN: 1 / 1 | INSTANCE: 49 / 100\n",
      "  NEIGHGEN: 1 / 1 | INSTANCE: 50 / 100\n",
      "  NEIGHGEN: 1 / 1 | INSTANCE: 51 / 100\n",
      "  NEIGHGEN: 1 / 1 | INSTANCE: 52 / 100\n",
      "  NEIGHGEN: 1 / 1 | INSTANCE: 53 / 100\n",
      "  NEIGHGEN: 1 / 1 | INSTANCE: 54 / 100\n",
      "  NEIGHGEN: 1 / 1 | INSTANCE: 55 / 100\n",
      "  NEIGHGEN: 1 / 1 | INSTANCE: 56 / 100\n",
      "  NEIGHGEN: 1 / 1 | INSTANCE: 57 / 100\n",
      "  NEIGHGEN: 1 / 1 | INSTANCE: 58 / 100\n",
      "  NEIGHGEN: 1 / 1 | INSTANCE: 59 / 100\n",
      "  NEIGHGEN: 1 / 1 | INSTANCE: 60 / 100\n",
      "  NEIGHGEN: 1 / 1 | INSTANCE: 61 / 100\n",
      "  NEIGHGEN: 1 / 1 | INSTANCE: 62 / 100\n",
      "  NEIGHGEN: 1 / 1 | INSTANCE: 63 / 100\n",
      "  NEIGHGEN: 1 / 1 | INSTANCE: 64 / 100\n",
      "  NEIGHGEN: 1 / 1 | INSTANCE: 65 / 100\n",
      "  NEIGHGEN: 1 / 1 | INSTANCE: 66 / 100\n",
      "  NEIGHGEN: 1 / 1 | INSTANCE: 67 / 100\n",
      "  NEIGHGEN: 1 / 1 | INSTANCE: 68 / 100\n",
      "  NEIGHGEN: 1 / 1 | INSTANCE: 69 / 100\n",
      "  NEIGHGEN: 1 / 1 | INSTANCE: 70 / 100\n",
      "  NEIGHGEN: 1 / 1 | INSTANCE: 71 / 100\n",
      "  NEIGHGEN: 1 / 1 | INSTANCE: 72 / 100\n",
      "  NEIGHGEN: 1 / 1 | INSTANCE: 73 / 100\n",
      "  NEIGHGEN: 1 / 1 | INSTANCE: 74 / 100\n",
      "  NEIGHGEN: 1 / 1 | INSTANCE: 75 / 100\n",
      "  NEIGHGEN: 1 / 1 | INSTANCE: 76 / 100\n",
      "  NEIGHGEN: 1 / 1 | INSTANCE: 77 / 100\n",
      "  NEIGHGEN: 1 / 1 | INSTANCE: 78 / 100\n",
      "  NEIGHGEN: 1 / 1 | INSTANCE: 79 / 100\n",
      "  NEIGHGEN: 1 / 1 | INSTANCE: 80 / 100\n",
      "  NEIGHGEN: 1 / 1 | INSTANCE: 81 / 100\n",
      "  NEIGHGEN: 1 / 1 | INSTANCE: 82 / 100\n",
      "  NEIGHGEN: 1 / 1 | INSTANCE: 83 / 100\n",
      "  NEIGHGEN: 1 / 1 | INSTANCE: 84 / 100\n",
      "  NEIGHGEN: 1 / 1 | INSTANCE: 85 / 100\n",
      "  NEIGHGEN: 1 / 1 | INSTANCE: 86 / 100\n",
      "  NEIGHGEN: 1 / 1 | INSTANCE: 87 / 100\n",
      "  NEIGHGEN: 1 / 1 | INSTANCE: 88 / 100\n",
      "  NEIGHGEN: 1 / 1 | INSTANCE: 89 / 100\n",
      "  NEIGHGEN: 1 / 1 | INSTANCE: 90 / 100\n",
      "  NEIGHGEN: 1 / 1 | INSTANCE: 91 / 100\n",
      "  NEIGHGEN: 1 / 1 | INSTANCE: 92 / 100\n",
      "  NEIGHGEN: 1 / 1 | INSTANCE: 93 / 100\n",
      "  NEIGHGEN: 1 / 1 | INSTANCE: 94 / 100\n",
      "  NEIGHGEN: 1 / 1 | INSTANCE: 95 / 100\n",
      "  NEIGHGEN: 1 / 1 | INSTANCE: 96 / 100\n",
      "  NEIGHGEN: 1 / 1 | INSTANCE: 97 / 100\n",
      "  NEIGHGEN: 1 / 1 | INSTANCE: 98 / 100\n",
      "  NEIGHGEN: 1 / 1 | INSTANCE: 99 / 100\n",
      "  NEIGHGEN: 1 / 1 | INSTANCE: 100 / 100\n",
      "\n",
      "\n",
      "--- SURROGATE FITTING ---\n",
      "\n",
      " --> UNIFORM_SPHERE_STDT\n",
      "  INSTANCE: 1 / 100\n",
      "  INSTANCE: 2 / 100\n",
      "  INSTANCE: 3 / 100\n",
      "  INSTANCE: 4 / 100\n",
      "  INSTANCE: 5 / 100\n",
      "  INSTANCE: 6 / 100\n",
      "  INSTANCE: 7 / 100\n",
      "  INSTANCE: 8 / 100\n",
      "  INSTANCE: 9 / 100\n",
      "  INSTANCE: 10 / 100\n",
      "  INSTANCE: 11 / 100\n",
      "  INSTANCE: 12 / 100\n",
      "  INSTANCE: 13 / 100\n",
      "  INSTANCE: 14 / 100\n",
      "  INSTANCE: 15 / 100\n",
      "  INSTANCE: 16 / 100\n",
      "  INSTANCE: 17 / 100\n",
      "  INSTANCE: 18 / 100\n",
      "  INSTANCE: 19 / 100\n",
      "  INSTANCE: 20 / 100\n",
      "  INSTANCE: 21 / 100\n",
      "  INSTANCE: 22 / 100\n",
      "  INSTANCE: 23 / 100\n",
      "  INSTANCE: 24 / 100\n",
      "  INSTANCE: 25 / 100\n",
      "  INSTANCE: 26 / 100\n",
      "  INSTANCE: 27 / 100\n",
      "  INSTANCE: 28 / 100\n",
      "  INSTANCE: 29 / 100\n",
      "  INSTANCE: 30 / 100\n",
      "  INSTANCE: 31 / 100\n",
      "  INSTANCE: 32 / 100\n",
      "  INSTANCE: 33 / 100\n",
      "  INSTANCE: 34 / 100\n",
      "  INSTANCE: 35 / 100\n",
      "  INSTANCE: 36 / 100\n",
      "  INSTANCE: 37 / 100\n",
      "  INSTANCE: 38 / 100\n",
      "  INSTANCE: 39 / 100\n",
      "  INSTANCE: 40 / 100\n",
      "  INSTANCE: 41 / 100\n",
      "  INSTANCE: 42 / 100\n",
      "  INSTANCE: 43 / 100\n",
      "  INSTANCE: 44 / 100\n",
      "  INSTANCE: 45 / 100\n",
      "  INSTANCE: 46 / 100\n",
      "  INSTANCE: 47 / 100\n",
      "  INSTANCE: 48 / 100\n",
      "  INSTANCE: 49 / 100\n",
      "  INSTANCE: 50 / 100\n",
      "  INSTANCE: 51 / 100\n",
      "  INSTANCE: 52 / 100\n",
      "  INSTANCE: 53 / 100\n",
      "  INSTANCE: 54 / 100\n",
      "  INSTANCE: 55 / 100\n",
      "  INSTANCE: 56 / 100\n",
      "  INSTANCE: 57 / 100\n",
      "  INSTANCE: 58 / 100\n",
      "  INSTANCE: 59 / 100\n",
      "  INSTANCE: 60 / 100\n",
      "  INSTANCE: 61 / 100\n",
      "  INSTANCE: 62 / 100\n",
      "  INSTANCE: 63 / 100\n",
      "  INSTANCE: 64 / 100\n",
      "  INSTANCE: 65 / 100\n",
      "  INSTANCE: 66 / 100\n",
      "  INSTANCE: 67 / 100\n",
      "  INSTANCE: 68 / 100\n",
      "  INSTANCE: 69 / 100\n",
      "  INSTANCE: 70 / 100\n",
      "  INSTANCE: 71 / 100\n",
      "  INSTANCE: 72 / 100\n",
      "  INSTANCE: 73 / 100\n",
      "  INSTANCE: 74 / 100\n",
      "  INSTANCE: 75 / 100\n",
      "  INSTANCE: 76 / 100\n",
      "  INSTANCE: 77 / 100\n",
      "  INSTANCE: 78 / 100\n",
      "  INSTANCE: 79 / 100\n",
      "  INSTANCE: 80 / 100\n",
      "  INSTANCE: 81 / 100\n",
      "  INSTANCE: 82 / 100\n",
      "  INSTANCE: 83 / 100\n",
      "  INSTANCE: 84 / 100\n",
      "  INSTANCE: 85 / 100\n",
      "  INSTANCE: 86 / 100\n",
      "  INSTANCE: 87 / 100\n",
      "  INSTANCE: 88 / 100\n",
      "  INSTANCE: 89 / 100\n",
      "  INSTANCE: 90 / 100\n",
      "  INSTANCE: 91 / 100\n",
      "  INSTANCE: 92 / 100\n",
      "  INSTANCE: 93 / 100\n",
      "  INSTANCE: 94 / 100\n",
      "  INSTANCE: 95 / 100\n",
      "  INSTANCE: 96 / 100\n",
      "  INSTANCE: 97 / 100\n",
      "  INSTANCE: 98 / 100\n",
      "  INSTANCE: 99 / 100\n",
      "  INSTANCE: 100 / 100\n",
      "\n",
      " --> UNIFORM_SPHERE_SAXDT\n",
      "  INSTANCE: 1 / 100\n",
      "  INSTANCE: 2 / 100\n",
      "  INSTANCE: 3 / 100\n",
      "  INSTANCE: 4 / 100\n",
      "  INSTANCE: 5 / 100\n",
      "  INSTANCE: 6 / 100\n",
      "  INSTANCE: 7 / 100\n",
      "  INSTANCE: 8 / 100\n",
      "  INSTANCE: 9 / 100\n",
      "  INSTANCE: 10 / 100\n",
      "  INSTANCE: 11 / 100\n",
      "  INSTANCE: 12 / 100\n",
      "  INSTANCE: 13 / 100\n",
      "  INSTANCE: 14 / 100\n",
      "  INSTANCE: 15 / 100\n",
      "  INSTANCE: 16 / 100\n",
      "  INSTANCE: 17 / 100\n",
      "  INSTANCE: 18 / 100\n",
      "  INSTANCE: 19 / 100\n",
      "  INSTANCE: 20 / 100\n",
      "  INSTANCE: 21 / 100\n",
      "  INSTANCE: 22 / 100\n",
      "  INSTANCE: 23 / 100\n",
      "  INSTANCE: 24 / 100\n",
      "  INSTANCE: 25 / 100\n",
      "  INSTANCE: 26 / 100\n",
      "  INSTANCE: 27 / 100\n",
      "  INSTANCE: 28 / 100\n",
      "  INSTANCE: 29 / 100\n",
      "  INSTANCE: 30 / 100\n",
      "  INSTANCE: 31 / 100\n",
      "  INSTANCE: 32 / 100\n",
      "  INSTANCE: 33 / 100\n",
      "  INSTANCE: 34 / 100\n",
      "  INSTANCE: 35 / 100\n",
      "  INSTANCE: 36 / 100\n",
      "  INSTANCE: 37 / 100\n",
      "  INSTANCE: 38 / 100\n",
      "  INSTANCE: 39 / 100\n",
      "  INSTANCE: 40 / 100\n",
      "  INSTANCE: 41 / 100\n",
      "  INSTANCE: 42 / 100\n",
      "  INSTANCE: 43 / 100\n",
      "  INSTANCE: 44 / 100\n",
      "  INSTANCE: 45 / 100\n",
      "  INSTANCE: 46 / 100\n",
      "  INSTANCE: 47 / 100\n",
      "  INSTANCE: 48 / 100\n",
      "  INSTANCE: 49 / 100\n",
      "  INSTANCE: 50 / 100\n",
      "  INSTANCE: 51 / 100\n",
      "  INSTANCE: 52 / 100\n",
      "  INSTANCE: 53 / 100\n",
      "  INSTANCE: 54 / 100\n",
      "  INSTANCE: 55 / 100\n",
      "  INSTANCE: 56 / 100\n",
      "  INSTANCE: 57 / 100\n",
      "  INSTANCE: 58 / 100\n",
      "  INSTANCE: 59 / 100\n",
      "  INSTANCE: 60 / 100\n",
      "  INSTANCE: 61 / 100\n",
      "  INSTANCE: 62 / 100\n",
      "  INSTANCE: 63 / 100\n",
      "  INSTANCE: 64 / 100\n",
      "  INSTANCE: 65 / 100\n",
      "  INSTANCE: 66 / 100\n",
      "  INSTANCE: 67 / 100\n",
      "  INSTANCE: 68 / 100\n",
      "  INSTANCE: 69 / 100\n",
      "  INSTANCE: 70 / 100\n",
      "  INSTANCE: 71 / 100\n",
      "  INSTANCE: 72 / 100\n",
      "  INSTANCE: 73 / 100\n",
      "  INSTANCE: 74 / 100\n",
      "  INSTANCE: 75 / 100\n",
      "  INSTANCE: 76 / 100\n",
      "  INSTANCE: 77 / 100\n",
      "  INSTANCE: 78 / 100\n",
      "  INSTANCE: 79 / 100\n",
      "  INSTANCE: 80 / 100\n",
      "  INSTANCE: 81 / 100\n",
      "  INSTANCE: 82 / 100\n",
      "  INSTANCE: 83 / 100\n",
      "  INSTANCE: 84 / 100\n",
      "  INSTANCE: 85 / 100\n",
      "  INSTANCE: 86 / 100\n",
      "  INSTANCE: 87 / 100\n",
      "  INSTANCE: 88 / 100\n",
      "  INSTANCE: 89 / 100\n",
      "  INSTANCE: 90 / 100\n",
      "  INSTANCE: 91 / 100\n",
      "  INSTANCE: 92 / 100\n",
      "  INSTANCE: 93 / 100\n",
      "  INSTANCE: 94 / 100\n",
      "  INSTANCE: 95 / 100\n",
      "  INSTANCE: 96 / 100\n",
      "  INSTANCE: 97 / 100\n"
     ]
    },
    {
     "name": "stdout",
     "output_type": "stream",
     "text": [
      "  INSTANCE: 98 / 100\n",
      "  INSTANCE: 99 / 100\n",
      "  INSTANCE: 100 / 100\n",
      "\n",
      "--- METRICS ---\n"
     ]
    },
    {
     "data": {
      "image/png": "[encoded data removed]",
      "text/plain": [
       "<Figure size 576x432 with 1 Axes>"
      ]
     },
     "metadata": {
      "needs_background": "light"
     },
     "output_type": "display_data"
    },
    {
     "data": {
      "image/png": "[encoded data removed]",
      "text/plain": [
       "<Figure size 576x432 with 1 Axes>"
      ]
     },
     "metadata": {
      "needs_background": "light"
     },
     "output_type": "display_data"
    },
    {
     "data": {
      "image/png": "[encoded data removed]",
      "text/plain": [
       "<Figure size 576x432 with 1 Axes>"
      ]
     },
     "metadata": {
      "needs_background": "light"
     },
     "output_type": "display_data"
    },
    {
     "data": {
      "image/png": "[encoded data removed]",
      "text/plain": [
       "<Figure size 576x432 with 1 Axes>"
      ]
     },
     "metadata": {
      "needs_background": "light"
     },
     "output_type": "display_data"
    },
    {
     "data": {
      "image/png": "[encoded data removed]",
      "text/plain": [
       "<Figure size 576x432 with 1 Axes>"
      ]
     },
     "metadata": {
      "needs_background": "light"
     },
     "output_type": "display_data"
    },
    {
     "data": {
      "image/png": "[encoded data removed]",
      "text/plain": [
       "<Figure size 576x432 with 1 Axes>"
      ]
     },
     "metadata": {
      "needs_background": "light"
     },
     "output_type": "display_data"
    },
    {
     "data": {
      "image/png": "[encoded data removed]",
      "text/plain": [
       "<Figure size 576x432 with 1 Axes>"
      ]
     },
     "metadata": {
      "needs_background": "light"
     },
     "output_type": "display_data"
    },
    {
     "data": {
      "image/png": "[encoded data removed]",
      "text/plain": [
       "<Figure size 576x432 with 1 Axes>"
      ]
     },
     "metadata": {
      "needs_background": "light"
     },
     "output_type": "display_data"
    },
    {
     "data": {
      "image/png": "[encoded data removed]",
      "text/plain": [
       "<Figure size 576x432 with 1 Axes>"
      ]
     },
     "metadata": {
      "needs_background": "light"
     },
     "output_type": "display_data"
    },
    {
     "data": {
      "image/png": "[encoded data removed]",
      "text/plain": [
       "<Figure size 576x432 with 1 Axes>"
      ]
     },
     "metadata": {
      "needs_background": "light"
     },
     "output_type": "display_data"
    },
    {
     "data": {
      "image/png": "[encoded data removed]",
      "text/plain": [
       "<Figure size 576x432 with 1 Axes>"
      ]
     },
     "metadata": {
      "needs_background": "light"
     },
     "output_type": "display_data"
    },
    {
     "data": {
      "image/png": "[encoded data removed]",
      "text/plain": [
       "<Figure size 576x432 with 1 Axes>"
      ]
     },
     "metadata": {
      "needs_background": "light"
     },
     "output_type": "display_data"
    },
    {
     "data": {
      "image/png": "[encoded data removed]",
      "text/plain": [
       "<Figure size 576x432 with 1 Axes>"
      ]
     },
     "metadata": {
      "needs_background": "light"
     },
     "output_type": "display_data"
    },
    {
     "data": {
      "image/png": "[encoded data removed]",
      "text/plain": [
       "<Figure size 576x432 with 1 Axes>"
      ]
     },
     "metadata": {
      "needs_background": "light"
     },
     "output_type": "display_data"
    },
    {
     "name": "stdout",
     "output_type": "stream",
     "text": [
      "                      counterfactual_coverage  counterfactual_length  \\\n",
      "uniform_sphere_stdt                   0.30544                   2.30   \n",
      "uniform_sphere_saxdt                  0.02480                   4.12   \n",
      "\n",
      "                      counterfactual_precision  factual_coverage  \\\n",
      "uniform_sphere_stdt                   0.841738           0.38414   \n",
      "uniform_sphere_saxdt                  0.884913           0.40062   \n",
      "\n",
      "                      factual_length  factual_precision  \\\n",
      "uniform_sphere_stdt             1.74           0.878475   \n",
      "uniform_sphere_saxdt            3.55           0.992414   \n",
      "\n",
      "                      fidelity_neighborhood  fidelity_x  lof_latent_average  \\\n",
      "uniform_sphere_stdt                 0.82084        0.95                 1.0   \n",
      "uniform_sphere_saxdt                0.98056        0.99                 1.0   \n",
      "\n",
      "                      lof_latent_x  lof_manifest_euclidean_average  \\\n",
      "uniform_sphere_stdt            1.0                         0.99976   \n",
      "uniform_sphere_saxdt           1.0                         0.99976   \n",
      "\n",
      "                      lof_manifest_x_euclidean  silhouette_latent  \\\n",
      "uniform_sphere_stdt                        1.0           0.159797   \n",
      "uniform_sphere_saxdt                       1.0           0.159797   \n",
      "\n",
      "                      silhouette_manifest_euclidean  \n",
      "uniform_sphere_stdt                        0.257496  \n",
      "uniform_sphere_saxdt                       0.257496  \n",
      "CPU times: user 10h 36min 49s, sys: 20min 26s, total: 10h 57min 15s\n",
      "Wall time: 5h 54min 28s\n"
     ]
    }
   ],
   "source": [
    "%%time\n",
    "out = multiple_tests(\n",
    "        X_exp_test,\n",
    "        blackbox,\n",
    "        encoder,\n",
    "        decoder,\n",
    "        neighborhood_list=neighborhood_list,\n",
    "        neighborhood_kwargs_list=neighborhood_kwargs_list,\n",
    "        neighborhood_names=neighborhood_names,\n",
    "        surrogate_list=surrogate_list,\n",
    "        surrogate_kwargs_list=surrogate_kwargs_list,\n",
    "        surrogate_names=surrogate_names,\n",
    "        file_path=file_path,\n",
    "        random_state=random_state,\n",
    "        n_instances_to_explain=None,\n",
    "        verbose=True,\n",
    "        simple_dump=[False, True],\n",
    "        boxplots=True,\n",
    "        Z_fixed=Z_fixed\n",
    "    )"
   ]
  },
  {
   "cell_type": "code",
   "execution_count": 3,
   "metadata": {},
   "outputs": [
    {
     "name": "stdout",
     "output_type": "stream",
     "text": [
      "WARNING:tensorflow:From /Users/francesco/anaconda3/envs/lasts_01/lib/python3.6/site-packages/tensorflow/python/framework/op_def_library.py:263: colocate_with (from tensorflow.python.framework.ops) is deprecated and will be removed in a future version.\n",
      "Instructions for updating:\n",
      "Colocations handled automatically by placer.\n"
     ]
    },
    {
     "name": "stderr",
     "output_type": "stream",
     "text": [
      "/Users/francesco/anaconda3/envs/lasts_01/lib/python3.6/site-packages/keras/engine/saving.py:310: UserWarning: No training configuration found in save file: the model was *not* compiled. Compile it manually.\n",
      "  warnings.warn('No training configuration found in save file: '\n"
     ]
    }
   ],
   "source": [
    "lasts_list = load_multiple_lasts(\n",
    "    file_path=parentdir + \"/saved/ecg200_20201027_010633/gaussian_matched_saxdt\", \n",
    "    load_sbgdt_model=True,\n",
    "    locator=False,\n",
    "    model=False,\n",
    "    verbose=True,\n",
    "    simple_load=True\n",
    ")"
   ]
  },
  {
   "cell_type": "code",
   "execution_count": 47,
   "metadata": {
    "scrolled": true
   },
   "outputs": [
    {
     "data": {
      "image/png": "[encoded data removed]",
      "text/plain": [
       "<Figure size 1080x360 with 1 Axes>"
      ]
     },
     "metadata": {
      "needs_background": "light"
     },
     "output_type": "display_data"
    },
    {
     "data": {
      "image/png": "[encoded data removed]",
      "text/plain": [
       "<Figure size 1080x360 with 1 Axes>"
      ]
     },
     "metadata": {
      "needs_background": "light"
     },
     "output_type": "display_data"
    },
    {
     "data": {
      "image/png": "[encoded data removed]",
      "text/plain": [
       "<Figure size 1080x360 with 1 Axes>"
      ]
     },
     "metadata": {
      "needs_background": "light"
     },
     "output_type": "display_data"
    },
    {
     "data": {
      "image/png": "[encoded data removed]",
      "text/plain": [
       "<Figure size 1080x360 with 1 Axes>"
      ]
     },
     "metadata": {
      "needs_background": "light"
     },
     "output_type": "display_data"
    },
    {
     "data": {
      "image/png": "[encoded data removed]",
      "text/plain": [
       "<Figure size 1080x360 with 1 Axes>"
      ]
     },
     "metadata": {
      "needs_background": "light"
     },
     "output_type": "display_data"
    },
    {
     "data": {
      "image/png": "[encoded data removed]",
      "text/plain": [
       "<Figure size 1080x360 with 1 Axes>"
      ]
     },
     "metadata": {
      "needs_background": "light"
     },
     "output_type": "display_data"
    },
    {
     "data": {
      "image/png": "[encoded data removed]",
      "text/plain": [
       "<Figure size 1080x360 with 1 Axes>"
      ]
     },
     "metadata": {
      "needs_background": "light"
     },
     "output_type": "display_data"
    },
    {
     "data": {
      "image/png": "[encoded data removed]",
      "text/plain": [
       "<Figure size 1080x360 with 1 Axes>"
      ]
     },
     "metadata": {
      "needs_background": "light"
     },
     "output_type": "display_data"
    },
    {
     "name": "stdout",
     "output_type": "stream",
     "text": [
      "gaussian_matched_saxdt fidelity_x: 0.96\n",
      "gaussian_matched_sbgdt fidelity_x: 0.91\n",
      "gaussian_saxdt fidelity_x: 0.99\n",
      "gaussian_sbgdt fidelity_x: 0.91\n",
      "uniform_sphere_saxdt fidelity_x: 0.99\n",
      "uniform_sphere_sbgdt fidelity_x: 0.93\n"
     ]
    },
    {
     "data": {
      "text/plain": [
       "[    fidelity_neighborhood  fidelity_x  factual_coverage  \\\n",
       " 0                   0.972         1.0             0.292   \n",
       " 1                   0.996         1.0             0.470   \n",
       " 2                   0.994         1.0             0.392   \n",
       " 3                   0.998         1.0             0.442   \n",
       " 4                   0.984         1.0             0.396   \n",
       " ..                    ...         ...               ...   \n",
       " 95                  0.996         1.0             0.008   \n",
       " 96                  1.000         1.0             0.478   \n",
       " 97                  0.958         1.0             0.468   \n",
       " 98                  1.000         1.0             0.460   \n",
       " 99                  0.968         1.0             0.314   \n",
       " \n",
       "     counterfactual_coverage  factual_precision  counterfactual_precision  \\\n",
       " 0                     0.052           1.000000                  0.923077   \n",
       " 1                     0.006           0.995745                  0.666667   \n",
       " 2                     0.002           1.000000                  1.000000   \n",
       " 3                     0.006           1.000000                  1.000000   \n",
       " 4                     0.010           0.994949                  0.800000   \n",
       " ..                      ...                ...                       ...   \n",
       " 95                    0.478           1.000000                  0.995816   \n",
       " 96                    0.002           1.000000                  1.000000   \n",
       " 97                    0.020           0.965812                  1.000000   \n",
       " 98                    0.476           1.000000                  1.000000   \n",
       " 99                    0.012           1.000000                  0.500000   \n",
       " \n",
       "     factual_length  counterfactual_length  \n",
       " 0                1                      4  \n",
       " 1                3                      3  \n",
       " 2                4                      5  \n",
       " 3                5                      6  \n",
       " 4                1                      3  \n",
       " ..             ...                    ...  \n",
       " 95               2                      4  \n",
       " 96               3                      3  \n",
       " 97               3                      3  \n",
       " 98               1                      3  \n",
       " 99               4                      6  \n",
       " \n",
       " [100 rows x 8 columns],\n",
       "     fidelity_neighborhood  fidelity_x  factual_coverage  \\\n",
       " 0                   0.732         1.0             0.222   \n",
       " 1                   0.828         0.0             0.556   \n",
       " 2                   0.820         1.0             0.312   \n",
       " 3                   0.900         1.0             0.388   \n",
       " 4                   0.784         1.0             0.108   \n",
       " ..                    ...         ...               ...   \n",
       " 95                  0.748         1.0             0.132   \n",
       " 96                  0.772         1.0             0.296   \n",
       " 97                  0.780         1.0             0.170   \n",
       " 98                  0.894         1.0             0.390   \n",
       " 99                  0.836         1.0             0.400   \n",
       " \n",
       "     counterfactual_coverage  factual_precision  counterfactual_precision  \\\n",
       " 0                     0.006           0.783784                  0.666667   \n",
       " 1                     0.080           0.794964                  0.925000   \n",
       " 2                     0.374           0.884615                  0.689840   \n",
       " 3                     0.446           0.938144                  0.946188   \n",
       " 4                     0.002           0.981481                  1.000000   \n",
       " ..                      ...                ...                       ...   \n",
       " 95                    0.014           0.742424                  1.000000   \n",
       " 96                    0.704           0.959459                  0.693182   \n",
       " 97                    0.004           0.929412                  1.000000   \n",
       " 98                    0.360           1.000000                  0.977778   \n",
       " 99                    0.600           0.920000                  0.780000   \n",
       " \n",
       "     factual_length  counterfactual_length  \n",
       " 0                5                      5  \n",
       " 1                2                      2  \n",
       " 2                2                      3  \n",
       " 3                2                      1  \n",
       " 4                2                      3  \n",
       " ..             ...                    ...  \n",
       " 95               3                      3  \n",
       " 96               1                      1  \n",
       " 97               2                      4  \n",
       " 98               1                      2  \n",
       " 99               1                      1  \n",
       " \n",
       " [100 rows x 8 columns],\n",
       "     fidelity_neighborhood  fidelity_x  factual_coverage  \\\n",
       " 0                   0.962         1.0             0.280   \n",
       " 1                   1.000         1.0             0.424   \n",
       " 2                   0.944         1.0             0.484   \n",
       " 3                   0.982         1.0             0.476   \n",
       " 4                   0.992         1.0             0.332   \n",
       " ..                    ...         ...               ...   \n",
       " 95                  1.000         1.0             0.460   \n",
       " 96                  0.982         1.0             0.482   \n",
       " 97                  0.972         1.0             0.382   \n",
       " 98                  0.978         1.0             0.472   \n",
       " 99                  0.988         1.0             0.448   \n",
       " \n",
       "     counterfactual_coverage  factual_precision  counterfactual_precision  \\\n",
       " 0                     0.004           1.000000                  0.500000   \n",
       " 1                     0.002           1.000000                  1.000000   \n",
       " 2                     0.062           0.942149                  0.741935   \n",
       " 3                     0.010           0.995798                  0.600000   \n",
       " 4                     0.002           0.993976                  1.000000   \n",
       " ..                      ...                ...                       ...   \n",
       " 95                    0.002           1.000000                  1.000000   \n",
       " 96                    0.010           0.987552                  0.800000   \n",
       " 97                    0.012           1.000000                  0.833333   \n",
       " 98                    0.486           0.995763                  0.991770   \n",
       " 99                    0.002           0.986607                  1.000000   \n",
       " \n",
       "     factual_length  counterfactual_length  \n",
       " 0                5                      5  \n",
       " 1                3                      3  \n",
       " 2                2                      2  \n",
       " 3                3                      3  \n",
       " 4                4                      4  \n",
       " ..             ...                    ...  \n",
       " 95               5                      5  \n",
       " 96               2                      2  \n",
       " 97               3                      3  \n",
       " 98               1                      2  \n",
       " 99               4                      4  \n",
       " \n",
       " [100 rows x 8 columns],\n",
       "     fidelity_neighborhood  fidelity_x  factual_coverage  \\\n",
       " 0                   0.720         1.0             0.288   \n",
       " 1                   0.778         0.0             0.542   \n",
       " 2                   0.830         1.0             0.398   \n",
       " 3                   0.918         1.0             0.462   \n",
       " 4                   0.754         1.0             0.426   \n",
       " ..                    ...         ...               ...   \n",
       " 95                  0.732         0.0             0.126   \n",
       " 96                  0.722         1.0             0.094   \n",
       " 97                  0.784         1.0             0.340   \n",
       " 98                  0.836         0.0             0.528   \n",
       " 99                  0.902         1.0             0.404   \n",
       " \n",
       "     counterfactual_coverage  factual_precision  counterfactual_precision  \\\n",
       " 0                     0.006           0.812500                  0.666667   \n",
       " 1                     0.014           0.741697                  1.000000   \n",
       " 2                     0.602           0.914573                  0.774086   \n",
       " 3                     0.358           0.948052                  0.994413   \n",
       " 4                     0.574           0.798122                  0.721254   \n",
       " ..                      ...                ...                       ...   \n",
       " 95                    0.028           0.634921                  0.714286   \n",
       " 96                    0.002           0.659574                  1.000000   \n",
       " 97                    0.660           0.917647                  0.715152   \n",
       " 98                    0.048           0.818182                  0.958333   \n",
       " 99                    0.404           0.990099                  0.792079   \n",
       " \n",
       "     factual_length  counterfactual_length  \n",
       " 0                3                      3  \n",
       " 1                3                      3  \n",
       " 2                1                      1  \n",
       " 3                1                      2  \n",
       " 4                1                      1  \n",
       " ..             ...                    ...  \n",
       " 95               2                      4  \n",
       " 96               6                      6  \n",
       " 97               1                      1  \n",
       " 98               2                      2  \n",
       " 99               1                      3  \n",
       " \n",
       " [100 rows x 8 columns],\n",
       "     fidelity_neighborhood  fidelity_x  factual_coverage  \\\n",
       " 0                   0.998         1.0             0.324   \n",
       " 1                   0.998         1.0             0.428   \n",
       " 2                   0.992         1.0             0.398   \n",
       " 3                   1.000         1.0             0.468   \n",
       " 4                   0.994         1.0             0.300   \n",
       " ..                    ...         ...               ...   \n",
       " 95                  1.000         1.0             0.428   \n",
       " 96                  0.998         1.0             0.496   \n",
       " 97                  1.000         1.0             0.430   \n",
       " 98                  1.000         1.0             0.460   \n",
       " 99                  0.976         1.0             0.400   \n",
       " \n",
       "     counterfactual_coverage  factual_precision  counterfactual_precision  \\\n",
       " 0                     0.004           1.000000                       1.0   \n",
       " 1                     0.002           1.000000                       1.0   \n",
       " 2                     0.002           1.000000                       1.0   \n",
       " 3                     0.002           1.000000                       1.0   \n",
       " 4                     0.002           1.000000                       1.0   \n",
       " ..                      ...                ...                       ...   \n",
       " 95                    0.002           1.000000                       1.0   \n",
       " 96                    0.002           0.995968                       1.0   \n",
       " 97                    0.002           1.000000                       1.0   \n",
       " 98                    0.486           1.000000                       1.0   \n",
       " 99                    0.010           1.000000                       0.6   \n",
       " \n",
       "     factual_length  counterfactual_length  \n",
       " 0                4                      5  \n",
       " 1                2                      2  \n",
       " 2                5                      6  \n",
       " 3                4                      4  \n",
       " 4                3                      3  \n",
       " ..             ...                    ...  \n",
       " 95               4                      5  \n",
       " 96               4                      4  \n",
       " 97               6                      7  \n",
       " 98               1                      4  \n",
       " 99               5                      6  \n",
       " \n",
       " [100 rows x 8 columns],\n",
       "     fidelity_neighborhood  fidelity_x  factual_coverage  \\\n",
       " 0                   0.722         1.0             0.410   \n",
       " 1                   0.846         1.0             0.478   \n",
       " 2                   0.796         1.0             0.370   \n",
       " 3                   0.944         1.0             0.458   \n",
       " 4                   0.782         1.0             0.518   \n",
       " ..                    ...         ...               ...   \n",
       " 95                  0.822         1.0             0.164   \n",
       " 96                  0.782         1.0             0.414   \n",
       " 97                  0.860         1.0             0.406   \n",
       " 98                  0.852         0.0             0.468   \n",
       " 99                  0.878         1.0             0.384   \n",
       " \n",
       "     counterfactual_coverage  factual_precision  counterfactual_precision  \\\n",
       " 0                     0.014           0.770732                  0.571429   \n",
       " 1                     0.008           0.774059                  1.000000   \n",
       " 2                     0.608           0.886486                  0.743421   \n",
       " 3                     0.010           0.960699                  0.800000   \n",
       " 4                     0.482           0.772201                  0.792531   \n",
       " ..                      ...                ...                       ...   \n",
       " 95                    0.014           0.987805                  0.714286   \n",
       " 96                    0.204           0.792271                  0.745098   \n",
       " 97                    0.450           0.916256                  0.862222   \n",
       " 98                    0.532           0.876068                  0.830827   \n",
       " 99                    0.302           0.968750                  1.000000   \n",
       " \n",
       "     factual_length  counterfactual_length  \n",
       " 0                4                      4  \n",
       " 1                2                      3  \n",
       " 2                1                      2  \n",
       " 3                2                      2  \n",
       " 4                1                      1  \n",
       " ..             ...                    ...  \n",
       " 95               3                      4  \n",
       " 96               2                      3  \n",
       " 97               1                      2  \n",
       " 98               1                      1  \n",
       " 99               1                      2  \n",
       " \n",
       " [100 rows x 8 columns]]"
      ]
     },
     "execution_count": 47,
     "metadata": {},
     "output_type": "execute_result"
    }
   ],
   "source": [
    "read_metrics_csv(parentdir + \"/test_metrics/ecg200/\", figsize=(15,5))"
   ]
  },
  {
   "cell_type": "code",
   "execution_count": 4,
   "metadata": {},
   "outputs": [],
   "source": [
    "random_state = 0\n",
    "np.random.seed(random_state)\n",
    "dataset_name = \"ecg200\"\n",
    "file_path = parentdir + \"/saved/\" + dataset_name + \"_\" + time.strftime(\"%Y%m%d_%H%M%S\")"
   ]
  },
  {
   "cell_type": "code",
   "execution_count": 5,
   "metadata": {},
   "outputs": [
    {
     "name": "stdout",
     "output_type": "stream",
     "text": [
      "WARNING:tensorflow:From /Users/francesco/anaconda3/envs/lasts_01/lib/python3.6/site-packages/tensorflow/python/framework/op_def_library.py:263: colocate_with (from tensorflow.python.framework.ops) is deprecated and will be removed in a future version.\n",
      "Instructions for updating:\n",
      "Colocations handled automatically by placer.\n"
     ]
    },
    {
     "name": "stderr",
     "output_type": "stream",
     "text": [
      "/Users/francesco/anaconda3/envs/lasts_01/lib/python3.6/site-packages/keras/engine/saving.py:310: UserWarning: No training configuration found in save file: the model was *not* compiled. Compile it manually.\n",
      "  warnings.warn('No training configuration found in save file: '\n"
     ]
    }
   ],
   "source": [
    "lasts_list = load_multiple_lasts(\n",
    "    file_path=parentdir + \"/saved/ecg200_20201027_010633/gaussian_matched_saxdt\", \n",
    "    load_sbgdt_model=False,\n",
    "    locator=False,\n",
    "    model=False,\n",
    "    verbose=True,\n",
    "    simple_load=True\n",
    ")"
   ]
  },
  {
   "cell_type": "code",
   "execution_count": null,
   "metadata": {},
   "outputs": [],
   "source": [
    "lasts_list = load_multiple_lasts(\n",
    "    file_path=parentdir + \"/saved/ecg200_20201027_010633/gaussian_saxdt\", \n",
    "    load_sbgdt_model=False,\n",
    "    locator=False,\n",
    "    model=False,\n",
    "    verbose=True,\n",
    "    simple_load=True\n",
    ")"
   ]
  },
  {
   "cell_type": "code",
   "execution_count": null,
   "metadata": {},
   "outputs": [],
   "source": [
    "lasts_list = load_multiple_lasts(\n",
    "    file_path=parentdir + \"/saved/ecg200_20201027_010633/uniform_sphere_saxdt\", \n",
    "    load_sbgdt_model=False,\n",
    "    locator=False,\n",
    "    model=False,\n",
    "    verbose=True,\n",
    "    simple_load=True\n",
    ")"
   ]
  },
  {
   "cell_type": "code",
   "execution_count": 7,
   "metadata": {},
   "outputs": [
    {
     "name": "stdout",
     "output_type": "stream",
     "text": [
      "{64: 4, 53: 4, 44: 4, 37: 4, 30: 4, 25: 4, 21: 4, 17: 4, 14: 4, 12: 4, 10: 4, 8: 4}\n"
     ]
    }
   ],
   "source": [
    "from sbgdt import generate_n_shapelets_per_size\n",
    "n_shapelets_per_size=generate_n_shapelets_per_size(128, divider_multiplier=1.2)\n",
    "print(n_shapelets_per_size)\n",
    "surrogate_kwargs_list = [{\"shapelet_model_params\": {\"max_iter\": 50, \"n_shapelets_per_size\": n_shapelets_per_size}, \n",
    "                          \"random_state\": random_state}]"
   ]
  },
  {
   "cell_type": "code",
   "execution_count": 14,
   "metadata": {},
   "outputs": [
    {
     "name": "stdout",
     "output_type": "stream",
     "text": [
      "\n",
      "\n",
      "SURROGATE FITTING\n",
      "\n",
      "\n",
      "\n",
      " Surrogate sbgdt_plus : 1 / 100 \n",
      "\n",
      "WARNING:tensorflow:From /Users/francesco/anaconda3/envs/lasts_01/lib/python3.6/site-packages/tensorflow/python/ops/math_ops.py:3066: to_int32 (from tensorflow.python.ops.math_ops) is deprecated and will be removed in a future version.\n",
      "Instructions for updating:\n",
      "Use tf.cast instead.\n",
      "WARNING:tensorflow:From /Users/francesco/anaconda3/envs/lasts_01/lib/python3.6/site-packages/tensorflow/python/ops/math_grad.py:102: div (from tensorflow.python.ops.math_ops) is deprecated and will be removed in a future version.\n",
      "Instructions for updating:\n",
      "Deprecated in favor of operator or tf.math.divide.\n",
      "\n",
      " Surrogate sbgdt_plus : 2 / 100 \n",
      "\n"
     ]
    },
    {
     "ename": "KeyboardInterrupt",
     "evalue": "",
     "output_type": "error",
     "traceback": [
      "\u001b[0;31m---------------------------------------------------------------------------\u001b[0m",
      "\u001b[0;31mKeyboardInterrupt\u001b[0m                         Traceback (most recent call last)",
      "\u001b[0;32m<ipython-input-14-1ddeab19c795>\u001b[0m in \u001b[0;36m<module>\u001b[0;34m\u001b[0m\n\u001b[1;32m      7\u001b[0m         \u001b[0mfile_path\u001b[0m\u001b[0;34m=\u001b[0m\u001b[0mfile_path\u001b[0m\u001b[0;34m,\u001b[0m\u001b[0;34m\u001b[0m\u001b[0;34m\u001b[0m\u001b[0m\n\u001b[1;32m      8\u001b[0m         \u001b[0mverbose\u001b[0m\u001b[0;34m=\u001b[0m\u001b[0;32mTrue\u001b[0m\u001b[0;34m,\u001b[0m\u001b[0;34m\u001b[0m\u001b[0;34m\u001b[0m\u001b[0m\n\u001b[0;32m----> 9\u001b[0;31m         \u001b[0msimple_dump\u001b[0m\u001b[0;34m=\u001b[0m\u001b[0;34m[\u001b[0m\u001b[0;32mFalse\u001b[0m\u001b[0;34m]\u001b[0m\u001b[0;34m\u001b[0m\u001b[0;34m\u001b[0m\u001b[0m\n\u001b[0m\u001b[1;32m     10\u001b[0m )\n",
      "\u001b[0;32m~/github/LASTS/tests_multiple_lasts.py\u001b[0m in \u001b[0;36mmultiple_surrogate_fitting\u001b[0;34m(lasts_list, neighborhood_name, surrogate_list, surrogate_kwargs_list, surrogate_names, file_path, verbose, simple_dump, **kwargs)\u001b[0m\n\u001b[1;32m    133\u001b[0m                 \u001b[0mprint\u001b[0m\u001b[0;34m(\u001b[0m\u001b[0;34m\"\\n\"\u001b[0m\u001b[0;34m,\u001b[0m \u001b[0;34m\"Surrogate\"\u001b[0m\u001b[0;34m,\u001b[0m \u001b[0msurrogate_names\u001b[0m\u001b[0;34m[\u001b[0m\u001b[0mj\u001b[0m\u001b[0;34m]\u001b[0m\u001b[0;34m,\u001b[0m \u001b[0;34m\":\"\u001b[0m\u001b[0;34m,\u001b[0m \u001b[0mi\u001b[0m \u001b[0;34m+\u001b[0m \u001b[0;36m1\u001b[0m\u001b[0;34m,\u001b[0m \u001b[0;34m\"/\"\u001b[0m\u001b[0;34m,\u001b[0m \u001b[0mlen\u001b[0m\u001b[0;34m(\u001b[0m\u001b[0mlasts_list\u001b[0m\u001b[0;34m)\u001b[0m\u001b[0;34m,\u001b[0m \u001b[0;34m\"\\n\"\u001b[0m\u001b[0;34m)\u001b[0m\u001b[0;34m\u001b[0m\u001b[0;34m\u001b[0m\u001b[0m\n\u001b[1;32m    134\u001b[0m             \u001b[0msurrogate\u001b[0m \u001b[0;34m=\u001b[0m \u001b[0msurrogate_\u001b[0m\u001b[0;34m(\u001b[0m\u001b[0;34m**\u001b[0m\u001b[0msurrogate_kwargs_list\u001b[0m\u001b[0;34m[\u001b[0m\u001b[0mj\u001b[0m\u001b[0;34m]\u001b[0m\u001b[0;34m)\u001b[0m\u001b[0;34m\u001b[0m\u001b[0;34m\u001b[0m\u001b[0m\n\u001b[0;32m--> 135\u001b[0;31m             \u001b[0mlasts_\u001b[0m\u001b[0;34m.\u001b[0m\u001b[0mfit_surrogate\u001b[0m\u001b[0;34m(\u001b[0m\u001b[0msurrogate\u001b[0m\u001b[0;34m,\u001b[0m \u001b[0mbinarize_labels\u001b[0m\u001b[0;34m=\u001b[0m\u001b[0;32mTrue\u001b[0m\u001b[0;34m)\u001b[0m\u001b[0;34m\u001b[0m\u001b[0;34m\u001b[0m\u001b[0m\n\u001b[0m\u001b[1;32m    136\u001b[0m             \u001b[0mmetrics\u001b[0m \u001b[0;34m=\u001b[0m \u001b[0mdump_metrics\u001b[0m\u001b[0;34m(\u001b[0m\u001b[0mlasts_\u001b[0m\u001b[0;34m)\u001b[0m\u001b[0;34m\u001b[0m\u001b[0;34m\u001b[0m\u001b[0m\n\u001b[1;32m    137\u001b[0m             metrics_dict[combination_names[j]] = pd.concat([metrics_dict[combination_names[j]],\n",
      "\u001b[0;32m~/github/LASTS/lasts.py\u001b[0m in \u001b[0;36mfit_surrogate\u001b[0;34m(self, surrogate, binarize_labels, **kwargs)\u001b[0m\n\u001b[1;32m    815\u001b[0m             ]\n\u001b[1;32m    816\u001b[0m             \u001b[0;31m# self.surrogate.fit(self.Z_tilde[:, :, 0], 1 * (self.y == self.x_label))\u001b[0m\u001b[0;34m\u001b[0m\u001b[0;34m\u001b[0m\u001b[0;34m\u001b[0m\u001b[0m\n\u001b[0;32m--> 817\u001b[0;31m             \u001b[0mself\u001b[0m\u001b[0;34m.\u001b[0m\u001b[0msurrogate\u001b[0m\u001b[0;34m.\u001b[0m\u001b[0mfit\u001b[0m\u001b[0;34m(\u001b[0m\u001b[0mself\u001b[0m\u001b[0;34m.\u001b[0m\u001b[0mZ_tilde\u001b[0m\u001b[0;34m,\u001b[0m \u001b[0;36m1\u001b[0m \u001b[0;34m*\u001b[0m \u001b[0;34m(\u001b[0m\u001b[0mself\u001b[0m\u001b[0;34m.\u001b[0m\u001b[0my\u001b[0m \u001b[0;34m==\u001b[0m \u001b[0mself\u001b[0m\u001b[0;34m.\u001b[0m\u001b[0mx_label\u001b[0m\u001b[0;34m)\u001b[0m\u001b[0;34m)\u001b[0m\u001b[0;34m\u001b[0m\u001b[0;34m\u001b[0m\u001b[0m\n\u001b[0m\u001b[1;32m    818\u001b[0m         \u001b[0;32mreturn\u001b[0m \u001b[0mself\u001b[0m\u001b[0;34m.\u001b[0m\u001b[0msurrogate\u001b[0m\u001b[0;34m\u001b[0m\u001b[0;34m\u001b[0m\u001b[0m\n\u001b[1;32m    819\u001b[0m \u001b[0;34m\u001b[0m\u001b[0m\n",
      "\u001b[0;32m~/github/LASTS/sbgdt.py\u001b[0m in \u001b[0;36mfit\u001b[0;34m(self, X, y)\u001b[0m\n\u001b[1;32m    624\u001b[0m                                 verbose=self.shapelet_model_params.get(\"verbose\", 0))\n\u001b[1;32m    625\u001b[0m \u001b[0;34m\u001b[0m\u001b[0m\n\u001b[0;32m--> 626\u001b[0;31m         \u001b[0mshp_clf\u001b[0m\u001b[0;34m.\u001b[0m\u001b[0mfit\u001b[0m\u001b[0;34m(\u001b[0m\u001b[0mX\u001b[0m\u001b[0;34m,\u001b[0m \u001b[0my\u001b[0m\u001b[0;34m)\u001b[0m\u001b[0;34m\u001b[0m\u001b[0;34m\u001b[0m\u001b[0m\n\u001b[0m\u001b[1;32m    627\u001b[0m         \u001b[0mX_transformed\u001b[0m \u001b[0;34m=\u001b[0m \u001b[0mshp_clf\u001b[0m\u001b[0;34m.\u001b[0m\u001b[0mtransform\u001b[0m\u001b[0;34m(\u001b[0m\u001b[0mX\u001b[0m\u001b[0;34m)\u001b[0m\u001b[0;34m\u001b[0m\u001b[0;34m\u001b[0m\u001b[0m\n\u001b[1;32m    628\u001b[0m         \u001b[0mself\u001b[0m\u001b[0;34m.\u001b[0m\u001b[0mX_transformed\u001b[0m \u001b[0;34m=\u001b[0m \u001b[0mX_transformed\u001b[0m\u001b[0;34m\u001b[0m\u001b[0;34m\u001b[0m\u001b[0m\n",
      "\u001b[0;32m~/anaconda3/envs/lasts_01/lib/python3.6/site-packages/tslearn/shapelets.py\u001b[0m in \u001b[0;36mfit\u001b[0;34m(self, X, y)\u001b[0m\n\u001b[1;32m    422\u001b[0m             \u001b[0mself\u001b[0m\u001b[0;34m.\u001b[0m\u001b[0mn_shapelets_per_size_\u001b[0m \u001b[0;34m=\u001b[0m \u001b[0mself\u001b[0m\u001b[0;34m.\u001b[0m\u001b[0mn_shapelets_per_size\u001b[0m\u001b[0;34m\u001b[0m\u001b[0;34m\u001b[0m\u001b[0m\n\u001b[1;32m    423\u001b[0m \u001b[0;34m\u001b[0m\u001b[0m\n\u001b[0;32m--> 424\u001b[0;31m         \u001b[0mself\u001b[0m\u001b[0;34m.\u001b[0m\u001b[0m_set_model_layers\u001b[0m\u001b[0;34m(\u001b[0m\u001b[0mX\u001b[0m\u001b[0;34m=\u001b[0m\u001b[0mX\u001b[0m\u001b[0;34m,\u001b[0m \u001b[0mts_sz\u001b[0m\u001b[0;34m=\u001b[0m\u001b[0msz\u001b[0m\u001b[0;34m,\u001b[0m \u001b[0md\u001b[0m\u001b[0;34m=\u001b[0m\u001b[0md\u001b[0m\u001b[0;34m,\u001b[0m \u001b[0mn_classes\u001b[0m\u001b[0;34m=\u001b[0m\u001b[0mn_classes\u001b[0m\u001b[0;34m)\u001b[0m\u001b[0;34m\u001b[0m\u001b[0;34m\u001b[0m\u001b[0m\n\u001b[0m\u001b[1;32m    425\u001b[0m         self.transformer_model_.compile(loss=\"mean_squared_error\",\n\u001b[1;32m    426\u001b[0m                                         optimizer=self.optimizer)\n",
      "\u001b[0;32m~/anaconda3/envs/lasts_01/lib/python3.6/site-packages/tslearn/shapelets.py\u001b[0m in \u001b[0;36m_set_model_layers\u001b[0;34m(self, X, ts_sz, d, n_classes)\u001b[0m\n\u001b[1;32m    565\u001b[0m                     \u001b[0mself\u001b[0m\u001b[0;34m.\u001b[0m\u001b[0mn_shapelets_per_size_\u001b[0m\u001b[0;34m[\u001b[0m\u001b[0msz\u001b[0m\u001b[0;34m]\u001b[0m\u001b[0;34m,\u001b[0m \u001b[0mX\u001b[0m\u001b[0;34m=\u001b[0m\u001b[0mX\u001b[0m\u001b[0;34m,\u001b[0m\u001b[0;34m\u001b[0m\u001b[0;34m\u001b[0m\u001b[0m\n\u001b[1;32m    566\u001b[0m                     \u001b[0mname\u001b[0m\u001b[0;34m=\u001b[0m\u001b[0;34m\"shapelets_%d_%d\"\u001b[0m \u001b[0;34m%\u001b[0m \u001b[0;34m(\u001b[0m\u001b[0mi\u001b[0m\u001b[0;34m,\u001b[0m \u001b[0mdi\u001b[0m\u001b[0;34m)\u001b[0m\u001b[0;34m\u001b[0m\u001b[0;34m\u001b[0m\u001b[0m\n\u001b[0;32m--> 567\u001b[0;31m                 )(transformer_layers[di]) for di in range(d)\n\u001b[0m\u001b[1;32m    568\u001b[0m             ]\n\u001b[1;32m    569\u001b[0m \u001b[0;34m\u001b[0m\u001b[0m\n",
      "\u001b[0;32m~/anaconda3/envs/lasts_01/lib/python3.6/site-packages/tslearn/shapelets.py\u001b[0m in \u001b[0;36m<listcomp>\u001b[0;34m(.0)\u001b[0m\n\u001b[1;32m    565\u001b[0m                     \u001b[0mself\u001b[0m\u001b[0;34m.\u001b[0m\u001b[0mn_shapelets_per_size_\u001b[0m\u001b[0;34m[\u001b[0m\u001b[0msz\u001b[0m\u001b[0;34m]\u001b[0m\u001b[0;34m,\u001b[0m \u001b[0mX\u001b[0m\u001b[0;34m=\u001b[0m\u001b[0mX\u001b[0m\u001b[0;34m,\u001b[0m\u001b[0;34m\u001b[0m\u001b[0;34m\u001b[0m\u001b[0m\n\u001b[1;32m    566\u001b[0m                     \u001b[0mname\u001b[0m\u001b[0;34m=\u001b[0m\u001b[0;34m\"shapelets_%d_%d\"\u001b[0m \u001b[0;34m%\u001b[0m \u001b[0;34m(\u001b[0m\u001b[0mi\u001b[0m\u001b[0;34m,\u001b[0m \u001b[0mdi\u001b[0m\u001b[0;34m)\u001b[0m\u001b[0;34m\u001b[0m\u001b[0;34m\u001b[0m\u001b[0m\n\u001b[0;32m--> 567\u001b[0;31m                 )(transformer_layers[di]) for di in range(d)\n\u001b[0m\u001b[1;32m    568\u001b[0m             ]\n\u001b[1;32m    569\u001b[0m \u001b[0;34m\u001b[0m\u001b[0m\n",
      "\u001b[0;32m~/anaconda3/envs/lasts_01/lib/python3.6/site-packages/keras/engine/base_layer.py\u001b[0m in \u001b[0;36m__call__\u001b[0;34m(self, inputs, **kwargs)\u001b[0m\n\u001b[1;32m    423\u001b[0m                                          \u001b[0;34m'You can build it manually via: '\u001b[0m\u001b[0;34m\u001b[0m\u001b[0;34m\u001b[0m\u001b[0m\n\u001b[1;32m    424\u001b[0m                                          '`layer.build(batch_input_shape)`')\n\u001b[0;32m--> 425\u001b[0;31m                 \u001b[0mself\u001b[0m\u001b[0;34m.\u001b[0m\u001b[0mbuild\u001b[0m\u001b[0;34m(\u001b[0m\u001b[0munpack_singleton\u001b[0m\u001b[0;34m(\u001b[0m\u001b[0minput_shapes\u001b[0m\u001b[0;34m)\u001b[0m\u001b[0;34m)\u001b[0m\u001b[0;34m\u001b[0m\u001b[0;34m\u001b[0m\u001b[0m\n\u001b[0m\u001b[1;32m    426\u001b[0m                 \u001b[0mself\u001b[0m\u001b[0;34m.\u001b[0m\u001b[0mbuilt\u001b[0m \u001b[0;34m=\u001b[0m \u001b[0;32mTrue\u001b[0m\u001b[0;34m\u001b[0m\u001b[0;34m\u001b[0m\u001b[0m\n\u001b[1;32m    427\u001b[0m \u001b[0;34m\u001b[0m\u001b[0m\n",
      "\u001b[0;32m~/anaconda3/envs/lasts_01/lib/python3.6/site-packages/tslearn/shapelets.py\u001b[0m in \u001b[0;36mbuild\u001b[0;34m(self, input_shape)\u001b[0m\n\u001b[1;32m    126\u001b[0m                                       \u001b[0mshape\u001b[0m\u001b[0;34m=\u001b[0m\u001b[0;34m(\u001b[0m\u001b[0mself\u001b[0m\u001b[0;34m.\u001b[0m\u001b[0mn_shapelets\u001b[0m\u001b[0;34m,\u001b[0m \u001b[0minput_shape\u001b[0m\u001b[0;34m[\u001b[0m\u001b[0;36m2\u001b[0m\u001b[0;34m]\u001b[0m\u001b[0;34m)\u001b[0m\u001b[0;34m,\u001b[0m\u001b[0;34m\u001b[0m\u001b[0;34m\u001b[0m\u001b[0m\n\u001b[1;32m    127\u001b[0m                                       \u001b[0minitializer\u001b[0m\u001b[0;34m=\u001b[0m\u001b[0mself\u001b[0m\u001b[0;34m.\u001b[0m\u001b[0minitializer\u001b[0m\u001b[0;34m,\u001b[0m\u001b[0;34m\u001b[0m\u001b[0;34m\u001b[0m\u001b[0m\n\u001b[0;32m--> 128\u001b[0;31m                                       trainable=True)\n\u001b[0m\u001b[1;32m    129\u001b[0m         \u001b[0msuper\u001b[0m\u001b[0;34m(\u001b[0m\u001b[0mLocalSquaredDistanceLayer\u001b[0m\u001b[0;34m,\u001b[0m \u001b[0mself\u001b[0m\u001b[0;34m)\u001b[0m\u001b[0;34m.\u001b[0m\u001b[0mbuild\u001b[0m\u001b[0;34m(\u001b[0m\u001b[0minput_shape\u001b[0m\u001b[0;34m)\u001b[0m\u001b[0;34m\u001b[0m\u001b[0;34m\u001b[0m\u001b[0m\n\u001b[1;32m    130\u001b[0m \u001b[0;34m\u001b[0m\u001b[0m\n",
      "\u001b[0;32m~/anaconda3/envs/lasts_01/lib/python3.6/site-packages/keras/legacy/interfaces.py\u001b[0m in \u001b[0;36mwrapper\u001b[0;34m(*args, **kwargs)\u001b[0m\n\u001b[1;32m     89\u001b[0m                 warnings.warn('Update your `' + object_name + '` call to the ' +\n\u001b[1;32m     90\u001b[0m                               'Keras 2 API: ' + signature, stacklevel=2)\n\u001b[0;32m---> 91\u001b[0;31m             \u001b[0;32mreturn\u001b[0m \u001b[0mfunc\u001b[0m\u001b[0;34m(\u001b[0m\u001b[0;34m*\u001b[0m\u001b[0margs\u001b[0m\u001b[0;34m,\u001b[0m \u001b[0;34m**\u001b[0m\u001b[0mkwargs\u001b[0m\u001b[0;34m)\u001b[0m\u001b[0;34m\u001b[0m\u001b[0;34m\u001b[0m\u001b[0m\n\u001b[0m\u001b[1;32m     92\u001b[0m         \u001b[0mwrapper\u001b[0m\u001b[0;34m.\u001b[0m\u001b[0m_original_function\u001b[0m \u001b[0;34m=\u001b[0m \u001b[0mfunc\u001b[0m\u001b[0;34m\u001b[0m\u001b[0;34m\u001b[0m\u001b[0m\n\u001b[1;32m     93\u001b[0m         \u001b[0;32mreturn\u001b[0m \u001b[0mwrapper\u001b[0m\u001b[0;34m\u001b[0m\u001b[0;34m\u001b[0m\u001b[0m\n",
      "\u001b[0;32m~/anaconda3/envs/lasts_01/lib/python3.6/site-packages/keras/engine/base_layer.py\u001b[0m in \u001b[0;36madd_weight\u001b[0;34m(self, name, shape, dtype, initializer, regularizer, trainable, constraint)\u001b[0m\n\u001b[1;32m    241\u001b[0m         \u001b[0;32mif\u001b[0m \u001b[0mdtype\u001b[0m \u001b[0;32mis\u001b[0m \u001b[0;32mNone\u001b[0m\u001b[0;34m:\u001b[0m\u001b[0;34m\u001b[0m\u001b[0;34m\u001b[0m\u001b[0m\n\u001b[1;32m    242\u001b[0m             \u001b[0mdtype\u001b[0m \u001b[0;34m=\u001b[0m \u001b[0mself\u001b[0m\u001b[0;34m.\u001b[0m\u001b[0mdtype\u001b[0m\u001b[0;34m\u001b[0m\u001b[0;34m\u001b[0m\u001b[0m\n\u001b[0;32m--> 243\u001b[0;31m         weight = K.variable(initializer(shape, dtype=dtype),\n\u001b[0m\u001b[1;32m    244\u001b[0m                             \u001b[0mdtype\u001b[0m\u001b[0;34m=\u001b[0m\u001b[0mdtype\u001b[0m\u001b[0;34m,\u001b[0m\u001b[0;34m\u001b[0m\u001b[0;34m\u001b[0m\u001b[0m\n\u001b[1;32m    245\u001b[0m                             \u001b[0mname\u001b[0m\u001b[0;34m=\u001b[0m\u001b[0mname\u001b[0m\u001b[0;34m,\u001b[0m\u001b[0;34m\u001b[0m\u001b[0;34m\u001b[0m\u001b[0m\n",
      "\u001b[0;32m~/anaconda3/envs/lasts_01/lib/python3.6/site-packages/tslearn/shapelets.py\u001b[0m in \u001b[0;36m__call__\u001b[0;34m(self, shape, dtype)\u001b[0m\n\u001b[1;32m     96\u001b[0m         shapelets = _kmeans_init_shapelets(self.X_,\n\u001b[1;32m     97\u001b[0m                                            \u001b[0mn_shapelets\u001b[0m\u001b[0;34m,\u001b[0m\u001b[0;34m\u001b[0m\u001b[0;34m\u001b[0m\u001b[0m\n\u001b[0;32m---> 98\u001b[0;31m                                            shp_len)[:, :, 0]\n\u001b[0m\u001b[1;32m     99\u001b[0m         \u001b[0;32mreturn\u001b[0m \u001b[0mK\u001b[0m\u001b[0;34m.\u001b[0m\u001b[0mtensorflow_backend\u001b[0m\u001b[0;34m.\u001b[0m\u001b[0m_to_tensor\u001b[0m\u001b[0;34m(\u001b[0m\u001b[0mx\u001b[0m\u001b[0;34m=\u001b[0m\u001b[0mshapelets\u001b[0m\u001b[0;34m,\u001b[0m \u001b[0mdtype\u001b[0m\u001b[0;34m=\u001b[0m\u001b[0mK\u001b[0m\u001b[0;34m.\u001b[0m\u001b[0mfloatx\u001b[0m\u001b[0;34m(\u001b[0m\u001b[0;34m)\u001b[0m\u001b[0;34m)\u001b[0m\u001b[0;34m\u001b[0m\u001b[0;34m\u001b[0m\u001b[0m\n\u001b[1;32m    100\u001b[0m \u001b[0;34m\u001b[0m\u001b[0m\n",
      "\u001b[0;32m~/anaconda3/envs/lasts_01/lib/python3.6/site-packages/tslearn/shapelets.py\u001b[0m in \u001b[0;36m_kmeans_init_shapelets\u001b[0;34m(X, n_shapelets, shp_len, n_draw)\u001b[0m\n\u001b[1;32m     79\u001b[0m     return TimeSeriesKMeans(n_clusters=n_shapelets,\n\u001b[1;32m     80\u001b[0m                             \u001b[0mmetric\u001b[0m\u001b[0;34m=\u001b[0m\u001b[0;34m\"euclidean\"\u001b[0m\u001b[0;34m,\u001b[0m\u001b[0;34m\u001b[0m\u001b[0;34m\u001b[0m\u001b[0m\n\u001b[0;32m---> 81\u001b[0;31m                             verbose=False).fit(subseries).cluster_centers_\n\u001b[0m\u001b[1;32m     82\u001b[0m \u001b[0;34m\u001b[0m\u001b[0m\n\u001b[1;32m     83\u001b[0m \u001b[0;34m\u001b[0m\u001b[0m\n",
      "\u001b[0;32m~/anaconda3/envs/lasts_01/lib/python3.6/site-packages/tslearn/clustering.py\u001b[0m in \u001b[0;36mfit\u001b[0;34m(self, X, y)\u001b[0m\n\u001b[1;32m    785\u001b[0m                     \u001b[0mprint\u001b[0m\u001b[0;34m(\u001b[0m\u001b[0;34m\"Init %d\"\u001b[0m \u001b[0;34m%\u001b[0m \u001b[0;34m(\u001b[0m\u001b[0mn_successful\u001b[0m \u001b[0;34m+\u001b[0m \u001b[0;36m1\u001b[0m\u001b[0;34m)\u001b[0m\u001b[0;34m)\u001b[0m\u001b[0;34m\u001b[0m\u001b[0;34m\u001b[0m\u001b[0m\n\u001b[1;32m    786\u001b[0m                 \u001b[0mn_attempts\u001b[0m \u001b[0;34m+=\u001b[0m \u001b[0;36m1\u001b[0m\u001b[0;34m\u001b[0m\u001b[0;34m\u001b[0m\u001b[0m\n\u001b[0;32m--> 787\u001b[0;31m                 \u001b[0mself\u001b[0m\u001b[0;34m.\u001b[0m\u001b[0m_fit_one_init\u001b[0m\u001b[0;34m(\u001b[0m\u001b[0mX_\u001b[0m\u001b[0;34m,\u001b[0m \u001b[0mx_squared_norms\u001b[0m\u001b[0;34m,\u001b[0m \u001b[0mrs\u001b[0m\u001b[0;34m)\u001b[0m\u001b[0;34m\u001b[0m\u001b[0;34m\u001b[0m\u001b[0m\n\u001b[0m\u001b[1;32m    788\u001b[0m                 \u001b[0;32mif\u001b[0m \u001b[0mself\u001b[0m\u001b[0;34m.\u001b[0m\u001b[0minertia_\u001b[0m \u001b[0;34m<\u001b[0m \u001b[0mmin_inertia\u001b[0m\u001b[0;34m:\u001b[0m\u001b[0;34m\u001b[0m\u001b[0;34m\u001b[0m\u001b[0m\n\u001b[1;32m    789\u001b[0m                     \u001b[0mbest_correct_centroids\u001b[0m \u001b[0;34m=\u001b[0m \u001b[0mself\u001b[0m\u001b[0;34m.\u001b[0m\u001b[0mcluster_centers_\u001b[0m\u001b[0;34m.\u001b[0m\u001b[0mcopy\u001b[0m\u001b[0;34m(\u001b[0m\u001b[0;34m)\u001b[0m\u001b[0;34m\u001b[0m\u001b[0;34m\u001b[0m\u001b[0m\n",
      "\u001b[0;32m~/anaconda3/envs/lasts_01/lib/python3.6/site-packages/tslearn/clustering.py\u001b[0m in \u001b[0;36m_fit_one_init\u001b[0;34m(self, X, x_squared_norms, rs)\u001b[0m\n\u001b[1;32m    672\u001b[0m             \u001b[0;32mif\u001b[0m \u001b[0mself\u001b[0m\u001b[0;34m.\u001b[0m\u001b[0mverbose\u001b[0m\u001b[0;34m:\u001b[0m\u001b[0;34m\u001b[0m\u001b[0;34m\u001b[0m\u001b[0m\n\u001b[1;32m    673\u001b[0m                 \u001b[0mprint\u001b[0m\u001b[0;34m(\u001b[0m\u001b[0;34m\"%.3f\"\u001b[0m \u001b[0;34m%\u001b[0m \u001b[0mself\u001b[0m\u001b[0;34m.\u001b[0m\u001b[0minertia_\u001b[0m\u001b[0;34m,\u001b[0m \u001b[0mend\u001b[0m\u001b[0;34m=\u001b[0m\u001b[0;34m\" --> \"\u001b[0m\u001b[0;34m)\u001b[0m\u001b[0;34m\u001b[0m\u001b[0;34m\u001b[0m\u001b[0m\n\u001b[0;32m--> 674\u001b[0;31m             \u001b[0mself\u001b[0m\u001b[0;34m.\u001b[0m\u001b[0m_update_centroids\u001b[0m\u001b[0;34m(\u001b[0m\u001b[0mX\u001b[0m\u001b[0;34m)\u001b[0m\u001b[0;34m\u001b[0m\u001b[0;34m\u001b[0m\u001b[0m\n\u001b[0m\u001b[1;32m    675\u001b[0m \u001b[0;34m\u001b[0m\u001b[0m\n\u001b[1;32m    676\u001b[0m             \u001b[0;32mif\u001b[0m \u001b[0mnumpy\u001b[0m\u001b[0;34m.\u001b[0m\u001b[0mabs\u001b[0m\u001b[0;34m(\u001b[0m\u001b[0mold_inertia\u001b[0m \u001b[0;34m-\u001b[0m \u001b[0mself\u001b[0m\u001b[0;34m.\u001b[0m\u001b[0minertia_\u001b[0m\u001b[0;34m)\u001b[0m \u001b[0;34m<\u001b[0m \u001b[0mself\u001b[0m\u001b[0;34m.\u001b[0m\u001b[0mtol\u001b[0m\u001b[0;34m:\u001b[0m\u001b[0;34m\u001b[0m\u001b[0;34m\u001b[0m\u001b[0m\n",
      "\u001b[0;32m~/anaconda3/envs/lasts_01/lib/python3.6/site-packages/tslearn/clustering.py\u001b[0m in \u001b[0;36m_update_centroids\u001b[0;34m(self, X)\u001b[0m\n\u001b[1;32m    743\u001b[0m             \u001b[0;32melse\u001b[0m\u001b[0;34m:\u001b[0m\u001b[0;34m\u001b[0m\u001b[0;34m\u001b[0m\u001b[0m\n\u001b[1;32m    744\u001b[0m                 self.cluster_centers_[k] = euclidean_barycenter(\n\u001b[0;32m--> 745\u001b[0;31m                     X=X[self.labels_ == k])\n\u001b[0m\u001b[1;32m    746\u001b[0m \u001b[0;34m\u001b[0m\u001b[0m\n\u001b[1;32m    747\u001b[0m     \u001b[0;32mdef\u001b[0m \u001b[0mfit\u001b[0m\u001b[0;34m(\u001b[0m\u001b[0mself\u001b[0m\u001b[0;34m,\u001b[0m \u001b[0mX\u001b[0m\u001b[0;34m,\u001b[0m \u001b[0my\u001b[0m\u001b[0;34m=\u001b[0m\u001b[0;32mNone\u001b[0m\u001b[0;34m)\u001b[0m\u001b[0;34m:\u001b[0m\u001b[0;34m\u001b[0m\u001b[0;34m\u001b[0m\u001b[0m\n",
      "\u001b[0;32m~/anaconda3/envs/lasts_01/lib/python3.6/site-packages/tslearn/barycenters.py\u001b[0m in \u001b[0;36meuclidean_barycenter\u001b[0;34m(X, weights)\u001b[0m\n\u001b[1;32m     63\u001b[0m            [4.5]])\n\u001b[1;32m     64\u001b[0m     \"\"\"\n\u001b[0;32m---> 65\u001b[0;31m     \u001b[0mX_\u001b[0m \u001b[0;34m=\u001b[0m \u001b[0mto_time_series_dataset\u001b[0m\u001b[0;34m(\u001b[0m\u001b[0mX\u001b[0m\u001b[0;34m)\u001b[0m\u001b[0;34m\u001b[0m\u001b[0;34m\u001b[0m\u001b[0m\n\u001b[0m\u001b[1;32m     66\u001b[0m     \u001b[0mweights\u001b[0m \u001b[0;34m=\u001b[0m \u001b[0m_set_weights\u001b[0m\u001b[0;34m(\u001b[0m\u001b[0mweights\u001b[0m\u001b[0;34m,\u001b[0m \u001b[0mX_\u001b[0m\u001b[0;34m.\u001b[0m\u001b[0mshape\u001b[0m\u001b[0;34m[\u001b[0m\u001b[0;36m0\u001b[0m\u001b[0;34m]\u001b[0m\u001b[0;34m)\u001b[0m\u001b[0;34m\u001b[0m\u001b[0;34m\u001b[0m\u001b[0m\n\u001b[1;32m     67\u001b[0m     \u001b[0;32mreturn\u001b[0m \u001b[0mnumpy\u001b[0m\u001b[0;34m.\u001b[0m\u001b[0maverage\u001b[0m\u001b[0;34m(\u001b[0m\u001b[0mX_\u001b[0m\u001b[0;34m,\u001b[0m \u001b[0maxis\u001b[0m\u001b[0;34m=\u001b[0m\u001b[0;36m0\u001b[0m\u001b[0;34m,\u001b[0m \u001b[0mweights\u001b[0m\u001b[0;34m=\u001b[0m\u001b[0mweights\u001b[0m\u001b[0;34m)\u001b[0m\u001b[0;34m\u001b[0m\u001b[0;34m\u001b[0m\u001b[0m\n",
      "\u001b[0;32m~/anaconda3/envs/lasts_01/lib/python3.6/site-packages/tslearn/utils.py\u001b[0m in \u001b[0;36mto_time_series_dataset\u001b[0;34m(dataset, dtype)\u001b[0m\n\u001b[1;32m    188\u001b[0m         \u001b[0mdataset\u001b[0m \u001b[0;34m=\u001b[0m \u001b[0;34m[\u001b[0m\u001b[0mdataset\u001b[0m\u001b[0;34m]\u001b[0m\u001b[0;34m\u001b[0m\u001b[0;34m\u001b[0m\u001b[0m\n\u001b[1;32m    189\u001b[0m     \u001b[0mn_ts\u001b[0m \u001b[0;34m=\u001b[0m \u001b[0mlen\u001b[0m\u001b[0;34m(\u001b[0m\u001b[0mdataset\u001b[0m\u001b[0;34m)\u001b[0m\u001b[0;34m\u001b[0m\u001b[0;34m\u001b[0m\u001b[0m\n\u001b[0;32m--> 190\u001b[0;31m     \u001b[0mmax_sz\u001b[0m \u001b[0;34m=\u001b[0m \u001b[0mmax\u001b[0m\u001b[0;34m(\u001b[0m\u001b[0;34m[\u001b[0m\u001b[0mts_size\u001b[0m\u001b[0;34m(\u001b[0m\u001b[0mto_time_series\u001b[0m\u001b[0;34m(\u001b[0m\u001b[0mts\u001b[0m\u001b[0;34m)\u001b[0m\u001b[0;34m)\u001b[0m \u001b[0;32mfor\u001b[0m \u001b[0mts\u001b[0m \u001b[0;32min\u001b[0m \u001b[0mdataset\u001b[0m\u001b[0;34m]\u001b[0m\u001b[0;34m)\u001b[0m\u001b[0;34m\u001b[0m\u001b[0;34m\u001b[0m\u001b[0m\n\u001b[0m\u001b[1;32m    191\u001b[0m     \u001b[0md\u001b[0m \u001b[0;34m=\u001b[0m \u001b[0mto_time_series\u001b[0m\u001b[0;34m(\u001b[0m\u001b[0mdataset\u001b[0m\u001b[0;34m[\u001b[0m\u001b[0;36m0\u001b[0m\u001b[0;34m]\u001b[0m\u001b[0;34m)\u001b[0m\u001b[0;34m.\u001b[0m\u001b[0mshape\u001b[0m\u001b[0;34m[\u001b[0m\u001b[0;36m1\u001b[0m\u001b[0;34m]\u001b[0m\u001b[0;34m\u001b[0m\u001b[0;34m\u001b[0m\u001b[0m\n\u001b[1;32m    192\u001b[0m     \u001b[0mdataset_out\u001b[0m \u001b[0;34m=\u001b[0m \u001b[0mnumpy\u001b[0m\u001b[0;34m.\u001b[0m\u001b[0mzeros\u001b[0m\u001b[0;34m(\u001b[0m\u001b[0;34m(\u001b[0m\u001b[0mn_ts\u001b[0m\u001b[0;34m,\u001b[0m \u001b[0mmax_sz\u001b[0m\u001b[0;34m,\u001b[0m \u001b[0md\u001b[0m\u001b[0;34m)\u001b[0m\u001b[0;34m,\u001b[0m \u001b[0mdtype\u001b[0m\u001b[0;34m=\u001b[0m\u001b[0mdtype\u001b[0m\u001b[0;34m)\u001b[0m \u001b[0;34m+\u001b[0m \u001b[0mnumpy\u001b[0m\u001b[0;34m.\u001b[0m\u001b[0mnan\u001b[0m\u001b[0;34m\u001b[0m\u001b[0;34m\u001b[0m\u001b[0m\n",
      "\u001b[0;32m~/anaconda3/envs/lasts_01/lib/python3.6/site-packages/tslearn/utils.py\u001b[0m in \u001b[0;36m<listcomp>\u001b[0;34m(.0)\u001b[0m\n\u001b[1;32m    188\u001b[0m         \u001b[0mdataset\u001b[0m \u001b[0;34m=\u001b[0m \u001b[0;34m[\u001b[0m\u001b[0mdataset\u001b[0m\u001b[0;34m]\u001b[0m\u001b[0;34m\u001b[0m\u001b[0;34m\u001b[0m\u001b[0m\n\u001b[1;32m    189\u001b[0m     \u001b[0mn_ts\u001b[0m \u001b[0;34m=\u001b[0m \u001b[0mlen\u001b[0m\u001b[0;34m(\u001b[0m\u001b[0mdataset\u001b[0m\u001b[0;34m)\u001b[0m\u001b[0;34m\u001b[0m\u001b[0;34m\u001b[0m\u001b[0m\n\u001b[0;32m--> 190\u001b[0;31m     \u001b[0mmax_sz\u001b[0m \u001b[0;34m=\u001b[0m \u001b[0mmax\u001b[0m\u001b[0;34m(\u001b[0m\u001b[0;34m[\u001b[0m\u001b[0mts_size\u001b[0m\u001b[0;34m(\u001b[0m\u001b[0mto_time_series\u001b[0m\u001b[0;34m(\u001b[0m\u001b[0mts\u001b[0m\u001b[0;34m)\u001b[0m\u001b[0;34m)\u001b[0m \u001b[0;32mfor\u001b[0m \u001b[0mts\u001b[0m \u001b[0;32min\u001b[0m \u001b[0mdataset\u001b[0m\u001b[0;34m]\u001b[0m\u001b[0;34m)\u001b[0m\u001b[0;34m\u001b[0m\u001b[0;34m\u001b[0m\u001b[0m\n\u001b[0m\u001b[1;32m    191\u001b[0m     \u001b[0md\u001b[0m \u001b[0;34m=\u001b[0m \u001b[0mto_time_series\u001b[0m\u001b[0;34m(\u001b[0m\u001b[0mdataset\u001b[0m\u001b[0;34m[\u001b[0m\u001b[0;36m0\u001b[0m\u001b[0;34m]\u001b[0m\u001b[0;34m)\u001b[0m\u001b[0;34m.\u001b[0m\u001b[0mshape\u001b[0m\u001b[0;34m[\u001b[0m\u001b[0;36m1\u001b[0m\u001b[0;34m]\u001b[0m\u001b[0;34m\u001b[0m\u001b[0;34m\u001b[0m\u001b[0m\n\u001b[1;32m    192\u001b[0m     \u001b[0mdataset_out\u001b[0m \u001b[0;34m=\u001b[0m \u001b[0mnumpy\u001b[0m\u001b[0;34m.\u001b[0m\u001b[0mzeros\u001b[0m\u001b[0;34m(\u001b[0m\u001b[0;34m(\u001b[0m\u001b[0mn_ts\u001b[0m\u001b[0;34m,\u001b[0m \u001b[0mmax_sz\u001b[0m\u001b[0;34m,\u001b[0m \u001b[0md\u001b[0m\u001b[0;34m)\u001b[0m\u001b[0;34m,\u001b[0m \u001b[0mdtype\u001b[0m\u001b[0;34m=\u001b[0m\u001b[0mdtype\u001b[0m\u001b[0;34m)\u001b[0m \u001b[0;34m+\u001b[0m \u001b[0mnumpy\u001b[0m\u001b[0;34m.\u001b[0m\u001b[0mnan\u001b[0m\u001b[0;34m\u001b[0m\u001b[0;34m\u001b[0m\u001b[0m\n",
      "\u001b[0;31mKeyboardInterrupt\u001b[0m: "
     ]
    }
   ],
   "source": [
    "out = multiple_surrogate_fitting(\n",
    "        lasts_list,\n",
    "        neighborhood_name=\"gaussian_matched\",\n",
    "        surrogate_list=[Sbgdt],\n",
    "        surrogate_kwargs_list=surrogate_kwargs_list,\n",
    "        surrogate_names=[\"sbgdt_plus\"],\n",
    "        file_path=file_path,\n",
    "        verbose=True,\n",
    "        simple_dump=[False]\n",
    ")"
   ]
  }
 ],
 "metadata": {
  "kernelspec": {
   "display_name": "Python 3",
   "language": "python",
   "name": "python3"
  },
  "language_info": {
   "codemirror_mode": {
    "name": "ipython",
    "version": 3
   },
   "file_extension": ".py",
   "mimetype": "text/x-python",
   "name": "python",
   "nbconvert_exporter": "python",
   "pygments_lexer": "ipython3",
   "version": "3.6.10"
  }
 },
 "nbformat": 4,
 "nbformat_minor": 2
}
